{
 "cells": [
  {
   "cell_type": "markdown",
   "id": "ee102f0d",
   "metadata": {},
   "source": [
    "#### 1. What is the estimated depth of a Decision Tree trained (unrestricted) on a one million instance training set ?"
   ]
  },
  {
   "cell_type": "code",
   "execution_count": null,
   "id": "5343042e",
   "metadata": {},
   "outputs": [],
   "source": []
  },
  {
   "cell_type": "markdown",
   "id": "4f7b3557",
   "metadata": {},
   "source": [
    "#### 2. Is the Gini impurity of a node usually lower or higher than that of its parent? Is it always lower/greater, or is it usually lower/greater ?"
   ]
  },
  {
   "cell_type": "code",
   "execution_count": null,
   "id": "56b46d26",
   "metadata": {},
   "outputs": [],
   "source": []
  },
  {
   "cell_type": "markdown",
   "id": "49341d68",
   "metadata": {},
   "source": [
    "#### 3. Explain if its a good idea to reduce max depth if a Decision Tree is overfitting the training set ?"
   ]
  },
  {
   "cell_type": "code",
   "execution_count": null,
   "id": "9becb561",
   "metadata": {},
   "outputs": [],
   "source": []
  },
  {
   "cell_type": "markdown",
   "id": "fe6260fc",
   "metadata": {},
   "source": [
    "#### 4. Explain if its a good idea to try scaling the input features if a Decision Tree underfits the training set ?"
   ]
  },
  {
   "cell_type": "code",
   "execution_count": null,
   "id": "d31a14ac",
   "metadata": {},
   "outputs": [],
   "source": []
  },
  {
   "cell_type": "markdown",
   "id": "109dd5d1",
   "metadata": {},
   "source": [
    "#### 5. How much time will it take to train another Decision Tree on a training set of 10 million instances if it takes an hour to train a Decision Tree on a training set with 1 million instances ?\n"
   ]
  },
  {
   "cell_type": "code",
   "execution_count": null,
   "id": "6eca8e3e",
   "metadata": {},
   "outputs": [],
   "source": []
  },
  {
   "cell_type": "markdown",
   "id": "33357068",
   "metadata": {},
   "source": [
    "#### 6. Will setting presort=True speed up training if your training set has 100,000 instances ?"
   ]
  },
  {
   "cell_type": "code",
   "execution_count": null,
   "id": "d061482b",
   "metadata": {},
   "outputs": [],
   "source": []
  },
  {
   "cell_type": "markdown",
   "id": "02f08edd",
   "metadata": {},
   "source": [
    "#### 7. Follow these steps to train and fine-tune a Decision Tree for the moons dataset:\n",
    "1. To build a moons dataset, use make moons(n samples=10000, noise=0.4).\n",
    "2. Divide the dataset into a training and a test collection with train test split().\n",
    "3. To find good hyperparameters values for a DecisionTreeClassifier, use grid search with cross-validation (with the GridSearchCV class). Try different values for max leaf nodes.\n",
    "4. Use these hyperparameters to train the model on the entire training set, and then assess its output on the test set. You can achieve an accuracy of 85 to 87 percent."
   ]
  },
  {
   "cell_type": "code",
   "execution_count": null,
   "id": "fd4dbdd0",
   "metadata": {},
   "outputs": [],
   "source": []
  },
  {
   "cell_type": "markdown",
   "id": "55bc4620",
   "metadata": {},
   "source": [
    "#### 8. Follow these steps to grow a forest:\n",
    "1. Using the same method as before, create 1,000 subsets of the training set, each containing 100 instances chosen at random. You can do this with Scikit-ShuffleSplit Learn's class.\n",
    "2.  Using the best hyperparameter values found in the previous exercise, train one Decision Tree on each subset. On the test collection, evaluate these 1,000 Decision Trees. These Decision Trees would likely perform worse than the first Decision Tree, achieving only around 80% accuracy, since they were trained on smaller sets.\n",
    "4. Now the magic begins. Create 1,000 Decision Tree predictions for each test set case, and keep only the most common prediction (you can do this with SciPy's mode() function). Over the test collection, this method gives you majority-vote predictions.\n",
    "5. On the test range, evaluate these predictions: you should achieve a slightly higher accuracy than the first model (approx 0.5 to 1.5 percent higher). You've successfully learned a Random Forest classifier!\n"
   ]
  }
 ],
 "metadata": {
  "kernelspec": {
   "display_name": "Python 3 (ipykernel)",
   "language": "python",
   "name": "python3"
  },
  "language_info": {
   "codemirror_mode": {
    "name": "ipython",
    "version": 3
   },
   "file_extension": ".py",
   "mimetype": "text/x-python",
   "name": "python",
   "nbconvert_exporter": "python",
   "pygments_lexer": "ipython3",
   "version": "3.9.7"
  }
 },
 "nbformat": 4,
 "nbformat_minor": 5
}

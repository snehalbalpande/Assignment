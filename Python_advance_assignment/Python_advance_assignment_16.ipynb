{
 "cells": [
  {
   "cell_type": "markdown",
   "id": "6855ab24",
   "metadata": {},
   "source": [
    "Q1.What is the benefit of regular expressions?\n",
    "\n",
    "ANS:- A regular expression is a special sequence of characters that helps you match or find other strings or sets of strings"
   ]
  },
  {
   "cell_type": "markdown",
   "id": "9db7416a",
   "metadata": {},
   "source": [
    "Q2.Describe the difference between the effects of \"(ab)c+\" and \"a(bc)+.\" Which of these, if any, is the unqualified pattern \"abc+\"?\n",
    "\n",
    "ANS:- \n",
    "\"(ab)c+\" : it will search one occurence of ab and one or more occurence of c\n",
    "\n",
    "\"a(bc)+\" : it will search one occurence of a and one or more occurence of bc\n",
    "\n",
    "\"a(bc)+\" is the unqualified pattern of \"abc+\""
   ]
  },
  {
   "cell_type": "markdown",
   "id": "c3f65233",
   "metadata": {},
   "source": [
    "Q3.How much do you need to use the following sentence while using regular expressions?\n",
    "\n",
    "ANS:- import re\n",
    "\n",
    "one time"
   ]
  },
  {
   "cell_type": "markdown",
   "id": "b910a0ee",
   "metadata": {},
   "source": [
    "Q4.Which characters have special significance in square brackets when expressing a range, and under what circumstances?\n",
    "\n",
    "ANS:- \\ (backslash) : general escape character, is usd when you use character class metacharacters as literals inside a character class only.\n",
    "\n",
    "^ (circumflex anchor) : negate the class, if this is the first character in the brackets(If ^ is not the first, it is not a metacharacter.)\n",
    "\n",
    "hyphen-A hyphen '-' indicates a character range inside a character class."
   ]
  },
  {
   "cell_type": "markdown",
   "id": "c9a056af",
   "metadata": {},
   "source": [
    "Q5.How does compiling a regular-expression object benefit you?\n",
    "\n",
    "ANS:- We can combine a regular expression pattern into pattern objects, which can be used for pattern matching. It also helps to search a pattern again without rewriting it."
   ]
  },
  {
   "cell_type": "markdown",
   "id": "f4e0dea7",
   "metadata": {},
   "source": [
    "Q6.What are some examples of how to use the match object returned by re.match and re.search?\n",
    "\n",
    "ANS:- re.search() searches for the whole string even if the string contains multi-lines and tries to find a match of the substring in all the lines of string\n",
    "\n",
    "re.match() searches only from the beginning of the string and return match object if found. But if a match of substring is found somewhere in the middle of the string, it returns none."
   ]
  },
  {
   "cell_type": "code",
   "execution_count": 9,
   "id": "c588372e",
   "metadata": {},
   "outputs": [
    {
     "name": "stdout",
     "output_type": "stream",
     "text": [
      "<re.Match object; span=(0, 5), match='India'>\n",
      "None\n"
     ]
    }
   ],
   "source": [
    "import re\n",
    "\n",
    "pattern = 'india'\n",
    "search=re.search(pattern, 'India is a country india', re.IGNORECASE)\n",
    "print(search)\n",
    "match=re.match(pattern, 'I live in India', re.IGNORECASE)\n",
    "print(match)"
   ]
  },
  {
   "cell_type": "markdown",
   "id": "c73e06ce",
   "metadata": {},
   "source": [
    "Q7.What is the difference between using a vertical bar (|) as an alteration and using square brackets as a character set?\n",
    "\n",
    "ANS:- |- It helps to search one of two characters in a given string.\n",
    "\n",
    "[]- It helps to search any characters of the range in a given string"
   ]
  },
  {
   "cell_type": "markdown",
   "id": "d93687a6",
   "metadata": {},
   "source": [
    "Q8.In regular-expression search patterns, why is it necessary to use the raw-string indicator (r)? In replacement strings?\n",
    "\n",
    "ANS:- The issue with using a normal string to write regexes that contain a \\ is that you end up having to write \\ for every . raw-string gets especially useful if you want to write a regular expression that matches against backslashes."
   ]
  },
  {
   "cell_type": "code",
   "execution_count": null,
   "id": "ebdda93d",
   "metadata": {},
   "outputs": [],
   "source": []
  }
 ],
 "metadata": {
  "kernelspec": {
   "display_name": "Python 3 (ipykernel)",
   "language": "python",
   "name": "python3"
  },
  "language_info": {
   "codemirror_mode": {
    "name": "ipython",
    "version": 3
   },
   "file_extension": ".py",
   "mimetype": "text/x-python",
   "name": "python",
   "nbconvert_exporter": "python",
   "pygments_lexer": "ipython3",
   "version": "3.9.7"
  }
 },
 "nbformat": 4,
 "nbformat_minor": 5
}

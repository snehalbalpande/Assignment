{
 "cells": [
  {
   "cell_type": "markdown",
   "id": "7acc2184",
   "metadata": {},
   "source": [
    "Q1.Define the relationship between a class and its instances. Is it a one-to-one or a one-to-many partnership, for example?\n",
    "\n",
    "ANS:-Instances have the same property of classes. It is a one-to-many partnership."
   ]
  },
  {
   "cell_type": "markdown",
   "id": "307f366c",
   "metadata": {},
   "source": [
    "Q2.What kind of data is held only in an instance?\n",
    "\n",
    "ANS:-It stores data for variables"
   ]
  },
  {
   "cell_type": "markdown",
   "id": "4f56c950",
   "metadata": {},
   "source": [
    "Q3.What kind of knowledge is stored in a class?\n",
    "\n",
    "ANS:- Logic to perform any action is stored in a class"
   ]
  },
  {
   "cell_type": "markdown",
   "id": "45eb3638",
   "metadata": {},
   "source": [
    "Q4.What exactly is a method, and how is it different from a regular function?\n",
    "\n",
    "ANS:- A method is a function that “belongs to” an object.\n",
    "\n",
    "Function — a set of instructions that perform a task. Method — a set of instructions that are associated with an object."
   ]
  },
  {
   "cell_type": "markdown",
   "id": "9ccd2ba9",
   "metadata": {},
   "source": [
    "Q5.Is inheritance supported in Python, and if so, what is the syntax?\n",
    "\n",
    "ANS:- Yes inheritence is supported in python."
   ]
  },
  {
   "cell_type": "code",
   "execution_count": 2,
   "id": "4c4598ae",
   "metadata": {},
   "outputs": [],
   "source": [
    "class A:\n",
    "    pass\n",
    "class B(A): #inheritence\n",
    "    pass"
   ]
  },
  {
   "cell_type": "markdown",
   "id": "b325e348",
   "metadata": {},
   "source": [
    "Q6.How much encapsulation (making instance or class variables private) does Python support?\n",
    "\n",
    "ANS:- Python does not have the private keyword, unlike some other object oriented languages, but encapsulation can be done. Instead, it relies on the convention: a class variable that should not directly be accessed should be prefixed with an underscore."
   ]
  },
  {
   "cell_type": "markdown",
   "id": "7888b06b",
   "metadata": {},
   "source": [
    "Q7.How do you distinguish between a class variable and an instance variable?\n",
    "\n",
    "ANS:- class variable - Class variables can be accessed by calling with the class name\n",
    "\n",
    "Instance variable - Instance variables can be accessed directly by calling the variable name inside the class."
   ]
  },
  {
   "cell_type": "markdown",
   "id": "832cca73",
   "metadata": {},
   "source": [
    "Q8.When, if ever, can self be included in a class's method definitions?\n",
    "\n",
    "ANS:- self is included in every method of a class and it is the first argument of the method,"
   ]
  },
  {
   "cell_type": "markdown",
   "id": "fdc23e4b",
   "metadata": {},
   "source": [
    "Q9.What is the difference between the _ add _ and the _ radd _ methods?\n",
    "\n",
    "ANS:-  _ radd _ is only called if the left object does not have an _ add _ method, or that method does not know how to add the two objects"
   ]
  },
  {
   "cell_type": "code",
   "execution_count": 14,
   "id": "6dc62eb8",
   "metadata": {},
   "outputs": [
    {
     "ename": "TypeError",
     "evalue": "unsupported operand type(s) for +: 'X' and 'Y'",
     "output_type": "error",
     "traceback": [
      "\u001b[1;31m---------------------------------------------------------------------------\u001b[0m",
      "\u001b[1;31mTypeError\u001b[0m                                 Traceback (most recent call last)",
      "\u001b[1;32m~\\AppData\\Local\\Temp/ipykernel_13116/1995657242.py\u001b[0m in \u001b[0;36m<module>\u001b[1;34m\u001b[0m\n\u001b[0;32m     12\u001b[0m \u001b[0mx\u001b[0m \u001b[1;33m=\u001b[0m \u001b[0mX\u001b[0m\u001b[1;33m(\u001b[0m\u001b[1;36m2\u001b[0m\u001b[1;33m)\u001b[0m\u001b[1;33m\u001b[0m\u001b[1;33m\u001b[0m\u001b[0m\n\u001b[0;32m     13\u001b[0m \u001b[0my\u001b[0m \u001b[1;33m=\u001b[0m \u001b[0mY\u001b[0m\u001b[1;33m(\u001b[0m\u001b[1;36m3\u001b[0m\u001b[1;33m)\u001b[0m\u001b[1;33m\u001b[0m\u001b[1;33m\u001b[0m\u001b[0m\n\u001b[1;32m---> 14\u001b[1;33m \u001b[0mprint\u001b[0m\u001b[1;33m(\u001b[0m\u001b[0mx\u001b[0m\u001b[1;33m+\u001b[0m\u001b[0my\u001b[0m\u001b[1;33m)\u001b[0m\u001b[1;33m\u001b[0m\u001b[1;33m\u001b[0m\u001b[0m\n\u001b[0m",
      "\u001b[1;31mTypeError\u001b[0m: unsupported operand type(s) for +: 'X' and 'Y'"
     ]
    }
   ],
   "source": [
    "class X:\n",
    "  def __init__(self, num):\n",
    "    self.num = num\n",
    "    \n",
    "class Y:\n",
    "  def __init__(self, num):\n",
    "    self.num = num\n",
    "\n",
    "  def __add__(self, other_obj):\n",
    "    return self.num+other_obj.num\n",
    "\n",
    "x = X(2)\n",
    "y = Y(3)\n",
    "print(x+y)"
   ]
  },
  {
   "cell_type": "code",
   "execution_count": 15,
   "id": "3dd026b3",
   "metadata": {},
   "outputs": [
    {
     "name": "stdout",
     "output_type": "stream",
     "text": [
      "5\n"
     ]
    }
   ],
   "source": [
    "class X:\n",
    "  def __init__(self, num):\n",
    "    self.num = num\n",
    "    \n",
    "class Y:\n",
    "  def __init__(self, num):\n",
    "    self.num = num\n",
    "\n",
    "  def __radd__(self, other_obj):\n",
    "    return self.num+other_obj.num\n",
    "\n",
    "x = X(2)\n",
    "y = Y(3)\n",
    "print(x+y)"
   ]
  },
  {
   "cell_type": "markdown",
   "id": "44b648ef",
   "metadata": {},
   "source": [
    "Q10.When is it necessary to use a reflection method? When do you not need it, even though you support the operation in question?\n",
    "\n",
    "ANS:- Reflection refers to the ability for code to be able to examine attributes about objects that might be passed as parameters to a function. For example, if we write type(obj) then Python will return an object which represents the type of obj."
   ]
  },
  {
   "cell_type": "markdown",
   "id": "c167547f",
   "metadata": {},
   "source": [
    "Q11.What is the _ _iadd_ _ method called?\n",
    "\n",
    "ANS:- For overriding _ _iadd_ _ method is called like x+=y operation"
   ]
  },
  {
   "cell_type": "markdown",
   "id": "df2a0609",
   "metadata": {},
   "source": [
    "Q12.Is the _ init _ method inherited by subclasses? What do you do if you need to customize its behavior within a subclass?\n",
    "\n",
    "ANS:- yes _ init _ method is inherited by subclass"
   ]
  },
  {
   "cell_type": "code",
   "execution_count": 24,
   "id": "995a5fee",
   "metadata": {},
   "outputs": [],
   "source": [
    "class A:\n",
    "    def __init__(self,a):\n",
    "        self.a=a\n",
    "class B(A):\n",
    "    def __init__(self,b):\n",
    "        super(B,self).__init__(b)"
   ]
  },
  {
   "cell_type": "code",
   "execution_count": 25,
   "id": "b7a9ebaf",
   "metadata": {},
   "outputs": [
    {
     "data": {
      "text/plain": [
       "10"
      ]
     },
     "execution_count": 25,
     "metadata": {},
     "output_type": "execute_result"
    }
   ],
   "source": [
    "o1=A(4)\n",
    "o2=B(10)\n",
    "o2.a"
   ]
  },
  {
   "cell_type": "code",
   "execution_count": null,
   "id": "01e9cb86",
   "metadata": {},
   "outputs": [],
   "source": []
  }
 ],
 "metadata": {
  "kernelspec": {
   "display_name": "Python 3 (ipykernel)",
   "language": "python",
   "name": "python3"
  },
  "language_info": {
   "codemirror_mode": {
    "name": "ipython",
    "version": 3
   },
   "file_extension": ".py",
   "mimetype": "text/x-python",
   "name": "python",
   "nbconvert_exporter": "python",
   "pygments_lexer": "ipython3",
   "version": "3.9.7"
  }
 },
 "nbformat": 4,
 "nbformat_minor": 5
}

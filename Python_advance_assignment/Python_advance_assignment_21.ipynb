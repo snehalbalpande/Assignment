{
 "cells": [
  {
   "cell_type": "markdown",
   "id": "567f8df3",
   "metadata": {},
   "source": [
    "Q1.What is a probability distribution, exactly? If the values are meant to be random, how can you predict them at all?\n",
    "\n",
    "ANS:- probability distribution is the mathematical function that gives the probabilities of occurrence of different possible outcomes for an experiment."
   ]
  },
  {
   "cell_type": "markdown",
   "id": "beeef7ca",
   "metadata": {},
   "source": [
    "Q2.Is there a distinction between true random numbers and pseudo-random numbers, if there is one? Why are the latter considered “good enough”?\n",
    "\n",
    "ANS:- The difference between true random number(TRN) and pseudo-random number(PRN), is that TRN's are unpredictable physical values means (like atmospheric noise), and PRN are generated using mathematical algorithms (completely computer-generated).The PRN's are good enough as they follow a uniform distribution and the seed for generating PRN is unpredictable and unknown."
   ]
  },
  {
   "cell_type": "markdown",
   "id": "ecaef140",
   "metadata": {},
   "source": [
    "Q3.What are the two main factors that influence the behaviour of a \"normal\" probability distribution?\n",
    "\n",
    "ANS:- mean and standard deviation"
   ]
  },
  {
   "cell_type": "markdown",
   "id": "e70edd2f",
   "metadata": {},
   "source": [
    "Q4.Provide a real-life example of a normal distribution.\n",
    "\n",
    "ANS:- Age distribution"
   ]
  },
  {
   "cell_type": "markdown",
   "id": "153a5eae",
   "metadata": {},
   "source": [
    "Q5.In the short term, how can you expect a probability distribution to behave? What do you think will happen as the number of trials grows?\n",
    "\n",
    "ANS:- When trails are less, the variance will large. As the number of trials increase , the variance will reduce."
   ]
  },
  {
   "cell_type": "markdown",
   "id": "5d008bb5",
   "metadata": {},
   "source": [
    "Q6.What kind of object can be shuffled by using random.shuffle?\n",
    "\n",
    "ANS:- sequence(list)"
   ]
  },
  {
   "cell_type": "code",
   "execution_count": 2,
   "id": "f164a7f0",
   "metadata": {},
   "outputs": [],
   "source": [
    "# Q7.Describe the math package's general categories of functions.\n",
    "\n",
    "# The general categories of math package are\n",
    "#       1) Trigonometric functions\n",
    "#       2)Quadratic functions\n",
    "#       3)Exponential functions\n",
    "#       4)Hyperbolic functions\n",
    "#       5)Periodic functions\n",
    "#       6)Arithmetic functions\n",
    "#       7)Logarithimic functions\n",
    "#       8)Conversions to Integer"
   ]
  },
  {
   "cell_type": "markdown",
   "id": "edabe794",
   "metadata": {},
   "source": [
    "Q8.What is the relationship between exponentiation and logarithms?\n",
    "\n",
    "ANS:- Logarithmic function is thge inverse of the exponential function"
   ]
  },
  {
   "cell_type": "code",
   "execution_count": 4,
   "id": "f36136a0",
   "metadata": {},
   "outputs": [],
   "source": [
    "# Q9.What are the three logarithmic functions that Python supports?\n",
    "\n",
    "# 1)log2(x) - logarithmic value of x to base 2\n",
    "# 2)log10(x) - logarithmic value of x to base 10\n",
    "# 3)log(x,base) - logarithmic value of x to base. If only first parameter is given , it computes its\n",
    "# value tp base e,natural logarithm\n",
    "# 4)log1p(x) - natural logarithm (base e) value of 1+x"
   ]
  },
  {
   "cell_type": "code",
   "execution_count": null,
   "id": "6fa5dcaf",
   "metadata": {},
   "outputs": [],
   "source": []
  }
 ],
 "metadata": {
  "kernelspec": {
   "display_name": "Python 3 (ipykernel)",
   "language": "python",
   "name": "python3"
  },
  "language_info": {
   "codemirror_mode": {
    "name": "ipython",
    "version": 3
   },
   "file_extension": ".py",
   "mimetype": "text/x-python",
   "name": "python",
   "nbconvert_exporter": "python",
   "pygments_lexer": "ipython3",
   "version": "3.9.7"
  }
 },
 "nbformat": 4,
 "nbformat_minor": 5
}

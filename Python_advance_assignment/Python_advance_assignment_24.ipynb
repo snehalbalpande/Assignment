{
 "cells": [
  {
   "cell_type": "markdown",
   "id": "6b16ac80",
   "metadata": {},
   "source": [
    "Q1.Is it permissible to use several import statements to import the same module? What would the goal be? Can you think of a situation where it would be beneficial?\n",
    "\n",
    "ANS:- Yes we can use more than one import statement to import the same module more than once. This is com einto action when support we want to import some other function or class from the base class of any module for example. from sklearn.preprocessing import LabelEncoder from sklearn.linear_model import LinearRegression"
   ]
  },
  {
   "cell_type": "markdown",
   "id": "d6d3d7cc",
   "metadata": {},
   "source": [
    "Q2.What are some of a module's characteristics? (Name at least one.)\n",
    "\n",
    "ANS:- A module can define functions, classes and variables.\n",
    "\n",
    "A module can also include runnable code."
   ]
  },
  {
   "cell_type": "markdown",
   "id": "d3b6eead",
   "metadata": {},
   "source": [
    "Q3.Circular importing, such as when two modules import each other, can lead to dependencies and bugs that aren't visible. How can you go about creating a program that avoids mutual importing?\n",
    "\n",
    "ANS:- To avoid circular import errors, you can move \"from module import X\" to a place it is needed."
   ]
  },
  {
   "cell_type": "code",
   "execution_count": 1,
   "id": "64ebb44d",
   "metadata": {},
   "outputs": [],
   "source": [
    "## file1\n",
    "#  from file2 import printAddress\n",
    "#  def printName(): \n",
    "#       print(\"OWC\")\n",
    "#  printName() \n",
    "# printAddress()\n",
    "\n",
    "\n",
    "## file2\n",
    "#  from file1 import printName\n",
    "#  def printAddress(): \n",
    "#       print(\"Kigali\")\n",
    "#  printAddress() \n",
    "#  printName()"
   ]
  },
  {
   "cell_type": "code",
   "execution_count": 2,
   "id": "a00fa96b",
   "metadata": {},
   "outputs": [],
   "source": [
    "# When we try to run `python3 file1.py` we get this error in our terminal\n",
    "\n",
    "\n",
    "#  ``` Traceback (most recent call last): File \"file1.py\", line 1, in <module> from file2 import printAddress File \"/Users/bruce/workspace/journals/file2.py\", line 1, in <module> from file1 import printName File \"/Users/bruce/workspace/journals/file1.py\", line 1, in <module> from file2 import printAddress ImportError: cannot import name 'printAddress' from partially initialized module 'file2' (most likely due to a circular import) (/Users/bruce/workspace/journals/file2.py) ```\n",
    "\n",
    "# Python is showing us an ```ImportError ``` and that it is most likely due to a circular import\n",
    "# To avoid circular import errors, you can move ```from module import X``` to a place it is needed."
   ]
  },
  {
   "cell_type": "code",
   "execution_count": 3,
   "id": "a9e125f7",
   "metadata": {},
   "outputs": [],
   "source": [
    "# For example\n",
    "\n",
    "# # file1\n",
    "#  def printName(): \n",
    "#     print(\"OWC\")\n",
    "#  printName() \n",
    "#  from file2 import printAddress \n",
    "#  printAddress()\n",
    "\n",
    "# # file2\n",
    "#  def printAddress(): \n",
    "#     print(\"Kigali\")\n",
    "#  printAddress() \n",
    "#  from file1 import printName \n",
    "#  printName()"
   ]
  },
  {
   "cell_type": "markdown",
   "id": "e749cc24",
   "metadata": {},
   "source": [
    "Q4.Why is _ all _ in Python?\n",
    "\n",
    "ANS:- The _ all _ tells the semantically “public” names from the module. If there is a name in all, the users are expected to use it, and they can expect that it will not change. By default, Python will export all names that do not start with an _. Using the _ convention can be more elegant because it removes the redundancy of naming the names again."
   ]
  },
  {
   "cell_type": "markdown",
   "id": "c3a1a8b9",
   "metadata": {},
   "source": [
    "Q5.In what situation is it useful to refer to the _ name _ attribute or the string '_ main _'?\n",
    "\n",
    "ANS:- Before executing code, Python interpreter reads source file and define few special variables/global variables. If the python interpreter is running that module (the source file) as the main program, it sets the special name variable to have a value “main”. If this file is being imported from another module, name will be set to the module’s name. Module’s name is available as value to name global variable."
   ]
  },
  {
   "cell_type": "markdown",
   "id": "a0f0d31a",
   "metadata": {},
   "source": [
    "Q6.What are some of the benefits of attaching a program counter to the RPN interpreter application, which interprets an RPN script line by line?\n",
    "\n",
    "ANS:- RPN saves time and keystrokes. You avoid using and keeping track of parentheses while doing calculations. The process is similar to the way you learned math on paper. You can see the intermediary results as you perform your computations rather than just the answer at the end."
   ]
  },
  {
   "cell_type": "markdown",
   "id": "d6454e17",
   "metadata": {},
   "source": [
    "Q7.What are the minimum expressions or statements (or both) that you'd need to render a basic programming language like RPN primitive but complete— that is, capable of carrying out any computerised task theoretically possible?\n",
    "\n",
    "ANS:- Notations : +-/* These are the basic notations we require to carry out a computerised task , like RPN Primitive. We also need a particular data structure for storing elements from a statements except operators"
   ]
  },
  {
   "cell_type": "code",
   "execution_count": null,
   "id": "6d94309a",
   "metadata": {},
   "outputs": [],
   "source": []
  }
 ],
 "metadata": {
  "kernelspec": {
   "display_name": "Python 3 (ipykernel)",
   "language": "python",
   "name": "python3"
  },
  "language_info": {
   "codemirror_mode": {
    "name": "ipython",
    "version": 3
   },
   "file_extension": ".py",
   "mimetype": "text/x-python",
   "name": "python",
   "nbconvert_exporter": "python",
   "pygments_lexer": "ipython3",
   "version": "3.9.7"
  }
 },
 "nbformat": 4,
 "nbformat_minor": 5
}

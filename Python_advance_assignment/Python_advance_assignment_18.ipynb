{
 "cells": [
  {
   "cell_type": "markdown",
   "id": "a6a9e64f",
   "metadata": {},
   "source": [
    "Q1.Describe the differences between text and binary files in a single paragraph.\n",
    "\n",
    "ANS:- Binary files store data in a binary format and text file store data in a alphabet,numbers format."
   ]
  },
  {
   "cell_type": "markdown",
   "id": "bbbacf18",
   "metadata": {},
   "source": [
    "Q2.What are some scenarios where using text files will be the better option? When would you like to use binary files instead of text files?\n",
    "\n",
    "ANS:- To store any .txt file text file will be better option whereas to store a JPEG image binary file is better option"
   ]
  },
  {
   "cell_type": "markdown",
   "id": "0917902b",
   "metadata": {},
   "source": [
    "Q3.What are some of the issues with using binary operations to read and write a Python integer directly to disc?\n",
    "\n",
    "ANS:- When we read or write a python integer using binary operations\n",
    "\n",
    "a)Binary operations deal with raw data\n",
    "\n",
    "b)one needs to identify how many bytes one would read or write."
   ]
  },
  {
   "cell_type": "markdown",
   "id": "5f371cde",
   "metadata": {},
   "source": [
    "Q4.Describe a benefit of using the with keyword instead of explicitly opening a file.\n",
    "\n",
    "ANS:- Using with keyword, after opening file, file itself is closed."
   ]
  },
  {
   "cell_type": "markdown",
   "id": "d3d5d789",
   "metadata": {},
   "source": [
    "Q5.Does Python have the trailing newline while reading a line of text? Does Python append a newline when you write a line of text?\n",
    "\n",
    "ANS:- While reading a newline of text from atext file, python reads the newline also. While writing the python doesnt append a new line at end of line. It has to be handled explicitly."
   ]
  },
  {
   "cell_type": "markdown",
   "id": "8b127b38",
   "metadata": {},
   "source": [
    "Q6.What file operations enable for random-access operation?\n",
    "\n",
    "ANS:- read() and write()"
   ]
  },
  {
   "cell_type": "markdown",
   "id": "a28de240",
   "metadata": {},
   "source": [
    "Q7.When do you think you'll use the struct package the most?\n",
    "\n",
    "ANS:- It is used mostly for handling binary data stored in files"
   ]
  },
  {
   "cell_type": "markdown",
   "id": "e95d0a5a",
   "metadata": {},
   "source": [
    "Q8.When is pickling the best option?\n",
    "\n",
    "ANS:- Pickle in Python is primarily used in serializing and deserializing a Python object structure. In other words, it's the process of converting a Python object into a byte stream to store it in a file/database"
   ]
  },
  {
   "cell_type": "markdown",
   "id": "d3bcacd0",
   "metadata": {},
   "source": [
    "Q9.When will it be best to use the shelve package?\n",
    "\n",
    "ANS:- The shelve module implements persistent storage for arbitrary Python objects which can be pickled, using a dictionary-like API."
   ]
  },
  {
   "cell_type": "markdown",
   "id": "6cb0f356",
   "metadata": {},
   "source": [
    "Q10.What is a special restriction when using the shelve package, as opposed to using other data dictionaries?\n",
    "\n",
    "ANS:- The shelf dictionary has certain restrictions. Only string data type can be used as key in this special dictionary object, whereas any picklable Python object can be used as value."
   ]
  },
  {
   "cell_type": "code",
   "execution_count": null,
   "id": "ec544b97",
   "metadata": {},
   "outputs": [],
   "source": []
  }
 ],
 "metadata": {
  "kernelspec": {
   "display_name": "Python 3 (ipykernel)",
   "language": "python",
   "name": "python3"
  },
  "language_info": {
   "codemirror_mode": {
    "name": "ipython",
    "version": 3
   },
   "file_extension": ".py",
   "mimetype": "text/x-python",
   "name": "python",
   "nbconvert_exporter": "python",
   "pygments_lexer": "ipython3",
   "version": "3.9.7"
  }
 },
 "nbformat": 4,
 "nbformat_minor": 5
}

{
 "cells": [
  {
   "cell_type": "markdown",
   "id": "d3537a0c",
   "metadata": {},
   "source": [
    "1.Compare and contrast the float and Decimal classes' benefits and drawbacks.\n",
    "\n",
    "ANS:- float is faster than decimel\n",
    "\n",
    "decimel is more precise than float"
   ]
  },
  {
   "cell_type": "markdown",
   "id": "67a6fd4c",
   "metadata": {},
   "source": [
    "2.Decimal('1.200') and Decimal('1.2') are two objects to consider. In what sense are these the same object? Are these just two ways of representing the exact same value, or do they correspond to different internal states?\n",
    "\n",
    "ANS:- Though they are identical value wise, internal representation or internal state of these two values are different, as they have decimal values of different precisions."
   ]
  },
  {
   "cell_type": "code",
   "execution_count": 8,
   "id": "8f2d9289",
   "metadata": {},
   "outputs": [
    {
     "name": "stdout",
     "output_type": "stream",
     "text": [
      "1.200\n",
      "1.2\n"
     ]
    }
   ],
   "source": [
    "from decimal import Decimal\n",
    "print(Decimal('1.200'))\n",
    "print(Decimal('1.2'))"
   ]
  },
  {
   "cell_type": "markdown",
   "id": "d0c7c211",
   "metadata": {},
   "source": [
    "3.What happens if the equality of Decimal('1.200') and Decimal('1.2') is checked?"
   ]
  },
  {
   "cell_type": "code",
   "execution_count": 9,
   "id": "270a4ed7",
   "metadata": {},
   "outputs": [
    {
     "data": {
      "text/plain": [
       "True"
      ]
     },
     "execution_count": 9,
     "metadata": {},
     "output_type": "execute_result"
    }
   ],
   "source": [
    "Decimal('1.200')==Decimal('1.2')"
   ]
  },
  {
   "cell_type": "markdown",
   "id": "638bc1fd",
   "metadata": {},
   "source": [
    "4.Why is it preferable to start a Decimal object with a string rather than a floating-point value?\n",
    "\n",
    "ANS:- decimals should be initialized using strings to prevent precision issues"
   ]
  },
  {
   "cell_type": "markdown",
   "id": "c46a1587",
   "metadata": {},
   "source": [
    "5.In an arithmetic phrase, how simple is it to combine Decimal objects with integers?"
   ]
  },
  {
   "cell_type": "code",
   "execution_count": 13,
   "id": "f4146c91",
   "metadata": {},
   "outputs": [
    {
     "name": "stdout",
     "output_type": "stream",
     "text": [
      "6.200\n"
     ]
    }
   ],
   "source": [
    "print(Decimal('1.200')+5)"
   ]
  },
  {
   "cell_type": "markdown",
   "id": "eab98048",
   "metadata": {},
   "source": [
    "6.Can Decimal objects and floating-point values be combined easily?\n",
    "\n",
    "ANS:-No"
   ]
  },
  {
   "cell_type": "code",
   "execution_count": 14,
   "id": "0e6e09c6",
   "metadata": {},
   "outputs": [
    {
     "ename": "TypeError",
     "evalue": "unsupported operand type(s) for +: 'decimal.Decimal' and 'float'",
     "output_type": "error",
     "traceback": [
      "\u001b[1;31m---------------------------------------------------------------------------\u001b[0m",
      "\u001b[1;31mTypeError\u001b[0m                                 Traceback (most recent call last)",
      "\u001b[1;32m~\\AppData\\Local\\Temp/ipykernel_13764/2899678960.py\u001b[0m in \u001b[0;36m<module>\u001b[1;34m\u001b[0m\n\u001b[1;32m----> 1\u001b[1;33m \u001b[0mDecimal\u001b[0m\u001b[1;33m(\u001b[0m\u001b[1;34m'1.200'\u001b[0m\u001b[1;33m)\u001b[0m\u001b[1;33m+\u001b[0m\u001b[1;36m0.55\u001b[0m\u001b[1;33m\u001b[0m\u001b[1;33m\u001b[0m\u001b[0m\n\u001b[0m",
      "\u001b[1;31mTypeError\u001b[0m: unsupported operand type(s) for +: 'decimal.Decimal' and 'float'"
     ]
    }
   ],
   "source": [
    "Decimal('1.200')+0.55"
   ]
  },
  {
   "cell_type": "markdown",
   "id": "1760f0c7",
   "metadata": {},
   "source": [
    "7.Using the Fraction class but not the Decimal class, give an example of a quantity that can be expressed with absolute precision."
   ]
  },
  {
   "cell_type": "code",
   "execution_count": 21,
   "id": "0697fdf5",
   "metadata": {},
   "outputs": [
    {
     "name": "stdout",
     "output_type": "stream",
     "text": [
      "1/2\n"
     ]
    }
   ],
   "source": [
    "from fractions import Fraction\n",
    "\n",
    "print(Fraction(0.5))"
   ]
  },
  {
   "cell_type": "markdown",
   "id": "02e82f6b",
   "metadata": {},
   "source": [
    "8.Describe a quantity that can be accurately expressed by the Decimal or Fraction classes but not by a floating-point value."
   ]
  },
  {
   "cell_type": "code",
   "execution_count": 26,
   "id": "04239b66",
   "metadata": {},
   "outputs": [
    {
     "name": "stdout",
     "output_type": "stream",
     "text": [
      "0.01\n",
      "1/100\n",
      "0.010000000000000002\n"
     ]
    }
   ],
   "source": [
    "print(Decimal('0.1')*Decimal('0.1'))\n",
    "print(Fraction('1/10')*Fraction('1/10'))\n",
    "print(0.1*0.1)"
   ]
  },
  {
   "cell_type": "markdown",
   "id": "347ab3ae",
   "metadata": {},
   "source": [
    "Q9.Consider the following two fraction objects: Fraction(1, 2) and Fraction(1, 2). (5, 10). Is the internal state of these two objects the same? Why do you think that is?\n",
    "\n",
    "ANS:- The internal state of both are same as Fraction(5,10) is reduced to simplest form. Hence 1/2 is printed in both the cases."
   ]
  },
  {
   "cell_type": "code",
   "execution_count": 27,
   "id": "bb126b86",
   "metadata": {},
   "outputs": [
    {
     "name": "stdout",
     "output_type": "stream",
     "text": [
      "1/2\n"
     ]
    }
   ],
   "source": [
    "print(Fraction(1, 2))"
   ]
  },
  {
   "cell_type": "code",
   "execution_count": 28,
   "id": "0ba6be45",
   "metadata": {},
   "outputs": [
    {
     "name": "stdout",
     "output_type": "stream",
     "text": [
      "1/2\n"
     ]
    }
   ],
   "source": [
    "print(Fraction(5,10))"
   ]
  },
  {
   "cell_type": "markdown",
   "id": "a621df44",
   "metadata": {},
   "source": [
    "Q10.How do the Fraction class and the integer type (int) relate to each other? Containment or inheritance?\n",
    "\n",
    "ANS:- Fraction class and integer type(int) are related in form of a container. It contains two ints, one the numerator and the other the denominator."
   ]
  },
  {
   "cell_type": "code",
   "execution_count": null,
   "id": "926a3e50",
   "metadata": {},
   "outputs": [],
   "source": []
  }
 ],
 "metadata": {
  "kernelspec": {
   "display_name": "Python 3 (ipykernel)",
   "language": "python",
   "name": "python3"
  },
  "language_info": {
   "codemirror_mode": {
    "name": "ipython",
    "version": 3
   },
   "file_extension": ".py",
   "mimetype": "text/x-python",
   "name": "python",
   "nbconvert_exporter": "python",
   "pygments_lexer": "ipython3",
   "version": "3.9.7"
  }
 },
 "nbformat": 4,
 "nbformat_minor": 5
}

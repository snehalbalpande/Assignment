{
 "cells": [
  {
   "cell_type": "markdown",
   "id": "b6bbf2e6",
   "metadata": {},
   "source": [
    "Q1.If you have any, what are your choices for increasing the comparison between different figures on the same graph?\n",
    "\n",
    "ANS:- Bar plot, line plot, scatter plot"
   ]
  },
  {
   "cell_type": "markdown",
   "id": "4d597dfb",
   "metadata": {},
   "source": [
    "Q2.Can you explain the benefit of compound interest over a higher rate of interest that does not compound after reading this chapter?\n",
    "\n",
    "ANS:- Compound interest makes your money grow faster because interest is calculated on the accumulated interest over time as well as on your original principal."
   ]
  },
  {
   "cell_type": "markdown",
   "id": "8ec4c835",
   "metadata": {},
   "source": [
    "Q3.What is a histogram, exactly? Name a numpy method for creating such a graph.\n",
    "\n",
    "ANS:- A histogram is an approximate representation of the distribution of numerical data. numpy.histogram()"
   ]
  },
  {
   "cell_type": "markdown",
   "id": "3ff478a1",
   "metadata": {},
   "source": [
    "Q4.If necessary, how do you change the aspect ratios between the X and Y axes?\n",
    "\n",
    "ANS:- figure(figsize=(10,20))"
   ]
  },
  {
   "cell_type": "markdown",
   "id": "baca9fff",
   "metadata": {},
   "source": [
    "Q5.Compare and contrast the three types of array multiplication between two numpy arrays: dot product, outer product, and regular multiplication of two numpy arrays."
   ]
  },
  {
   "cell_type": "code",
   "execution_count": 1,
   "id": "c2e363a8",
   "metadata": {},
   "outputs": [],
   "source": [
    "import numpy as np"
   ]
  },
  {
   "cell_type": "code",
   "execution_count": 5,
   "id": "bcbaee58",
   "metadata": {},
   "outputs": [],
   "source": [
    "a1=np.array([[1,2],[3,4]])\n",
    "a2=np.array([[4,5],[6,7]])"
   ]
  },
  {
   "cell_type": "code",
   "execution_count": 11,
   "id": "ca58adfb",
   "metadata": {},
   "outputs": [
    {
     "data": {
      "text/plain": [
       "array([[16, 19],\n",
       "       [36, 43]])"
      ]
     },
     "execution_count": 11,
     "metadata": {},
     "output_type": "execute_result"
    }
   ],
   "source": [
    "np.dot(a1,a2)"
   ]
  },
  {
   "cell_type": "code",
   "execution_count": 13,
   "id": "2fec5966",
   "metadata": {},
   "outputs": [
    {
     "data": {
      "text/plain": [
       "array([[ 4,  5,  6,  7],\n",
       "       [ 8, 10, 12, 14],\n",
       "       [12, 15, 18, 21],\n",
       "       [16, 20, 24, 28]])"
      ]
     },
     "execution_count": 13,
     "metadata": {},
     "output_type": "execute_result"
    }
   ],
   "source": [
    "np.outer(a1,a2)"
   ]
  },
  {
   "cell_type": "code",
   "execution_count": 14,
   "id": "d6085360",
   "metadata": {},
   "outputs": [
    {
     "data": {
      "text/plain": [
       "array([[ 4, 10],\n",
       "       [18, 28]])"
      ]
     },
     "execution_count": 14,
     "metadata": {},
     "output_type": "execute_result"
    }
   ],
   "source": [
    "np.multiply(a1,a2)"
   ]
  },
  {
   "cell_type": "markdown",
   "id": "5824b922",
   "metadata": {},
   "source": [
    "Q6.Before you buy a home, which numpy function will you use to measure your monthly mortgage payment?\n",
    "\n",
    "ANS:- np.pmt(rate, nper, pv)\n",
    "\n",
    "rate = The periodic interest rate\n",
    "\n",
    "nper = The number of payment periods\n",
    "\n",
    "pv = The total value of the mortgage loan"
   ]
  },
  {
   "cell_type": "markdown",
   "id": "c5773be7",
   "metadata": {},
   "source": [
    "Q7.Can string data be stored in numpy arrays? If so, list at least one restriction that applies to this data.\n",
    "\n",
    "ANS:- Yes it can be stored."
   ]
  },
  {
   "cell_type": "code",
   "execution_count": 19,
   "id": "e3e12839",
   "metadata": {},
   "outputs": [
    {
     "data": {
      "text/plain": [
       "array(['abc', 'def'], dtype='<U3')"
      ]
     },
     "execution_count": 19,
     "metadata": {},
     "output_type": "execute_result"
    }
   ],
   "source": [
    "a=np.array(['abc','def'])\n",
    "a"
   ]
  },
  {
   "cell_type": "code",
   "execution_count": 21,
   "id": "b7750a5c",
   "metadata": {},
   "outputs": [],
   "source": [
    "a[0]='ineuron'"
   ]
  },
  {
   "cell_type": "code",
   "execution_count": 22,
   "id": "8f3d355b",
   "metadata": {},
   "outputs": [
    {
     "data": {
      "text/plain": [
       "array(['ine', 'def'], dtype='<U3')"
      ]
     },
     "execution_count": 22,
     "metadata": {},
     "output_type": "execute_result"
    }
   ],
   "source": [
    "a"
   ]
  },
  {
   "cell_type": "code",
   "execution_count": null,
   "id": "9f3d1f8c",
   "metadata": {},
   "outputs": [],
   "source": []
  }
 ],
 "metadata": {
  "kernelspec": {
   "display_name": "Python 3 (ipykernel)",
   "language": "python",
   "name": "python3"
  },
  "language_info": {
   "codemirror_mode": {
    "name": "ipython",
    "version": 3
   },
   "file_extension": ".py",
   "mimetype": "text/x-python",
   "name": "python",
   "nbconvert_exporter": "python",
   "pygments_lexer": "ipython3",
   "version": "3.9.7"
  }
 },
 "nbformat": 4,
 "nbformat_minor": 5
}

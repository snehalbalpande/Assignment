{
 "cells": [
  {
   "cell_type": "markdown",
   "id": "deeea336",
   "metadata": {},
   "source": [
    "Q1.What is the concept of a metaclass?\n",
    "\n",
    "ANS:- A metaclass in Python is a class of a class that defines how a class behaves. A class is itself an instance of a metaclass. A class in Python defines how the instance of the class will behave"
   ]
  },
  {
   "cell_type": "markdown",
   "id": "218d3352",
   "metadata": {},
   "source": [
    "Q2.What is the best way to declare a class's metaclass?"
   ]
  },
  {
   "cell_type": "code",
   "execution_count": 1,
   "id": "46c80092",
   "metadata": {},
   "outputs": [
    {
     "data": {
      "text/plain": [
       "__main__.test"
      ]
     },
     "execution_count": 1,
     "metadata": {},
     "output_type": "execute_result"
    }
   ],
   "source": [
    "class test(type):\n",
    "    pass\n",
    "class test1(metaclass=test):\n",
    "    pass\n",
    "\n",
    "type(test1)"
   ]
  },
  {
   "cell_type": "markdown",
   "id": "d8988e70",
   "metadata": {},
   "source": [
    "Q3.How do class decorators overlap with metaclasses for handling classes?\n",
    "\n",
    "ANS:- Both decorators and metaclass have some common things. When we want to aplly some common functionality to attributes of the class instances, both can be used. There are some problems which can be solved by decorators as well as by metaclasses. But there are a few problems that can only be solved by metaclasses. Use of metaclass affects its children while the decorator affects only the current class."
   ]
  },
  {
   "cell_type": "code",
   "execution_count": null,
   "id": "f8ae63eb",
   "metadata": {},
   "outputs": [],
   "source": []
  }
 ],
 "metadata": {
  "kernelspec": {
   "display_name": "Python 3 (ipykernel)",
   "language": "python",
   "name": "python3"
  },
  "language_info": {
   "codemirror_mode": {
    "name": "ipython",
    "version": 3
   },
   "file_extension": ".py",
   "mimetype": "text/x-python",
   "name": "python",
   "nbconvert_exporter": "python",
   "pygments_lexer": "ipython3",
   "version": "3.9.7"
  }
 },
 "nbformat": 4,
 "nbformat_minor": 5
}

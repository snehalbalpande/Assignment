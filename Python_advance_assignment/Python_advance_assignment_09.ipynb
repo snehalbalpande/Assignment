{
 "cells": [
  {
   "cell_type": "markdown",
   "id": "8b8a4588",
   "metadata": {},
   "source": [
    "Q1.In Python 3.X, what are the names and functions of string object types?\n",
    "\n",
    "ANS:- In Python 3.X and later, String objects has bulit in class named as \"str\" and it is used to store characters in memory in encoded format."
   ]
  },
  {
   "cell_type": "markdown",
   "id": "e193d1a1",
   "metadata": {},
   "source": [
    "Q2.How do the string forms in Python 3.X vary in terms of operations?\n",
    "\n",
    "ANS:- Python supports ASCII as a subset of Unicode. The default encoding of characters in Python is UTF-8 (Unicode Transformation Format - 8-bit).ASCII is really a 7-bit character set; it is mapped to 8-bit bytes by setting the high bit to zero. Thus, ASCII characters are unchanged in UTF-8. A non-zero high bit indicates that a character composed of multiple bytes."
   ]
  },
  {
   "cell_type": "markdown",
   "id": "33350da7",
   "metadata": {},
   "source": [
    "Q3.In 3.X, how do you put non-ASCII Unicode characters in a string?\n",
    "\n",
    "ANS:- As we know, there are only 127 ASCII characters in ascii table. It stores symbols, letters, whitespace characters, non printable characters, which are very less. So Python 3 has adopted unicode encoding of strings. for non ASCII u can get any value more than 127."
   ]
  },
  {
   "cell_type": "code",
   "execution_count": 8,
   "id": "223de505",
   "metadata": {},
   "outputs": [
    {
     "name": "stdout",
     "output_type": "stream",
     "text": [
      "snehalµ\n"
     ]
    }
   ],
   "source": [
    "s='snehal'\n",
    "s=s+chr(181)+chr(128)\n",
    "print(s)"
   ]
  },
  {
   "cell_type": "markdown",
   "id": "68691758",
   "metadata": {},
   "source": [
    "Q4.In Python 3.X, what are the key differences between text-mode and binary-mode files?\n",
    "\n",
    "ANS:- In text mode a file is interpreted as a sequence of characters while in binary mode data is interpreted as raw binary values usually bytes."
   ]
  },
  {
   "cell_type": "markdown",
   "id": "bee387e4",
   "metadata": {},
   "source": [
    "Q5.How can you interpret a Unicode text file containing text encoded in a different encoding than your platform's default?\n",
    "\n",
    "ANS:- While reading file, we can specify the encoding, so the file will be decoded according to that encoding and results are returned to the user."
   ]
  },
  {
   "cell_type": "code",
   "execution_count": 11,
   "id": "8d5ddd95",
   "metadata": {},
   "outputs": [
    {
     "name": "stdout",
     "output_type": "stream",
     "text": [
      "मम नाम स्नेहल इति\n"
     ]
    }
   ],
   "source": [
    "text='मम नाम स्नेहल इति'\n",
    "with open('sample.txt','w', encoding='utf16') as f:\n",
    "    f.write(text)\n",
    "with open('sample.txt','r', encoding='utf16') as f:\n",
    "    print(f.read())"
   ]
  },
  {
   "cell_type": "markdown",
   "id": "26af2f79",
   "metadata": {},
   "source": [
    "Q6.What is the best way to make a Unicode text file in a particular encoding format?\n",
    "\n",
    "ANS:- specify the encoding during writing or reading the file."
   ]
  },
  {
   "cell_type": "code",
   "execution_count": 12,
   "id": "fb9ccf21",
   "metadata": {},
   "outputs": [
    {
     "name": "stdout",
     "output_type": "stream",
     "text": [
      "मेरा नाम स्नेहल है\n"
     ]
    }
   ],
   "source": [
    "text='मेरा नाम स्नेहल है'\n",
    "with open('test1.txt','w', encoding='utf16') as f:\n",
    "    f.write(text)\n",
    "with open('test1.txt','r', encoding='utf16') as f:\n",
    "    print(f.read())"
   ]
  },
  {
   "cell_type": "markdown",
   "id": "a19d01c4",
   "metadata": {},
   "source": [
    "Q7.What qualifies ASCII text as a form of Unicode text?\n",
    "\n",
    "ANS:- The first 128 Unicode code points represent the equivalent ASCII characters. They have the same meaning in both ASCII and unicode. Since UTF-8 encodes each of these characters with a single byte, any ASCII text is also a UTF-8 text. Unicode is a superset of ASCII."
   ]
  },
  {
   "cell_type": "markdown",
   "id": "fc71683a",
   "metadata": {},
   "source": [
    "Q8.How much of an effect does the change in string types in Python 3.X have on your code?\n",
    "\n",
    "ANS:- In Python 3.X and later, there is only one string type that is unicode. So no effect on the code."
   ]
  },
  {
   "cell_type": "code",
   "execution_count": null,
   "id": "3c146354",
   "metadata": {},
   "outputs": [],
   "source": []
  }
 ],
 "metadata": {
  "kernelspec": {
   "display_name": "Python 3 (ipykernel)",
   "language": "python",
   "name": "python3"
  },
  "language_info": {
   "codemirror_mode": {
    "name": "ipython",
    "version": 3
   },
   "file_extension": ".py",
   "mimetype": "text/x-python",
   "name": "python",
   "nbconvert_exporter": "python",
   "pygments_lexer": "ipython3",
   "version": "3.9.7"
  }
 },
 "nbformat": 4,
 "nbformat_minor": 5
}

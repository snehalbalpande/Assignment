{
 "cells": [
  {
   "cell_type": "markdown",
   "id": "8446f415",
   "metadata": {},
   "source": [
    "Q1.Which two operator overloading methods can you use in your classes to support iteration?\n",
    "\n",
    "ANS:-' iter ' and ' next '"
   ]
  },
  {
   "cell_type": "markdown",
   "id": "f0ad2c4f",
   "metadata": {},
   "source": [
    "Q2.In what contexts do the two operator overloading methods manage printing?\n",
    "\n",
    "ANS:- str and repr"
   ]
  },
  {
   "cell_type": "markdown",
   "id": "8e2c0f98",
   "metadata": {},
   "source": [
    "Q3.In a class, how do you intercept slice operations?\n",
    "\n",
    "ANS:- In a class use of slice() in getitem method is used for intercept slice operation.\n",
    "\n",
    "getitem(slice(start,stop,step))"
   ]
  },
  {
   "cell_type": "markdown",
   "id": "963b7cb6",
   "metadata": {},
   "source": [
    "Q4.In a class, how do you capture in-place addition?\n",
    "\n",
    "ANS:- a+b is normal addition whereas a+=b is inplace addition. In classs iaddmethod is used for inplace addition\n",
    "\n",
    "Here x=x+y means x=operator.iadd(x,y)"
   ]
  },
  {
   "cell_type": "markdown",
   "id": "203df0c0",
   "metadata": {},
   "source": [
    "Q5.When is it appropriate to use operator overloading?\n",
    "\n",
    "ANS:- Only overload additional operators if you have a lot of demand for that functionality and doesn't have any side effect"
   ]
  },
  {
   "cell_type": "code",
   "execution_count": null,
   "id": "fbd1474a",
   "metadata": {},
   "outputs": [],
   "source": []
  }
 ],
 "metadata": {
  "kernelspec": {
   "display_name": "Python 3 (ipykernel)",
   "language": "python",
   "name": "python3"
  },
  "language_info": {
   "codemirror_mode": {
    "name": "ipython",
    "version": 3
   },
   "file_extension": ".py",
   "mimetype": "text/x-python",
   "name": "python",
   "nbconvert_exporter": "python",
   "pygments_lexer": "ipython3",
   "version": "3.9.7"
  }
 },
 "nbformat": 4,
 "nbformat_minor": 5
}

{
 "cells": [
  {
   "cell_type": "markdown",
   "id": "ca80c0ca",
   "metadata": {},
   "source": [
    "Q1.What are the benefits of the built-in array package, if any?\n",
    "\n",
    "ANS:- Arrays represent multiple data items of the same type using a single name.\n",
    "\n",
    "In arrays, the elements can be accessed randomly by using the index number.\n",
    "\n",
    "Arrays allocate memory in contiguous memory locations for all its elements. Hence there is no chance of extra memory being allocated in case of arrays. This avoids memory overflow or shortage of memory in arrays."
   ]
  },
  {
   "cell_type": "markdown",
   "id": "8dca8534",
   "metadata": {},
   "source": [
    "Q2.What are some of the array package's limitations?\n",
    "\n",
    "ANS:- An array which is formed will be homogeneous. That is, in an integer array only integer values can be stored, while in a float array only floating value and character array can have only characters. Thus, no array can have values of two data types.\n",
    "\n",
    "While declaring an array, passing size of an array is compulsory, and the size must be a constant. Thus, there is either shortage or wastage of memory.\n",
    "\n",
    "Shifting is required for insertion or deletion of elements in an array."
   ]
  },
  {
   "cell_type": "markdown",
   "id": "d0a2e2ba",
   "metadata": {},
   "source": [
    "Q3.Describe the main differences between the array and numpy packages.\n",
    "\n",
    "ANS:- The array package doesn't provide any help with numerical calculation with the items insdie it in number form while NumPy give you a wide variety of numerical operations. An array is a single dimensional entity which hold the numerical data, while numpy can have more than 1 dimension.In case of array, item can be accessed by its index position and it is easy task while in numpy item is accessed by its column and row index, which makes it slightly time taking. Same goes with appending operation.In case of array we do not form a tabular structure, while in numpy it forms a tabular structure."
   ]
  },
  {
   "cell_type": "markdown",
   "id": "a6f9dc95",
   "metadata": {},
   "source": [
    "Q4.Explain the distinctions between the empty, ones, and zeros functions.\n",
    "\n",
    "ANS:- empty - Return a new array of given shape and type, without initializing entries.\n",
    "\n",
    "ones - Return a new array of given shape and type, filled with ones.\n",
    "\n",
    "zeroes - Return a new array of given shape and type, filled with zeros."
   ]
  },
  {
   "cell_type": "markdown",
   "id": "1572ad1b",
   "metadata": {},
   "source": [
    "Q5.In the fromfunction function, which is used to construct new arrays, what is the role of the callable argument?\n",
    "\n",
    "ANS:- Its function is to execute the function over each coordinate and the resulting array. The function is called with N parameters, where N is the rank of shape. Each parameter represents the coordinates of the array varying along a specific axis."
   ]
  },
  {
   "cell_type": "markdown",
   "id": "83a62680",
   "metadata": {},
   "source": [
    "Q6.What happens when a numpy array is combined with a single-value operand (a scalar, such as an int or a floating-point value) through addition, as in the expression A + n?\n",
    "\n",
    "ANS:- It will be added with every element of the array"
   ]
  },
  {
   "cell_type": "markdown",
   "id": "734e100b",
   "metadata": {},
   "source": [
    "Q7.Can array-to-scalar operations use combined operation-assign operators (such as += or *=)? What is the outcome?\n",
    "\n",
    "ANS:- It will do the operation as per operators. Like if we use + operand it will update the current array by adding and when we use '*', it will update by multiplying."
   ]
  },
  {
   "cell_type": "markdown",
   "id": "19d8c88a",
   "metadata": {},
   "source": [
    "Q8.Does a numpy array contain fixed-length strings? What happens if you allocate a longer string to one of these arrays?"
   ]
  },
  {
   "cell_type": "code",
   "execution_count": 8,
   "id": "235c500d",
   "metadata": {},
   "outputs": [
    {
     "data": {
      "text/plain": [
       "array(['ram', 'mohan', 'shiva'], dtype='<U5')"
      ]
     },
     "execution_count": 8,
     "metadata": {},
     "output_type": "execute_result"
    }
   ],
   "source": [
    "# Yes it is possible that we can include a string of fixed length in numpy array. The dtype of any numpy array \n",
    "#       containing string values is the maximum length of any string present in the array.\n",
    "#       Once set, it will only be able to store new string having length not more than the maximum length at the time \n",
    "#       of the creation. If we try to reassign some another string value having length greater than the maximum length\n",
    "#       of the existing elements, it simply discards all the values beyond the maximum length accept upto those values \n",
    "#       which are under the limit.\n",
    "import numpy as np\n",
    "name = np.array(['ram', 'mohan', 'shiva'])\n",
    "name"
   ]
  },
  {
   "cell_type": "code",
   "execution_count": 9,
   "id": "cdfeadf3",
   "metadata": {},
   "outputs": [
    {
     "name": "stdout",
     "output_type": "stream",
     "text": [
      "['under' 'mohan' 'shiva']\n"
     ]
    }
   ],
   "source": [
    "name[name=='ram']='undertaker'\n",
    "print(name)"
   ]
  },
  {
   "cell_type": "markdown",
   "id": "ebe8939d",
   "metadata": {},
   "source": [
    "Q9.What happens when you combine two numpy arrays using an operation like addition (+) or multiplication (*)? What are the conditions for combining two numpy arrays?\n",
    "\n",
    "ANS:- It will perform element wise operation, condition is no. of column of the first array should be equal to no. of row of the second array."
   ]
  },
  {
   "cell_type": "markdown",
   "id": "a5854298",
   "metadata": {},
   "source": [
    "Q10.What is the best way to use a Boolean array to mask another array?"
   ]
  },
  {
   "cell_type": "code",
   "execution_count": 11,
   "id": "19888238",
   "metadata": {},
   "outputs": [
    {
     "name": "stdout",
     "output_type": "stream",
     "text": [
      "[True, True, masked, masked]\n",
      "1\n"
     ]
    }
   ],
   "source": [
    "y = np.array([True,True,False,True])          \n",
    "x = np.array([1,2,3,4])         \n",
    "m = np.ma.masked_where(x>2,y)  \n",
    "print(list(m))\n",
    "print(m.ndim)"
   ]
  },
  {
   "cell_type": "markdown",
   "id": "fde68b75",
   "metadata": {},
   "source": [
    "Q11.What are three different ways to get the standard deviation of a wide collection of data using both standard Python and its packages? Sort the three of them by how quickly they execute."
   ]
  },
  {
   "cell_type": "code",
   "execution_count": 27,
   "id": "2ee8e406",
   "metadata": {},
   "outputs": [
    {
     "data": {
      "text/plain": [
       "0.5"
      ]
     },
     "execution_count": 27,
     "metadata": {},
     "output_type": "execute_result"
    }
   ],
   "source": [
    "# 1)Using math module :\n",
    "x=[1,2]\n",
    "import math\n",
    "avg=(x[0]+x[1])/2\n",
    "N=len(x)\n",
    "SD=math.sqrt(((1-avg)**2+(2-avg)**2)/N)\n",
    "SD"
   ]
  },
  {
   "cell_type": "code",
   "execution_count": 25,
   "id": "17452f8f",
   "metadata": {},
   "outputs": [
    {
     "data": {
      "text/plain": [
       "0.5"
      ]
     },
     "execution_count": 25,
     "metadata": {},
     "output_type": "execute_result"
    }
   ],
   "source": [
    "#2)Using Numpy Array package\n",
    "import numpy as np\n",
    "SD=np.std(x)\n",
    "SD"
   ]
  },
  {
   "cell_type": "code",
   "execution_count": 30,
   "id": "08a22fbb",
   "metadata": {},
   "outputs": [
    {
     "data": {
      "text/plain": [
       "0.5"
      ]
     },
     "execution_count": 30,
     "metadata": {},
     "output_type": "execute_result"
    }
   ],
   "source": [
    "#3) General calculation without using any package\n",
    "SD= (((1-avg)**2+(2-avg)**2)/N)**0.5\n",
    "SD"
   ]
  },
  {
   "cell_type": "code",
   "execution_count": null,
   "id": "aef0d57e",
   "metadata": {},
   "outputs": [],
   "source": []
  }
 ],
 "metadata": {
  "kernelspec": {
   "display_name": "Python 3 (ipykernel)",
   "language": "python",
   "name": "python3"
  },
  "language_info": {
   "codemirror_mode": {
    "name": "ipython",
    "version": 3
   },
   "file_extension": ".py",
   "mimetype": "text/x-python",
   "name": "python",
   "nbconvert_exporter": "python",
   "pygments_lexer": "ipython3",
   "version": "3.9.7"
  }
 },
 "nbformat": 4,
 "nbformat_minor": 5
}

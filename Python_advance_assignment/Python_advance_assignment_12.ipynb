{
 "cells": [
  {
   "cell_type": "markdown",
   "id": "e9db5079",
   "metadata": {},
   "source": [
    "Q1.Does assigning a value to a string's indexed character violate Python's string immutability?"
   ]
  },
  {
   "cell_type": "code",
   "execution_count": 3,
   "id": "c779ab2d",
   "metadata": {},
   "outputs": [
    {
     "ename": "TypeError",
     "evalue": "'str' object does not support item assignment",
     "output_type": "error",
     "traceback": [
      "\u001b[1;31m---------------------------------------------------------------------------\u001b[0m",
      "\u001b[1;31mTypeError\u001b[0m                                 Traceback (most recent call last)",
      "\u001b[1;32m~\\AppData\\Local\\Temp/ipykernel_436/1991391626.py\u001b[0m in \u001b[0;36m<module>\u001b[1;34m\u001b[0m\n\u001b[0;32m      1\u001b[0m \u001b[0ms\u001b[0m\u001b[1;33m=\u001b[0m\u001b[1;34m'ineuron'\u001b[0m\u001b[1;33m\u001b[0m\u001b[1;33m\u001b[0m\u001b[0m\n\u001b[1;32m----> 2\u001b[1;33m \u001b[0ms\u001b[0m\u001b[1;33m[\u001b[0m\u001b[1;36m1\u001b[0m\u001b[1;33m]\u001b[0m\u001b[1;33m=\u001b[0m\u001b[1;34m'z'\u001b[0m\u001b[1;33m\u001b[0m\u001b[1;33m\u001b[0m\u001b[0m\n\u001b[0m",
      "\u001b[1;31mTypeError\u001b[0m: 'str' object does not support item assignment"
     ]
    }
   ],
   "source": [
    "s='ineuron'\n",
    "s[1]='z'"
   ]
  },
  {
   "cell_type": "markdown",
   "id": "e4f071b2",
   "metadata": {},
   "source": [
    "yes it violates python's string immutability"
   ]
  },
  {
   "cell_type": "markdown",
   "id": "552ab5da",
   "metadata": {},
   "source": [
    "Q2.Does using the += operator to concatenate strings violate Python's string immutability? Why or why not?"
   ]
  },
  {
   "cell_type": "code",
   "execution_count": 6,
   "id": "81b49284",
   "metadata": {},
   "outputs": [
    {
     "data": {
      "text/plain": [
       "'ineuronml'"
      ]
     },
     "execution_count": 6,
     "metadata": {},
     "output_type": "execute_result"
    }
   ],
   "source": [
    "s='ineuron'\n",
    "s+='ml'\n",
    "s"
   ]
  },
  {
   "cell_type": "markdown",
   "id": "948d6eae",
   "metadata": {},
   "source": [
    "Here we are concatenating two string not assigning any value to a indexed character. It does not violate python's string immutability"
   ]
  },
  {
   "cell_type": "markdown",
   "id": "17f19ac6",
   "metadata": {},
   "source": [
    "Q3.In Python, how many different ways are there to index a character?\n",
    "\n",
    "ANS:- There are two methods index() and find() both will return lowest index at which character is found."
   ]
  },
  {
   "cell_type": "markdown",
   "id": "d59920ac",
   "metadata": {},
   "source": [
    "Q4.What is the relationship between indexing and slicing?\n",
    "\n",
    "ANS:- slicing is done by using index"
   ]
  },
  {
   "cell_type": "markdown",
   "id": "796aa65f",
   "metadata": {},
   "source": [
    "Q5.What is an indexed character's exact data type? What is the data form of a slicing-generated substring?\n",
    "\n",
    "ANS:- For both data type is string"
   ]
  },
  {
   "cell_type": "markdown",
   "id": "bcd6f26f",
   "metadata": {},
   "source": [
    "Q6.What is the relationship between string and character \"types\" in Python?\n",
    "\n",
    "ANS:- There is no char data type in python even a single character enclosed in a qoute is considered a string."
   ]
  },
  {
   "cell_type": "markdown",
   "id": "6ef34d7f",
   "metadata": {},
   "source": [
    "Q7.Identify at least two operators and one method that allow you to combine one or more smaller strings to create a larger string."
   ]
  },
  {
   "cell_type": "code",
   "execution_count": 11,
   "id": "631fbc68",
   "metadata": {},
   "outputs": [],
   "source": [
    "s1='ineuron'\n",
    "s2='ai'\n",
    "s3='ml'"
   ]
  },
  {
   "cell_type": "code",
   "execution_count": 12,
   "id": "18c81679",
   "metadata": {},
   "outputs": [
    {
     "data": {
      "text/plain": [
       "'ineuronaiml'"
      ]
     },
     "execution_count": 12,
     "metadata": {},
     "output_type": "execute_result"
    }
   ],
   "source": [
    "s1+s2+s3"
   ]
  },
  {
   "cell_type": "code",
   "execution_count": 13,
   "id": "ec79dc6b",
   "metadata": {},
   "outputs": [
    {
     "data": {
      "text/plain": [
       "'ineuronaiml'"
      ]
     },
     "execution_count": 13,
     "metadata": {},
     "output_type": "execute_result"
    }
   ],
   "source": [
    "s='%s%s%s'%(s1,s2,s3)\n",
    "s"
   ]
  },
  {
   "cell_type": "code",
   "execution_count": 14,
   "id": "7179c0bb",
   "metadata": {},
   "outputs": [
    {
     "data": {
      "text/plain": [
       "'ineuronaiml'"
      ]
     },
     "execution_count": 14,
     "metadata": {},
     "output_type": "execute_result"
    }
   ],
   "source": [
    "''.join([s1,s2,s3])"
   ]
  },
  {
   "cell_type": "markdown",
   "id": "0c98a259",
   "metadata": {},
   "source": [
    "Q8.What is the benefit of first checking the target string with in or not in before using the index method to find a substring?\n",
    "\n",
    "ANS:- If the substring is not present in the string then index method will throw value error."
   ]
  },
  {
   "cell_type": "markdown",
   "id": "d532f1c2",
   "metadata": {},
   "source": [
    "Q9.Which operators and built-in string methods produce simple Boolean (true/false) results?\n",
    "\n",
    "ANS:- '==','>','<','<=','>=','!=' and 'isalpha','isdigit','isdecimal','islower','isnumeric','isupper','istitle','endswidth','isidentifier','isspace'."
   ]
  },
  {
   "cell_type": "code",
   "execution_count": null,
   "id": "5d39df32",
   "metadata": {},
   "outputs": [],
   "source": []
  }
 ],
 "metadata": {
  "kernelspec": {
   "display_name": "Python 3 (ipykernel)",
   "language": "python",
   "name": "python3"
  },
  "language_info": {
   "codemirror_mode": {
    "name": "ipython",
    "version": 3
   },
   "file_extension": ".py",
   "mimetype": "text/x-python",
   "name": "python",
   "nbconvert_exporter": "python",
   "pygments_lexer": "ipython3",
   "version": "3.9.7"
  }
 },
 "nbformat": 4,
 "nbformat_minor": 5
}

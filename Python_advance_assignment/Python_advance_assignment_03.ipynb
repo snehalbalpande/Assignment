{
 "cells": [
  {
   "cell_type": "markdown",
   "id": "60371a28",
   "metadata": {},
   "source": [
    "1.What is the concept of an abstract superclass?"
   ]
  },
  {
   "cell_type": "code",
   "execution_count": 1,
   "id": "3b2d34b0",
   "metadata": {},
   "outputs": [
    {
     "name": "stdout",
     "output_type": "stream",
     "text": [
      "start\n",
      "stop\n",
      "drive\n"
     ]
    }
   ],
   "source": [
    "from abc import abstractmethod\n",
    "\n",
    "class abstractvehicle:\n",
    "    @abstractmethod\n",
    "    def start():\n",
    "        '''start'''\n",
    "    @abstractmethod\n",
    "    def stop():\n",
    "        '''stop'''\n",
    "    @abstractmethod\n",
    "    def drive():\n",
    "        '''drive'''\n",
    "        \n",
    "class car(abstractvehicle):\n",
    "    def start(self):\n",
    "        print('start')\n",
    "    def stop(self):\n",
    "        print('stop')\n",
    "    def drive(self):\n",
    "        print('drive')\n",
    "\n",
    "carobj=car()\n",
    "carobj.start()\n",
    "carobj.stop()\n",
    "carobj.drive()"
   ]
  },
  {
   "cell_type": "markdown",
   "id": "aa32c1c4",
   "metadata": {},
   "source": [
    "i.Abstruct superclass can be used as a blueprint\n",
    "\n",
    "ii.object can not be created from abstract super class.\n",
    "\n",
    "iii.In abstract super class we only define a method without implementetion.\n",
    "\n",
    "iv.We can have a one or more sub classes that inherit from a abstruct super class."
   ]
  },
  {
   "cell_type": "markdown",
   "id": "40336135",
   "metadata": {},
   "source": [
    "2.What happens when a class statement's top level contains a basic assignment statement?\n",
    "\n",
    "ANS:- Then it will be class attribute."
   ]
  },
  {
   "cell_type": "markdown",
   "id": "341cf4d3",
   "metadata": {},
   "source": [
    "3.Why does a class need to manually call a superclass's init method?\n",
    "\n",
    "ANS:-So that we can access the attributes of superclass(parent class) in child class."
   ]
  },
  {
   "cell_type": "markdown",
   "id": "2f0003e8",
   "metadata": {},
   "source": [
    "4.How can you augment, instead of completely replacing, an inherited method?\n",
    "\n",
    "ANS:-The good way to do in python is by calling to the original version directly with augmented arguments."
   ]
  },
  {
   "cell_type": "markdown",
   "id": "ab6cc6b1",
   "metadata": {},
   "source": [
    "5.How is the local scope of a class different from that of a function?\n",
    "\n",
    "ANS:-In class if a variable is declared inside a function then it is only accessible inside that function like local variable. If a variable is declared inside constructer like self.variable_name=value then it can be accessed in every function. If a variable is declared inside a class(not inside any function) then it can be accessed by class name."
   ]
  }
 ],
 "metadata": {
  "kernelspec": {
   "display_name": "Python 3 (ipykernel)",
   "language": "python",
   "name": "python3"
  },
  "language_info": {
   "codemirror_mode": {
    "name": "ipython",
    "version": 3
   },
   "file_extension": ".py",
   "mimetype": "text/x-python",
   "name": "python",
   "nbconvert_exporter": "python",
   "pygments_lexer": "ipython3",
   "version": "3.9.7"
  }
 },
 "nbformat": 4,
 "nbformat_minor": 5
}

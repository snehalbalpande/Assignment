{
 "cells": [
  {
   "cell_type": "markdown",
   "id": "ba527f4b",
   "metadata": {},
   "source": [
    "Q1.What is the meaning of multiple inheritance?\n",
    "\n",
    "ANS:- In multiple inheritence feature of base classes are inherited into derived class."
   ]
  },
  {
   "cell_type": "code",
   "execution_count": 1,
   "id": "bf8c7bac",
   "metadata": {},
   "outputs": [],
   "source": [
    "#Multiple inheritence\n",
    "class base1:\n",
    "    pass\n",
    "class base2:\n",
    "    pass\n",
    "class derivedclass(base1,base2):\n",
    "    pass"
   ]
  },
  {
   "cell_type": "markdown",
   "id": "912e7656",
   "metadata": {},
   "source": [
    "Q2.What is the concept of delegation?\n",
    "\n",
    "ANS:- The delegation is an object-oriented design pattern that allows object composition to achieve the same code reuse as inheritance."
   ]
  },
  {
   "cell_type": "markdown",
   "id": "333e756d",
   "metadata": {},
   "source": [
    "Q3.What is the concept of composition?\n",
    "\n",
    "ANS:- In composition one of the classes is composed of one or more instance of another classes."
   ]
  },
  {
   "cell_type": "markdown",
   "id": "0e1fd1d5",
   "metadata": {},
   "source": [
    "Q4.What are bound methods and how do we use them?\n",
    "\n",
    "ANS:- Method having self(not necessary it has to be this particular word) as first argument inside a class is called bound method. It can be used by creating a instance of the that class."
   ]
  },
  {
   "cell_type": "code",
   "execution_count": 2,
   "id": "1b90ac87",
   "metadata": {},
   "outputs": [
    {
     "name": "stdout",
     "output_type": "stream",
     "text": [
      "It has 4 wheeel\n"
     ]
    }
   ],
   "source": [
    "class car:\n",
    "    def wheel(self):\n",
    "        print('It has 4 wheeel')  #here wheel is bound method\n",
    "\n",
    "car_obj=car()\n",
    "car_obj.wheel()"
   ]
  },
  {
   "cell_type": "markdown",
   "id": "0b8b88c5",
   "metadata": {},
   "source": [
    "Q5.What is the purpose of pseudoprivate attributes?\n",
    "\n",
    "ANS:- Python does not have a way to effectively restrict access to instance variables or methods. Python takes the view that we are all adult and should be allowed to use the code as we see fit."
   ]
  }
 ],
 "metadata": {
  "kernelspec": {
   "display_name": "Python 3 (ipykernel)",
   "language": "python",
   "name": "python3"
  },
  "language_info": {
   "codemirror_mode": {
    "name": "ipython",
    "version": 3
   },
   "file_extension": ".py",
   "mimetype": "text/x-python",
   "name": "python",
   "nbconvert_exporter": "python",
   "pygments_lexer": "ipython3",
   "version": "3.9.7"
  }
 },
 "nbformat": 4,
 "nbformat_minor": 5
}

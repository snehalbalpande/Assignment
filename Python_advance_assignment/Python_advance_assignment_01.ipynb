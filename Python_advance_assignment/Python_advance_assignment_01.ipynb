{
 "cells": [
  {
   "cell_type": "markdown",
   "id": "a3368d4b",
   "metadata": {},
   "source": [
    "1. What is the purpose of Python's OOP?"
   ]
  },
  {
   "cell_type": "code",
   "execution_count": null,
   "id": "5f1052f1",
   "metadata": {},
   "outputs": [],
   "source": [
    "Object Oriented programming is a method of maintaining a program by binding the properties and behaviours into individual \n",
    "objects. it aims to implement inheritance, polymorphism, encapsulation into the program using the \n",
    "properties and behaviours."
   ]
  },
  {
   "cell_type": "markdown",
   "id": "98b239a3",
   "metadata": {},
   "source": [
    "2. Where does an inheritance search look for an attribute?# "
   ]
  },
  {
   "cell_type": "code",
   "execution_count": null,
   "id": "ed9ccaa1",
   "metadata": {},
   "outputs": [],
   "source": [
    "Inheritance search will look for an attribute in the attribute definition tree."
   ]
  },
  {
   "cell_type": "markdown",
   "id": "5af08c54",
   "metadata": {},
   "source": [
    "3. How do you distinguish between a class object and an instance object?"
   ]
  },
  {
   "cell_type": "code",
   "execution_count": null,
   "id": "9c41360b",
   "metadata": {},
   "outputs": [],
   "source": [
    "class object is like a blueprint for intance object but instance object is a concrete item in out code. \n",
    "Instance object inherits the attributes of the class object."
   ]
  },
  {
   "cell_type": "markdown",
   "id": "124268c4",
   "metadata": {},
   "source": [
    "4. What makes the first argument in a class’s method function special?"
   ]
  },
  {
   "cell_type": "code",
   "execution_count": null,
   "id": "adb66069",
   "metadata": {},
   "outputs": [],
   "source": [
    "The first argument in a class's method must be the object itself. It is commonly written as \"self\" but there is no such \n",
    "rule that it should always be \"self\". The object should be represented by some variable name thats it."
   ]
  },
  {
   "cell_type": "markdown",
   "id": "d335d30a",
   "metadata": {},
   "source": [
    "5. What is the purpose of the '__init__' method?"
   ]
  },
  {
   "cell_type": "code",
   "execution_count": null,
   "id": "0f2c53de",
   "metadata": {},
   "outputs": [],
   "source": [
    "'__init__' is a constructor. it is used to intialize values to the data member of the class when an object of the class \n",
    "is created."
   ]
  },
  {
   "cell_type": "markdown",
   "id": "fc59fab6",
   "metadata": {},
   "source": [
    "6. What is the process for creating a class instance?"
   ]
  },
  {
   "cell_type": "markdown",
   "id": "f52b55ac",
   "metadata": {},
   "source": [
    "To create instances of a class, you call the class using class name and pass in whatever arguments its __init__ method \n",
    "accepts"
   ]
  },
  {
   "cell_type": "code",
   "execution_count": 1,
   "id": "6be0c293",
   "metadata": {},
   "outputs": [],
   "source": [
    "class employee:\n",
    "    def __init__(self, name):\n",
    "        self.name = name\n",
    "    \n",
    "    def print_name(self):\n",
    "        print(f\"The name of the employee is {self.name}\")"
   ]
  },
  {
   "cell_type": "code",
   "execution_count": 2,
   "id": "868bc3ac",
   "metadata": {},
   "outputs": [
    {
     "name": "stdout",
     "output_type": "stream",
     "text": [
      "The name of the employee is Snehal\n"
     ]
    }
   ],
   "source": [
    "e = employee(\"Snehal\")\n",
    "e.print_name()"
   ]
  },
  {
   "cell_type": "markdown",
   "id": "c8fc8684",
   "metadata": {},
   "source": [
    "7. What is the process for creating a class?"
   ]
  },
  {
   "cell_type": "markdown",
   "id": "af5de950",
   "metadata": {},
   "source": [
    "We can create a class using the class keyword followed by name of the class then \":\". Then if we need to have an instance of it we have to create \"__init__\" constructor. if a class requires an instance method, then we have create the method with the first argument as object itself. Example as below"
   ]
  },
  {
   "cell_type": "code",
   "execution_count": 3,
   "id": "6ae00964",
   "metadata": {},
   "outputs": [],
   "source": [
    "class student:\n",
    "    def __init__(self, name, age):\n",
    "        self.name = name\n",
    "        self.age = age\n",
    "    \n",
    "    def print_name_age(self):\n",
    "        print(f\"The name of the student is {self.name}\")\n",
    "        print(f\"The age of the {self.name} is {self.age}\")"
   ]
  },
  {
   "cell_type": "code",
   "execution_count": 4,
   "id": "85392af8",
   "metadata": {},
   "outputs": [
    {
     "name": "stdout",
     "output_type": "stream",
     "text": [
      "The name of the student is Payal\n",
      "The age of the Payal is 18\n"
     ]
    }
   ],
   "source": [
    "s = student(\"Payal\",18)\n",
    "s.print_name_age()"
   ]
  },
  {
   "cell_type": "markdown",
   "id": "632385da",
   "metadata": {},
   "source": [
    "8. How would you define the superclasses of a class?"
   ]
  },
  {
   "cell_type": "markdown",
   "id": "aeab504f",
   "metadata": {},
   "source": [
    "The class from which a class inherits is called the parent or superclass. A class which inherits from a superclass is called a subclass"
   ]
  },
  {
   "cell_type": "code",
   "execution_count": 5,
   "id": "87f06e2d",
   "metadata": {},
   "outputs": [],
   "source": [
    "class Robot:\n",
    "    def __init__(self, name):\n",
    "        self.name = name\n",
    "    def say_hi(self):\n",
    "        print(\"Hi, I am \" + self.name)\n",
    "class PhysicianRobot(Robot):\n",
    "    pass"
   ]
  },
  {
   "cell_type": "code",
   "execution_count": 6,
   "id": "fa0de14c",
   "metadata": {},
   "outputs": [
    {
     "name": "stdout",
     "output_type": "stream",
     "text": [
      "Hi, I am Alex\n"
     ]
    }
   ],
   "source": [
    "pr = PhysicianRobot(\"Alex\")\n",
    "pr.say_hi()"
   ]
  }
 ],
 "metadata": {
  "kernelspec": {
   "display_name": "Python 3 (ipykernel)",
   "language": "python",
   "name": "python3"
  },
  "language_info": {
   "codemirror_mode": {
    "name": "ipython",
    "version": 3
   },
   "file_extension": ".py",
   "mimetype": "text/x-python",
   "name": "python",
   "nbconvert_exporter": "python",
   "pygments_lexer": "ipython3",
   "version": "3.9.7"
  }
 },
 "nbformat": 4,
 "nbformat_minor": 5
}

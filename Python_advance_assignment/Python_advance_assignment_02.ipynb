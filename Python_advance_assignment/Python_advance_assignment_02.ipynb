{
 "cells": [
  {
   "cell_type": "markdown",
   "id": "aa6c4e22",
   "metadata": {},
   "source": [
    "Q1.What is the relationship between classes and modules?\n",
    "\n",
    "ANS:- modules contain classes."
   ]
  },
  {
   "cell_type": "markdown",
   "id": "e7d92884",
   "metadata": {},
   "source": [
    "Q2.How do you make instances and classes?"
   ]
  },
  {
   "cell_type": "code",
   "execution_count": 1,
   "id": "33c32e16",
   "metadata": {},
   "outputs": [],
   "source": [
    "#creation of class\n",
    "class test:\n",
    "    def abc(self):\n",
    "        print('abc')"
   ]
  },
  {
   "cell_type": "code",
   "execution_count": 2,
   "id": "48a0d7be",
   "metadata": {},
   "outputs": [
    {
     "name": "stdout",
     "output_type": "stream",
     "text": [
      "abc\n"
     ]
    }
   ],
   "source": [
    "#creation of instance\n",
    "obj=test()\n",
    "obj.abc()"
   ]
  },
  {
   "cell_type": "markdown",
   "id": "e93630b2",
   "metadata": {},
   "source": [
    "Q3.Where and how should be class attributes created?"
   ]
  },
  {
   "cell_type": "code",
   "execution_count": 3,
   "id": "26d2df5b",
   "metadata": {},
   "outputs": [
    {
     "name": "stdout",
     "output_type": "stream",
     "text": [
      "5\n",
      "10\n"
     ]
    }
   ],
   "source": [
    "class test:\n",
    "    a=5\n",
    "    b=10\n",
    "print(test.a)\n",
    "print(test.b) #Here a,b are class attributes"
   ]
  },
  {
   "cell_type": "markdown",
   "id": "62be6075",
   "metadata": {},
   "source": [
    "Q4.Where and how are instance attributes created?"
   ]
  },
  {
   "cell_type": "code",
   "execution_count": 4,
   "id": "37d7a701",
   "metadata": {},
   "outputs": [
    {
     "name": "stdout",
     "output_type": "stream",
     "text": [
      "10\n",
      "20\n"
     ]
    }
   ],
   "source": [
    "class test:\n",
    "    def __init__(self,c,d):\n",
    "        self.c=c\n",
    "        self.d=d #Here c,d are instance attributes\n",
    "obj=test(10,20)\n",
    "print(obj.c)\n",
    "print(obj.d)"
   ]
  },
  {
   "cell_type": "markdown",
   "id": "ca9ec776",
   "metadata": {},
   "source": [
    "Q5.What does the term \"self\" in a Python class mean?\n",
    "\n",
    "ANS:- 'self' is used to represent an instance(object) of the given class."
   ]
  },
  {
   "cell_type": "markdown",
   "id": "bdfc7467",
   "metadata": {},
   "source": [
    "Q6.How does a Python class handle operator overloading?\n",
    "\n",
    "ANS:- To handle operator overloading python provides some special function or magic function"
   ]
  },
  {
   "cell_type": "code",
   "execution_count": 6,
   "id": "f7d3c4bb",
   "metadata": {},
   "outputs": [],
   "source": [
    "class A:\n",
    "    def __init__(self,a):\n",
    "        self.a=a\n",
    "    def __add__(self,o):     #Here __add__() is a magic function\n",
    "        return self.a+o.a"
   ]
  },
  {
   "cell_type": "code",
   "execution_count": 7,
   "id": "473c7108",
   "metadata": {},
   "outputs": [
    {
     "name": "stdout",
     "output_type": "stream",
     "text": [
      "15\n",
      "GoodMorning\n"
     ]
    }
   ],
   "source": [
    "obj1=A(5)\n",
    "obj2=A(10)\n",
    "print(obj1+obj2)\n",
    "obj3=A('Good')\n",
    "obj4=A('Morning')\n",
    "print(obj3+obj4)"
   ]
  },
  {
   "cell_type": "markdown",
   "id": "f3e57299",
   "metadata": {},
   "source": [
    "Q7.When do you consider allowing operator overloading of your classes?\n",
    "\n",
    "ANS:- We have two objects and if we want to add them we get error because compiler doesnot know how to add object. So, we define a method for an operator.\n",
    "\n",
    "\n",
    "Q8.What is the most popular form of operator overloading?\n",
    "\n",
    "ANS:- The + operator is most popular operator overloading.\n",
    "\n",
    "\n",
    "Q9.What are the two most important concepts to grasp in order to comprehend Python OOP code?\n",
    "\n",
    "ANS:-class and object"
   ]
  },
  {
   "cell_type": "code",
   "execution_count": null,
   "id": "6c99ebc3",
   "metadata": {},
   "outputs": [],
   "source": []
  }
 ],
 "metadata": {
  "kernelspec": {
   "display_name": "Python 3 (ipykernel)",
   "language": "python",
   "name": "python3"
  },
  "language_info": {
   "codemirror_mode": {
    "name": "ipython",
    "version": 3
   },
   "file_extension": ".py",
   "mimetype": "text/x-python",
   "name": "python",
   "nbconvert_exporter": "python",
   "pygments_lexer": "ipython3",
   "version": "3.9.7"
  }
 },
 "nbformat": 4,
 "nbformat_minor": 5
}

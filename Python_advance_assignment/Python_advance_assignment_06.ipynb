{
 "cells": [
  {
   "cell_type": "markdown",
   "id": "c9167bbe",
   "metadata": {},
   "source": [
    "Q1.Describe three applications for exception processing.\n",
    "\n",
    "ANS:- Exception can be handled during run time error not compile time error."
   ]
  },
  {
   "cell_type": "code",
   "execution_count": 1,
   "id": "0591c039",
   "metadata": {},
   "outputs": [
    {
     "name": "stdout",
     "output_type": "stream",
     "text": [
      "Enter number1: 6.6\n",
      "Enter number2: 0\n",
      "float division by zero\n"
     ]
    }
   ],
   "source": [
    "try:\n",
    "    a=float(input(\"Enter number1: \"))\n",
    "    b=float(input(\"Enter number2: \"))\n",
    "    print(\"Result: \",a/b)\n",
    "except Exception as e:\n",
    "    print(e)"
   ]
  },
  {
   "cell_type": "code",
   "execution_count": 2,
   "id": "b5d2a46f",
   "metadata": {},
   "outputs": [
    {
     "name": "stdout",
     "output_type": "stream",
     "text": [
      "[Errno 2] No such file or directory: 'myfile.txt'\n"
     ]
    }
   ],
   "source": [
    "try:\n",
    "    with open('myfile.txt','r') as f:\n",
    "        print(f.read())\n",
    "except Exception as e:\n",
    "    print(e)"
   ]
  },
  {
   "cell_type": "code",
   "execution_count": 3,
   "id": "4ab3a311",
   "metadata": {},
   "outputs": [
    {
     "name": "stdout",
     "output_type": "stream",
     "text": [
      "can only concatenate str (not \"int\") to str\n"
     ]
    }
   ],
   "source": [
    "try:\n",
    "    a='ineuron'\n",
    "    b=2022\n",
    "    print(a+b)\n",
    "except Exception as e:\n",
    "    print(e)"
   ]
  },
  {
   "cell_type": "markdown",
   "id": "b7170996",
   "metadata": {},
   "source": [
    "Q2.What happens if you don't do something extra to treat an exception?\n",
    "\n",
    "ANS:- If we don't handle exception, exception will cause the interpreter to halt the execution of the code."
   ]
  },
  {
   "cell_type": "markdown",
   "id": "bc955e12",
   "metadata": {},
   "source": [
    "Q3.What are your options for recovering from an exception in your script?\n",
    "\n",
    "ANS:- We use try-except block, in except block we write the action if exception occurs."
   ]
  },
  {
   "cell_type": "markdown",
   "id": "0195a1a0",
   "metadata": {},
   "source": [
    "Q4.Describe two methods for triggering exceptions in your script.\n",
    "\n",
    "ANS:- We use try and raise ."
   ]
  },
  {
   "cell_type": "code",
   "execution_count": 4,
   "id": "5b7d71ff",
   "metadata": {},
   "outputs": [
    {
     "name": "stdout",
     "output_type": "stream",
     "text": [
      "it is name error\n"
     ]
    }
   ],
   "source": [
    "try:\n",
    "    raise NameError('it is name error')\n",
    "except Exception as e:\n",
    "    print(e)"
   ]
  },
  {
   "cell_type": "markdown",
   "id": "78d13046",
   "metadata": {},
   "source": [
    "Q5.Identify two methods for specifying actions to be executed at termination time, regardless of whether or not an exception exists.\n",
    "\n",
    "ANS:- else-if exception does not exist\n",
    "\n",
    "finally- regardless whether or not an exception exsists"
   ]
  },
  {
   "cell_type": "code",
   "execution_count": 5,
   "id": "75e2c1cb",
   "metadata": {},
   "outputs": [
    {
     "name": "stdout",
     "output_type": "stream",
     "text": [
      "Enter number1: 4\n",
      "Enter number2: 8\n",
      "Result:  0.5\n",
      "it is else\n"
     ]
    }
   ],
   "source": [
    "try:\n",
    "    a=float(input(\"Enter number1: \"))\n",
    "    b=float(input(\"Enter number2: \"))\n",
    "    print(\"Result: \",a/b)\n",
    "except Exception as e:\n",
    "    print(e)\n",
    "else:\n",
    "    print('it is else')"
   ]
  },
  {
   "cell_type": "code",
   "execution_count": 6,
   "id": "7f138421",
   "metadata": {},
   "outputs": [
    {
     "name": "stdout",
     "output_type": "stream",
     "text": [
      "Enter number1: 5\n",
      "Enter number2: 0\n",
      "float division by zero\n",
      "it is finally\n"
     ]
    }
   ],
   "source": [
    "try:\n",
    "    a=float(input(\"Enter number1: \"))\n",
    "    b=float(input(\"Enter number2: \"))\n",
    "    print(\"Result: \",a/b)\n",
    "except Exception as e:\n",
    "    print(e)\n",
    "finally:\n",
    "    print('it is finally')"
   ]
  }
 ],
 "metadata": {
  "kernelspec": {
   "display_name": "Python 3 (ipykernel)",
   "language": "python",
   "name": "python3"
  },
  "language_info": {
   "codemirror_mode": {
    "name": "ipython",
    "version": 3
   },
   "file_extension": ".py",
   "mimetype": "text/x-python",
   "name": "python",
   "nbconvert_exporter": "python",
   "pygments_lexer": "ipython3",
   "version": "3.9.7"
  }
 },
 "nbformat": 4,
 "nbformat_minor": 5
}

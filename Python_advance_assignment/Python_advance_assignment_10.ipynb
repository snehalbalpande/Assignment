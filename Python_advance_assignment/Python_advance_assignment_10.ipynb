{
 "cells": [
  {
   "cell_type": "markdown",
   "id": "c6185dcf",
   "metadata": {},
   "source": [
    "Q1.What is the difference between getattr and getattribute?\n",
    "\n",
    "ANS:- Python will call getattr method whenever you request an attribute that hasn't already been defined.\n",
    "\n",
    "If you have getattribute method in your class, python invokes this method for every attribute regardless whether it exists or not."
   ]
  },
  {
   "cell_type": "markdown",
   "id": "129e8386",
   "metadata": {},
   "source": [
    "Q2.What is the difference between properties and descriptors?\n",
    "\n",
    "ANS:- Properties-We can bind getter, setter (and deleter) functions with an attribute name, using the built-in property function.\n",
    "\n",
    "Descriptors-We can bind getter, setter (and deleter) functions into a separate class. We then assign an object of this class to the attribute name."
   ]
  },
  {
   "cell_type": "markdown",
   "id": "01ee1396",
   "metadata": {},
   "source": [
    "Q3.What are the key differences in functionality between getattr and getattribute, as well as properties and descriptors?\n",
    "\n",
    "ANS:- Python will call getattr method whenever you request an attribute that hasn't already been defined.\n",
    "\n",
    "If you have getattribute method in your class, python invokes this method for every attribute regardless whether it exists or not.\n",
    "\n",
    "Properties-We can bind getter, setter (and deleter) functions with an attribute name, using the built-in property function.\n",
    "\n",
    "Descriptors-We can bind getter, setter (and deleter) functions into a separate class. We then assign an object of this class to the attribute name."
   ]
  },
  {
   "cell_type": "code",
   "execution_count": null,
   "id": "89b53f8b",
   "metadata": {},
   "outputs": [],
   "source": []
  }
 ],
 "metadata": {
  "kernelspec": {
   "display_name": "Python 3 (ipykernel)",
   "language": "python",
   "name": "python3"
  },
  "language_info": {
   "codemirror_mode": {
    "name": "ipython",
    "version": 3
   },
   "file_extension": ".py",
   "mimetype": "text/x-python",
   "name": "python",
   "nbconvert_exporter": "python",
   "pygments_lexer": "ipython3",
   "version": "3.9.7"
  }
 },
 "nbformat": 4,
 "nbformat_minor": 5
}

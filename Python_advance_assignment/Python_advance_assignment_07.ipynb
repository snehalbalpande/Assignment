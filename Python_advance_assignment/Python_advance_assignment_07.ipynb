{
 "cells": [
  {
   "cell_type": "markdown",
   "id": "73da5454",
   "metadata": {},
   "source": [
    "Q1.What is the purpose of the try statement?\n",
    "\n",
    "ANS:- Any code that may raise exception we put that in try block."
   ]
  },
  {
   "cell_type": "markdown",
   "id": "627a416e",
   "metadata": {},
   "source": [
    "Q2.What are the two most popular try statement variations?\n",
    "\n",
    "ANS:- 1. ImportError - if a python module can not be loaded or located.\n",
    "\n",
    "     2. KeyboardInterrupt - if a unrequired key is pressed by user."
   ]
  },
  {
   "cell_type": "markdown",
   "id": "54bd04f7",
   "metadata": {},
   "source": [
    "Q3.What is the purpose of the raise statement?\n",
    "\n",
    "ANS:- raise statement raises an exception in code."
   ]
  },
  {
   "cell_type": "markdown",
   "id": "454c35ed",
   "metadata": {},
   "source": [
    "Q4.What does the assert statement do, and what other statement is it like?\n",
    "\n",
    "ANS:- assert statement gives AssertionError if the condition given after assert is false.\n",
    "\n",
    "It is like raise statement by which we can raise exception."
   ]
  },
  {
   "cell_type": "markdown",
   "id": "7e8a00d8",
   "metadata": {},
   "source": [
    "Q5.What is the purpose of the with/as argument, and what other statement is it like?\n",
    "\n",
    "ANS:- with/as arguments are used to open a file and they themselves close the file after doing the given action."
   ]
  }
 ],
 "metadata": {
  "kernelspec": {
   "display_name": "Python 3 (ipykernel)",
   "language": "python",
   "name": "python3"
  },
  "language_info": {
   "codemirror_mode": {
    "name": "ipython",
    "version": 3
   },
   "file_extension": ".py",
   "mimetype": "text/x-python",
   "name": "python",
   "nbconvert_exporter": "python",
   "pygments_lexer": "ipython3",
   "version": "3.9.7"
  }
 },
 "nbformat": 4,
 "nbformat_minor": 5
}

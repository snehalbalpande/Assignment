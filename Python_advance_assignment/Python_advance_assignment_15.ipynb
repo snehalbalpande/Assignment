{
 "cells": [
  {
   "cell_type": "markdown",
   "id": "53fdcd34",
   "metadata": {},
   "source": [
    "1.What are the new features added in Python 3.8 version?\n",
    "\n",
    "Positional-only parameters(/)\n",
    "\n",
    "Assignment Expressions(:=)\n",
    "\n",
    "f-strings now support “=”\n",
    "\n",
    "reversed() works with a dictionary\n",
    "\n",
    "No parentheses for return and yield statements\n",
    "\n",
    "pow() function\n",
    "\n",
    "Syntax Warning\n",
    "\n",
    "Dictionary comprehension\n",
    "\n",
    "‘csv’ module\n",
    "\n",
    "importlib_metadata"
   ]
  },
  {
   "cell_type": "markdown",
   "id": "de3ac87b",
   "metadata": {},
   "source": [
    "2.What is monkey patching in Python?\n",
    "\n",
    "ANS:- In Python, the term monkey patch refers to dynamic (or run-time) modifications of a class or module. In Python, we can actually change the behavior of code at run-time."
   ]
  },
  {
   "cell_type": "code",
   "execution_count": 9,
   "id": "bb32592b",
   "metadata": {},
   "outputs": [],
   "source": [
    "#monk.py\n",
    "\n",
    "class A:\n",
    "    def funcA(self):\n",
    "        print('funcA is called')"
   ]
  },
  {
   "cell_type": "code",
   "execution_count": 10,
   "id": "bc2ed664",
   "metadata": {},
   "outputs": [
    {
     "name": "stdout",
     "output_type": "stream",
     "text": [
      "Requirement already satisfied: monk in c:\\users\\admin\\anaconda3\\lib\\site-packages (0.13.2)\n"
     ]
    }
   ],
   "source": [
    "!pip install monk"
   ]
  },
  {
   "cell_type": "code",
   "execution_count": 12,
   "id": "a404fc32",
   "metadata": {},
   "outputs": [],
   "source": [
    "import monk"
   ]
  },
  {
   "cell_type": "code",
   "execution_count": 21,
   "id": "ee6c918c",
   "metadata": {},
   "outputs": [
    {
     "name": "stdout",
     "output_type": "stream",
     "text": [
      "funcB is called\n"
     ]
    }
   ],
   "source": [
    "import monk\n",
    "def funcB(self):\n",
    "    print('funcB is called')\n",
    "    monk.A.funcA=funcB\n",
    "    obj=monk.A()\n",
    "    obj.funcA()\n",
    "print('funcB is called')"
   ]
  },
  {
   "cell_type": "markdown",
   "id": "48ef765e",
   "metadata": {},
   "source": [
    "3.What is the difference between a shallow copy and deep copy?"
   ]
  },
  {
   "cell_type": "code",
   "execution_count": 22,
   "id": "8bbc89dd",
   "metadata": {},
   "outputs": [],
   "source": [
    "import copy\n",
    "li=[[5,10],[15,20]]\n",
    "li1=copy.copy(li)     #shallow copy\n",
    "li2=copy.deepcopy(li) #deep copy"
   ]
  },
  {
   "cell_type": "code",
   "execution_count": 23,
   "id": "6815f649",
   "metadata": {},
   "outputs": [],
   "source": [
    "li[0][0]=30"
   ]
  },
  {
   "cell_type": "code",
   "execution_count": 24,
   "id": "679f74e8",
   "metadata": {},
   "outputs": [
    {
     "data": {
      "text/plain": [
       "[[30, 10], [15, 20]]"
      ]
     },
     "execution_count": 24,
     "metadata": {},
     "output_type": "execute_result"
    }
   ],
   "source": [
    "li1"
   ]
  },
  {
   "cell_type": "code",
   "execution_count": 25,
   "id": "9dd605b4",
   "metadata": {},
   "outputs": [
    {
     "data": {
      "text/plain": [
       "[[5, 10], [15, 20]]"
      ]
     },
     "execution_count": 25,
     "metadata": {},
     "output_type": "execute_result"
    }
   ],
   "source": [
    "li2"
   ]
  },
  {
   "cell_type": "markdown",
   "id": "684bbad7",
   "metadata": {},
   "source": [
    "4.What is the maximum possible length of an identifier?\n",
    "\n",
    "ANS:- 79"
   ]
  },
  {
   "cell_type": "markdown",
   "id": "e9bc410a",
   "metadata": {},
   "source": [
    "5.What is generator comprehension?"
   ]
  },
  {
   "cell_type": "code",
   "execution_count": 26,
   "id": "954a04ee",
   "metadata": {},
   "outputs": [],
   "source": [
    "gen=(i for i in range(10) if i%2==0)"
   ]
  },
  {
   "cell_type": "code",
   "execution_count": 27,
   "id": "ed43dc01",
   "metadata": {},
   "outputs": [
    {
     "data": {
      "text/plain": [
       "<generator object <genexpr> at 0x00000118C9A59E40>"
      ]
     },
     "execution_count": 27,
     "metadata": {},
     "output_type": "execute_result"
    }
   ],
   "source": [
    "gen"
   ]
  },
  {
   "cell_type": "code",
   "execution_count": 28,
   "id": "72d950ac",
   "metadata": {},
   "outputs": [
    {
     "data": {
      "text/plain": [
       "0"
      ]
     },
     "execution_count": 28,
     "metadata": {},
     "output_type": "execute_result"
    }
   ],
   "source": [
    "next(gen)"
   ]
  },
  {
   "cell_type": "code",
   "execution_count": 29,
   "id": "18ac9968",
   "metadata": {},
   "outputs": [
    {
     "data": {
      "text/plain": [
       "2"
      ]
     },
     "execution_count": 29,
     "metadata": {},
     "output_type": "execute_result"
    }
   ],
   "source": [
    "next(gen)"
   ]
  },
  {
   "cell_type": "code",
   "execution_count": 30,
   "id": "4d097fd9",
   "metadata": {},
   "outputs": [
    {
     "data": {
      "text/plain": [
       "4"
      ]
     },
     "execution_count": 30,
     "metadata": {},
     "output_type": "execute_result"
    }
   ],
   "source": [
    "next(gen)"
   ]
  },
  {
   "cell_type": "code",
   "execution_count": null,
   "id": "3d9e95a9",
   "metadata": {},
   "outputs": [],
   "source": []
  }
 ],
 "metadata": {
  "kernelspec": {
   "display_name": "Python 3 (ipykernel)",
   "language": "python",
   "name": "python3"
  },
  "language_info": {
   "codemirror_mode": {
    "name": "ipython",
    "version": 3
   },
   "file_extension": ".py",
   "mimetype": "text/x-python",
   "name": "python",
   "nbconvert_exporter": "python",
   "pygments_lexer": "ipython3",
   "version": "3.9.7"
  }
 },
 "nbformat": 4,
 "nbformat_minor": 5
}

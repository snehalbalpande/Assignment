{
 "cells": [
  {
   "cell_type": "markdown",
   "id": "15e75503",
   "metadata": {},
   "source": [
    "Q1.Is an assignment operator like += only for show? Is it possible that it would lead to faster results at the runtime?\n",
    "\n",
    "ANS:- += is faster and easy to write, runtime of a+=2 is less than a=a+2."
   ]
  },
  {
   "cell_type": "markdown",
   "id": "20013d8b",
   "metadata": {},
   "source": [
    "Q2.What is the smallest number of statements you'd have to write in most programming languages to replace the Python expression a, b = a + b, a?\n",
    "\n",
    "ANS:- Two"
   ]
  },
  {
   "cell_type": "markdown",
   "id": "a0297fab",
   "metadata": {},
   "source": [
    "Q3.In Python, what is the most effective way to set a list of 100 integers to 0?"
   ]
  },
  {
   "cell_type": "code",
   "execution_count": 2,
   "id": "b1873112",
   "metadata": {},
   "outputs": [
    {
     "name": "stdout",
     "output_type": "stream",
     "text": [
      "[0, 0, 0, 0, 0, 0, 0, 0, 0, 0, 0, 0, 0, 0, 0, 0, 0, 0, 0, 0, 0, 0, 0, 0, 0, 0, 0, 0, 0, 0, 0, 0, 0, 0, 0, 0, 0, 0, 0, 0, 0, 0, 0, 0, 0, 0, 0, 0, 0, 0, 0, 0, 0, 0, 0, 0, 0, 0, 0, 0, 0, 0, 0, 0, 0, 0, 0, 0, 0, 0, 0, 0, 0, 0, 0, 0, 0, 0, 0, 0, 0, 0, 0, 0, 0, 0, 0, 0, 0, 0, 0, 0, 0, 0, 0, 0, 0, 0, 0, 0]\n"
     ]
    }
   ],
   "source": [
    "l=[0]*100\n",
    "print(l)"
   ]
  },
  {
   "cell_type": "code",
   "execution_count": null,
   "id": "046c297f",
   "metadata": {},
   "outputs": [],
   "source": [
    "for i in range(100)"
   ]
  },
  {
   "cell_type": "markdown",
   "id": "6bd72fdb",
   "metadata": {},
   "source": [
    "Q4.What is the most effective way to initialise a list of 99 integers that repeats the sequence 1, 2, 3? S If necessary, show step-by-step instructions on how to accomplish this."
   ]
  },
  {
   "cell_type": "code",
   "execution_count": 5,
   "id": "6aab605a",
   "metadata": {},
   "outputs": [
    {
     "name": "stdout",
     "output_type": "stream",
     "text": [
      "[1, 2, 3, 1, 2, 3, 1, 2, 3, 1, 2, 3, 1, 2, 3, 1, 2, 3, 1, 2, 3, 1, 2, 3, 1, 2, 3, 1, 2, 3, 1, 2, 3, 1, 2, 3, 1, 2, 3, 1, 2, 3, 1, 2, 3, 1, 2, 3, 1, 2, 3, 1, 2, 3, 1, 2, 3, 1, 2, 3, 1, 2, 3, 1, 2, 3, 1, 2, 3, 1, 2, 3, 1, 2, 3, 1, 2, 3, 1, 2, 3, 1, 2, 3, 1, 2, 3, 1, 2, 3, 1, 2, 3, 1, 2, 3, 1, 2, 3]\n"
     ]
    }
   ],
   "source": [
    "print([1,2,3]*33)"
   ]
  },
  {
   "cell_type": "markdown",
   "id": "11eb5ca4",
   "metadata": {},
   "source": [
    "Q5.If you're using IDLE to run a Python application, explain how to print a multidimensional list as efficiently?\n",
    "\n",
    "ANS:- We can print just by calling its name"
   ]
  },
  {
   "cell_type": "code",
   "execution_count": 6,
   "id": "dbb08c74",
   "metadata": {},
   "outputs": [
    {
     "data": {
      "text/plain": [
       "[[1, 2, 3, 4], ['A', 'B'], [5, 6, 7, 8]]"
      ]
     },
     "execution_count": 6,
     "metadata": {},
     "output_type": "execute_result"
    }
   ],
   "source": [
    "l = [[1,2,3,4],['A','B'],[5,6,7,8]]\n",
    "l"
   ]
  },
  {
   "cell_type": "markdown",
   "id": "1c879242",
   "metadata": {},
   "source": [
    "Q6.Is it possible to use list comprehension with a string? If so, how can you go about doing it?"
   ]
  },
  {
   "cell_type": "code",
   "execution_count": 7,
   "id": "b927a564",
   "metadata": {},
   "outputs": [
    {
     "data": {
      "text/plain": [
       "['i', 'n', 'e', 'u', 'r', 'o', 'n']"
      ]
     },
     "execution_count": 7,
     "metadata": {},
     "output_type": "execute_result"
    }
   ],
   "source": [
    "[i for i in 'ineuron']"
   ]
  },
  {
   "cell_type": "markdown",
   "id": "c38a6da0",
   "metadata": {},
   "source": [
    "Q7.From the command line, how do you get support with a user-written Python programme? Is this possible from inside IDLE?\n",
    "\n",
    "ANS:- \n",
    "Steps for command line:\n",
    "\n",
    "1. Open command prompt.\n",
    "2. Go to the directory containing python program file(.py)\n",
    "3. Type \"python file_name.py\", press enter to run the file.\n",
    "\n",
    "Steps for python IDLE:\n",
    "\n",
    "1. Open python IDLE.\n",
    "2. Click on file>open>file_name.py\n",
    "3. Press F5 key to run the program."
   ]
  },
  {
   "cell_type": "markdown",
   "id": "8dd49db9",
   "metadata": {},
   "source": [
    "Q8.Functions are said to be “first-class objects” in Python but not in most other languages, such as C++ or Java. What can you do in Python with a function (callable object) that you can't do in C or C++?\n",
    "\n",
    "ANS:- In Python, functions are like any other object, such as an int or a list. That means that you can use functions as arguments to other functions, store functions as dictionary values, or return a function from another function. This leads to many powerful ways to use functions."
   ]
  },
  {
   "cell_type": "markdown",
   "id": "6dfa4938",
   "metadata": {},
   "source": [
    "Q9.How do you distinguish between a wrapper, a wrapped feature, and a decorator?\n",
    "\n",
    "ANS:- A wrapper, a wrapped feature, and a decorator are all same. They can be thought of as functions which modify the functionality of another function. They help to make your code shorter and more \"Pythonic\"."
   ]
  },
  {
   "cell_type": "markdown",
   "id": "9098b00c",
   "metadata": {},
   "source": [
    "Q10.If a function is a generator function, what does it return?\n",
    "\n",
    "ANS:- It will return generator object"
   ]
  },
  {
   "cell_type": "code",
   "execution_count": 10,
   "id": "29848ed0",
   "metadata": {},
   "outputs": [
    {
     "data": {
      "text/plain": [
       "<generator object test at 0x000002264B305510>"
      ]
     },
     "execution_count": 10,
     "metadata": {},
     "output_type": "execute_result"
    }
   ],
   "source": [
    "def test(n):\n",
    "    for i in range(n):\n",
    "        yield i\n",
    "test(6)"
   ]
  },
  {
   "cell_type": "markdown",
   "id": "a151b9ee",
   "metadata": {},
   "source": [
    "Q11.What is the one improvement that must be made to a function in order for it to become a generator function in the Python language?\n",
    "\n",
    "ANS:- we have to use yield statement rather return"
   ]
  },
  {
   "cell_type": "markdown",
   "id": "54c8f032",
   "metadata": {},
   "source": [
    "Q11.What is the one improvement that must be made to a function in order for it to become a generator function in the Python language?\n",
    "\n",
    "ANS:- we have to use yield statement rather return"
   ]
  },
  {
   "cell_type": "code",
   "execution_count": null,
   "id": "2a27338b",
   "metadata": {},
   "outputs": [],
   "source": []
  }
 ],
 "metadata": {
  "kernelspec": {
   "display_name": "Python 3 (ipykernel)",
   "language": "python",
   "name": "python3"
  },
  "language_info": {
   "codemirror_mode": {
    "name": "ipython",
    "version": 3
   },
   "file_extension": ".py",
   "mimetype": "text/x-python",
   "name": "python",
   "nbconvert_exporter": "python",
   "pygments_lexer": "ipython3",
   "version": "3.9.7"
  }
 },
 "nbformat": 4,
 "nbformat_minor": 5
}

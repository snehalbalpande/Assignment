{
 "cells": [
  {
   "cell_type": "markdown",
   "id": "97e055cd",
   "metadata": {},
   "source": [
    "Q1.Explain the difference between greedy and non-greedy syntax with visual terms in as few words as possible. What is the bare minimum effort required to transform a greedy pattern into a non-greedy one? What characters or characters can you introduce or change?"
   ]
  },
  {
   "cell_type": "markdown",
   "id": "3568a0b1",
   "metadata": {},
   "source": [
    "Greedy mode tries to match the longest possible term first and non-greedy tries to match the shortest possible term first."
   ]
  },
  {
   "cell_type": "code",
   "execution_count": 7,
   "id": "1243a9ea",
   "metadata": {},
   "outputs": [
    {
     "data": {
      "text/plain": [
       "'Mool Chand'"
      ]
     },
     "execution_count": 7,
     "metadata": {},
     "output_type": "execute_result"
    }
   ],
   "source": [
    "#non-greedy\n",
    "import re\n",
    "s='Mool Chand is a good human being. Mool Chand always pays tax. Mool Chand is learning Python.'\n",
    "pattern=re.compile('Mool Chand.*?')\n",
    "re.search(pattern,s).group()"
   ]
  },
  {
   "cell_type": "code",
   "execution_count": 8,
   "id": "7154f831",
   "metadata": {},
   "outputs": [
    {
     "data": {
      "text/plain": [
       "'Mool Chand is a good human being. Mool Chand always pays tax. Mool Chand is learning Python.'"
      ]
     },
     "execution_count": 8,
     "metadata": {},
     "output_type": "execute_result"
    }
   ],
   "source": [
    "#greedy\n",
    "import re\n",
    "s='Mool Chand is a good human being. Mool Chand always pays tax. Mool Chand is learning Python.'\n",
    "pattern=re.compile('Mool Chand.*')\n",
    "re.search(pattern,s).group()"
   ]
  },
  {
   "cell_type": "markdown",
   "id": "7f3eea83",
   "metadata": {},
   "source": [
    "Q2.When exactly does greedy versus non-greedy make a difference? What if you're looking for a non-greedy match but the only one available is greedy?\n",
    "\n",
    "ANS:- If pattern present more than one times then greedy vs non-greedy make a difference.\n",
    "\n",
    "We can use non-greedy syntax to get non-greedy match."
   ]
  },
  {
   "cell_type": "markdown",
   "id": "c9f37916",
   "metadata": {},
   "source": [
    "Q3.In a simple match of a string, which looks only for one match and does not do any replacement, is the use of a nontagged group likely to make any practical difference?"
   ]
  },
  {
   "cell_type": "code",
   "execution_count": 23,
   "id": "76b3ff68",
   "metadata": {},
   "outputs": [
    {
     "name": "stdout",
     "output_type": "stream",
     "text": [
      "123\n",
      "123\n"
     ]
    }
   ],
   "source": [
    "import re\n",
    "s='my number is 123-456-789'\n",
    "pattern=re.compile('\\d\\d\\d')\n",
    "print(pattern.search(s).group())#non-tagged group\n",
    "print(pattern.search(s).group(0))"
   ]
  },
  {
   "cell_type": "markdown",
   "id": "11205633",
   "metadata": {},
   "source": [
    "Q4.Describe a scenario in which using a nontagged category would have a significant impact on the program's outcomes."
   ]
  },
  {
   "cell_type": "code",
   "execution_count": 27,
   "id": "fe06d9c3",
   "metadata": {},
   "outputs": [
    {
     "data": {
      "text/plain": [
       "('123', '456', '789')"
      ]
     },
     "execution_count": 27,
     "metadata": {},
     "output_type": "execute_result"
    }
   ],
   "source": [
    "import re\n",
    "text='123-456-789'\n",
    "pattern=r'(\\d+)(?:-)(\\d+)(?:-)(\\d+)'\n",
    "regobj=re.compile(pattern)\n",
    "matobj=regobj.search(text)\n",
    "matobj.groups()\n",
    "#  Here the '-' is not tagged or captured."
   ]
  },
  {
   "cell_type": "markdown",
   "id": "93a35c56",
   "metadata": {},
   "source": [
    "Q5.Unlike a normal regex pattern, a look-ahead condition does not consume the characters it examines. Describe a situation in which this could make a difference in the results of your programme.\n",
    "\n",
    "ANS:- While counting the number of multiple lines or multiple sentence in a string the positive look ahead makes a difference, without which we wont get the correct count of lines or sentences in a string."
   ]
  },
  {
   "cell_type": "markdown",
   "id": "3431b997",
   "metadata": {},
   "source": [
    "Q6.In standard expressions, what is the difference between positive look-ahead and negative lookahead?\n",
    "\n",
    "ANS:- positive lookahead-It is to assure that the search string is followed by ."
   ]
  },
  {
   "cell_type": "code",
   "execution_count": 11,
   "id": "41a8563b",
   "metadata": {},
   "outputs": [
    {
     "data": {
      "text/plain": [
       "'snehal'"
      ]
     },
     "execution_count": 11,
     "metadata": {},
     "output_type": "execute_result"
    }
   ],
   "source": [
    "#positive lookahead\n",
    "\n",
    "import re\n",
    "s=re.search('snehal(?=[a-z])','snehalbalpande')\n",
    "s.group()"
   ]
  },
  {
   "cell_type": "code",
   "execution_count": 14,
   "id": "ce47e22a",
   "metadata": {},
   "outputs": [
    {
     "data": {
      "text/plain": [
       "'snehal'"
      ]
     },
     "execution_count": 14,
     "metadata": {},
     "output_type": "execute_result"
    }
   ],
   "source": [
    "#negative lookahead\n",
    "\n",
    "import re\n",
    "s=re.search('snehal(?![0-9])','snehalbalpande')\n",
    "s.group()"
   ]
  },
  {
   "cell_type": "markdown",
   "id": "6677d476",
   "metadata": {},
   "source": [
    "Q7.What is the benefit of referring to groups by name rather than by number in a standard expression?\n",
    "\n",
    "ANS:- The benifit of referring to the groups by name is that\n",
    "\n",
    "1)The code is clear\n",
    "\n",
    "2)It is easier to maimtain the code."
   ]
  },
  {
   "cell_type": "markdown",
   "id": "477a647c",
   "metadata": {},
   "source": [
    "Q8.Can you identify repeated items within a target string using named groups, as in \"The cow\n",
    "jumped over the moon\"?"
   ]
  },
  {
   "cell_type": "code",
   "execution_count": 34,
   "id": "139e93d6",
   "metadata": {},
   "outputs": [
    {
     "data": {
      "text/plain": [
       "['The', 'the']"
      ]
     },
     "execution_count": 34,
     "metadata": {},
     "output_type": "execute_result"
    }
   ],
   "source": [
    "import re\n",
    "text=\"The cow jumped over the moon\"\n",
    "pattern=re.compile('The',re.I)\n",
    "pattern.findall(text)"
   ]
  },
  {
   "cell_type": "markdown",
   "id": "9c4d10c7",
   "metadata": {},
   "source": [
    "Q9.When parsing a string, what is at least one thing that the Scanner interface does for you that the re.findall feature does not?\n",
    "\n",
    "ANS:- re.search() method either returns None (if the pattern doesn’t match), or a re.MatchObject that contains information about the matching part of the string. This method stops after the first match, so this is best suited for testing a regular expression more than extracting data,whereas Return all non-overlapping matches of pattern in string, as a list of strings. The string is scanned left to right, and matches are returned in the order found."
   ]
  },
  {
   "cell_type": "markdown",
   "id": "8869386c",
   "metadata": {},
   "source": [
    "Q10.Does a scanner object have to be named scanner?\n",
    "\n",
    "ANS:- The scanner object need not be named scanner. It may have any name."
   ]
  },
  {
   "cell_type": "code",
   "execution_count": null,
   "id": "b0014d00",
   "metadata": {},
   "outputs": [],
   "source": []
  }
 ],
 "metadata": {
  "kernelspec": {
   "display_name": "Python 3 (ipykernel)",
   "language": "python",
   "name": "python3"
  },
  "language_info": {
   "codemirror_mode": {
    "name": "ipython",
    "version": 3
   },
   "file_extension": ".py",
   "mimetype": "text/x-python",
   "name": "python",
   "nbconvert_exporter": "python",
   "pygments_lexer": "ipython3",
   "version": "3.9.7"
  }
 },
 "nbformat": 4,
 "nbformat_minor": 5
}

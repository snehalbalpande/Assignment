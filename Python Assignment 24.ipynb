{
 "cells": [
  {
   "cell_type": "code",
   "execution_count": null,
   "id": "3949ed54",
   "metadata": {},
   "outputs": [],
   "source": [
    "1. What is the relationship between def statements and lambda expressions ?\n",
    "\n",
    "ANS :-As an expression, lambda returns a value that can optionally be assigned a name. In contrast, the def statement\n",
    "    always assigns the new function to the name in the header, instead of returning is as a result. lambda's body is a \n",
    "    single  expression, not a block of statements.\n"
   ]
  },
  {
   "cell_type": "code",
   "execution_count": null,
   "id": "b7979aa5",
   "metadata": {},
   "outputs": [],
   "source": [
    "2. What is the benefit of lambda?\n",
    "\n",
    "ANS :- lambda functions alllow you to create small, single-use functions that can save time and space in your code.\n",
    "    They are also useful when you need to call a function that expects a function as an argument for a callback such as \n",
    "    map() and filter()."
   ]
  },
  {
   "cell_type": "code",
   "execution_count": null,
   "id": "a17ff268",
   "metadata": {},
   "outputs": [],
   "source": [
    "3. Compare and contrast map, filter, and reduce.\n",
    "\n",
    "ANS:- map create a new array by transformimg every element in an array individually. \n",
    "    filter creates a new array by removing elements that don't belong.\n",
    "    reduce, on the other hand, takes all  of the elements in an array and reduces tem into a single value. just like map\n",
    "    and filter, reduce is define on array."
   ]
  },
  {
   "cell_type": "code",
   "execution_count": null,
   "id": "cc851ba7",
   "metadata": {},
   "outputs": [],
   "source": [
    "4. What are function annotations, and how are they used?\n",
    "\n",
    "ANS:- Function annotation is the standard way to access the metadata with the arguments and the return value of the \n",
    "function. These are optional Python expressions that get allied to different parts of the function. They get evaluated \n",
    "only during the compile-time and have no significance during the run-time of the code. They do not have any significance or meaning \n",
    "associated with them until accessed by some third-party libraries. They are used to type check the functions by declaring \n",
    "the type of the parameters and the return value for the functions. The string-based annotations help us to improve the \n",
    "help messages.\n",
    "\n",
    "Syntax : def func(a: 'int') -> 'int': pass\n",
    "\n",
    "Annotations for simple parameters: def func(x: 'float'=10.8, y: 'argument2'): In the above code the argument, ‘x’ of the \n",
    "function func, has been annotated to float data type and the argument ‘y’ has a string-based annotation. The argument can \n",
    "also be assigned to a default value using a ‘=’ symbol followed by the default value. These default values are optional to \n",
    "the code.\n",
    "\n",
    "Annotations for return values: def func(a: expression) -> 'int': The annotations for the return value is written after \n",
    "the ‘->’ symbol."
   ]
  },
  {
   "cell_type": "code",
   "execution_count": null,
   "id": "fefaa27c",
   "metadata": {},
   "outputs": [],
   "source": [
    "5. What are recursive functions, and how are they used?\n",
    "\n",
    "ANS:- Recursive function can also be used to solve task in elegant ways. When a function calls itself, that's called a\n",
    "    recursion step. The basis of recursion is a function arguments that does not make further calls."
   ]
  },
  {
   "cell_type": "code",
   "execution_count": 1,
   "id": "d6eac6f8",
   "metadata": {},
   "outputs": [
    {
     "data": {
      "text/plain": [
       "6"
      ]
     },
     "execution_count": 1,
     "metadata": {},
     "output_type": "execute_result"
    }
   ],
   "source": [
    "# example\n",
    "def fact(x):\n",
    "    if x == 1 :\n",
    "        return 1\n",
    "    else :\n",
    "        return x * fact(x-1) # recursion\n",
    "\n",
    "fact(3)"
   ]
  },
  {
   "cell_type": "code",
   "execution_count": null,
   "id": "80850764",
   "metadata": {},
   "outputs": [],
   "source": [
    "6. What are some general design guidelines for coding functions?\n",
    "\n",
    "ANS:-\n",
    "1. Use 4-space indentation and no tabs.\n",
    "2. Use docstrings\n",
    "3. Wrap linethat they don’t exceed 79 characters\n",
    "4. Use of regular and updated comments are valuable to both the coders and users\n",
    "5. Use of trailing commas : in case of tuple -> ('good',)\n",
    "6. Use Python’s default UTF-8 or ASCII encodings and not any fancy encodings\n",
    "7. Naming Conventions 8.Characters that should not be used for identifiers: ‘l’ (lowercase letter el), ‘O’ (uppercase letter oh), ‘I’ (uppercase letter eye) as single character variable names as these are similar to the numerals one and zero.\n",
    "8. Don’t use non-ASCII characters in identifiers\n",
    "9. Name your classes and functions consistently\n",
    "10. While naming of function of methods always use self for the first argument"
   ]
  },
  {
   "cell_type": "code",
   "execution_count": null,
   "id": "0bc6d8ab",
   "metadata": {},
   "outputs": [],
   "source": [
    "7. Name three or more ways that functions can communicate results to a caller.\n",
    "\n",
    "ANS:- \n",
    "1. Function can return single value\n",
    "2. Can return multiple values, tuple\n",
    "3. can return list,dictionary\n",
    "4. can return function object\n",
    "5. can return class object (ex: SQL Connection object)\n",
    "6. can update an output variable\n",
    "7. can update a global variable\n",
    "8. can update/create a file\n",
    " "
   ]
  }
 ],
 "metadata": {
  "kernelspec": {
   "display_name": "Python 3 (ipykernel)",
   "language": "python",
   "name": "python3"
  },
  "language_info": {
   "codemirror_mode": {
    "name": "ipython",
    "version": 3
   },
   "file_extension": ".py",
   "mimetype": "text/x-python",
   "name": "python",
   "nbconvert_exporter": "python",
   "pygments_lexer": "ipython3",
   "version": "3.9.7"
  }
 },
 "nbformat": 4,
 "nbformat_minor": 5
}

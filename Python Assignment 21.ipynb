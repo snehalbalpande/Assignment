{
 "cells": [
  {
   "cell_type": "code",
   "execution_count": null,
   "id": "a8d57c63",
   "metadata": {},
   "outputs": [],
   "source": [
    "1. Add the current date to the text file today.txt as a string."
   ]
  },
  {
   "cell_type": "code",
   "execution_count": 2,
   "id": "8a3ec712",
   "metadata": {},
   "outputs": [],
   "source": [
    "from datetime import date\n",
    "now = date.today()\n",
    "now_str = now.isoformat()\n",
    "with open('today', 'wt') as output:\n",
    "    print(now_str, file=output)"
   ]
  },
  {
   "cell_type": "code",
   "execution_count": null,
   "id": "2a69a52c",
   "metadata": {},
   "outputs": [],
   "source": [
    "2. Read the text file today.txt into the string today_string"
   ]
  },
  {
   "cell_type": "code",
   "execution_count": 3,
   "id": "69bff2a7",
   "metadata": {},
   "outputs": [
    {
     "data": {
      "text/plain": [
       "'2022-05-28\\n'"
      ]
     },
     "execution_count": 3,
     "metadata": {},
     "output_type": "execute_result"
    }
   ],
   "source": [
    "with open('today', 'rt') as input:\n",
    "    today_string = input.read()\n",
    "today_string    "
   ]
  },
  {
   "cell_type": "code",
   "execution_count": null,
   "id": "f6264e8a",
   "metadata": {},
   "outputs": [],
   "source": [
    "3. Parse the date from today_string."
   ]
  },
  {
   "cell_type": "code",
   "execution_count": 7,
   "id": "858b2cf8",
   "metadata": {},
   "outputs": [
    {
     "data": {
      "text/plain": [
       "datetime.datetime(2022, 5, 28, 0, 0)"
      ]
     },
     "execution_count": 7,
     "metadata": {},
     "output_type": "execute_result"
    }
   ],
   "source": [
    "from datetime import datetime\n",
    "fmt = '%Y-%m-%d\\n'\n",
    "datetime.strptime(today_string, fmt)"
   ]
  },
  {
   "cell_type": "code",
   "execution_count": null,
   "id": "2bd04cf1",
   "metadata": {},
   "outputs": [],
   "source": [
    "4. List the files in your current directory"
   ]
  },
  {
   "cell_type": "code",
   "execution_count": 8,
   "id": "db4a910e",
   "metadata": {},
   "outputs": [
    {
     "data": {
      "text/plain": [
       "['  Pandas  revision.ipynb',\n",
       " ' 21 Dec 2021.ipynb',\n",
       " '.astropy',\n",
       " '.conda',\n",
       " '.condarc',\n",
       " '.continuum',\n",
       " '.cufflinks',\n",
       " '.git',\n",
       " '.idlerc',\n",
       " '.ipynb_checkpoints',\n",
       " '.ipython',\n",
       " '.jupyter',\n",
       " '.matplotlib',\n",
       " '.python_history',\n",
       " '.~sample_test.csv',\n",
       " '15th & 16th JAN 2022 Exception Handling.ipynb',\n",
       " '15th May 2022 Linear, Ridge ,Lasso Regression.ipynb',\n",
       " '21 DEC 2021.ipynb',\n",
       " '21st May 2022 Logistic regression and KNN.ipynb',\n",
       " '22nd JAN 2022 module and import.ipynb',\n",
       " '22nd May 2022 Decision Tree Cllassifier & Regressor.ipynb',\n",
       " '23 dec 2021.ipynb',\n",
       " '28th May 2022.ipynb',\n",
       " '29th JAN 2022 INHERIT FUN .ipynb',\n",
       " '30th JAN 2022 Polymorphism.ipynb',\n",
       " '3D Objects',\n",
       " '7th may 2nd part feature engg.ipynb',\n",
       " '8th JAN 2022 recording.ipynb',\n",
       " '8th JAN 2022.ipynb',\n",
       " '9th JAN 2022 Recording.ipynb',\n",
       " '9th JAN 2022.ipynb',\n",
       " 'airfoil_self_noise.dat',\n",
       " 'anaconda3',\n",
       " 'anaconda3 snehal',\n",
       " 'API 2nd April 2022.ipynb',\n",
       " 'AppData',\n",
       " 'Application Data',\n",
       " 'Assignment in class.ipynb',\n",
       " 'BANK',\n",
       " 'books.csv',\n",
       " 'books.db',\n",
       " 'Boston img.jpg',\n",
       " 'car.data',\n",
       " 'Cassandra 26th FEB 2022.ipynb',\n",
       " 'Class Assignment MYSQL.ipynb',\n",
       " 'Contacts',\n",
       " 'Cookies',\n",
       " 'cricket.csv',\n",
       " 'Data_Train.xlsx',\n",
       " 'Desktop',\n",
       " 'Documents',\n",
       " 'Downloads',\n",
       " 'EDA 1st class 1st may 2022.ipynb',\n",
       " 'Favorites',\n",
       " 'Feature Engineering 7th may 1st part.ipynb',\n",
       " 'for, while loop recording.ipynb',\n",
       " 'ghj',\n",
       " 'glass.data',\n",
       " 'google.txt',\n",
       " 'Graph 27th march 2022.ipynb',\n",
       " 'if , for loop recording.ipynb',\n",
       " 'ineuron.db',\n",
       " 'ineuron.db1',\n",
       " 'IntelGraphicsProfiles',\n",
       " 'joindb.db',\n",
       " 'json_res.csv',\n",
       " 'json_res.csv1',\n",
       " 'json_res.csv2',\n",
       " 'K-Nearest-Neighour-master',\n",
       " 'Links',\n",
       " 'Local Settings',\n",
       " 'loop.ipynb',\n",
       " 'loop1.ipynb',\n",
       " 'LUSID Excel - Manage Orders.xlsx',\n",
       " 'model.pkl',\n",
       " 'Mongodb 13th Feb 2022.ipynb',\n",
       " 'Music',\n",
       " 'My Documents',\n",
       " 'my module1.py',\n",
       " 'MYSQL part 1.ipynb',\n",
       " 'MYSQL part2.ipynb',\n",
       " 'MYSQL part3.ipynb',\n",
       " 'my_module.py',\n",
       " 'NBA.csv',\n",
       " 'NetHood',\n",
       " 'NTUSER.DAT',\n",
       " 'ntuser.dat.LOG1',\n",
       " 'ntuser.dat.LOG2',\n",
       " 'NTUSER.DAT{53b39e88-18c4-11ea-a811-000d3aa4692b}.TM.blf',\n",
       " 'NTUSER.DAT{53b39e88-18c4-11ea-a811-000d3aa4692b}.TMContainer00000000000000000001.regtrans-ms',\n",
       " 'NTUSER.DAT{53b39e88-18c4-11ea-a811-000d3aa4692b}.TMContainer00000000000000000002.regtrans-ms',\n",
       " 'ntuser.ini',\n",
       " 'Numpy 13th march 2022.ipynb',\n",
       " 'ohana-api-master.zip',\n",
       " 'OneDrive',\n",
       " 'OOPs 23rd JAN 2022 .ipynb',\n",
       " 'pandas & numpy.ipynb',\n",
       " 'Pandas 26th FEB 2022 day 1.ipynb',\n",
       " 'Pandas day 2.ipynb',\n",
       " 'Pandas day 3.ipynb',\n",
       " 'Pandas, Numpy 12th march 2022.ipynb',\n",
       " 'person.db',\n",
       " 'Pictures',\n",
       " 'Postman',\n",
       " 'PrintHood',\n",
       " 'Pycharm 1st class 9th april 2022.ipynb',\n",
       " 'PycharmProjects',\n",
       " 'Python Assignment  2.ipynb',\n",
       " 'Python Assignment 1.ipynb',\n",
       " 'Python Assignment 10.ipynb',\n",
       " 'Python Assignment 11.ipynb',\n",
       " 'Python Assignment 12.ipynb',\n",
       " 'Python Assignment 13.ipynb',\n",
       " 'Python Assignment 14.ipynb',\n",
       " 'Python Assignment 15.ipynb',\n",
       " 'Python assignment 16.ipynb',\n",
       " 'Python Assignment 17.ipynb',\n",
       " 'Python Assignment 18.ipynb',\n",
       " 'Python Assignment 19.ipynb',\n",
       " 'Python Assignment 20.ipynb',\n",
       " 'Python Assignment 21.ipynb',\n",
       " 'Python Assignment 3.ipynb',\n",
       " 'Python Assignment 4.ipynb',\n",
       " 'Python Assignment 5.ipynb',\n",
       " 'Python Assignment 6.ipynb',\n",
       " 'Python Assignment 7.ipynb',\n",
       " 'Python Assignment 8.ipynb',\n",
       " 'Python Assignment 9.ipynb',\n",
       " 'Recent',\n",
       " 'RegressionandLasso-master',\n",
       " 'Revision SQLLITE, map ,reduce ,filter,zip.ipynb',\n",
       " 'sample_test.csv',\n",
       " 'sample_test.csv.bak',\n",
       " 'Saved Games',\n",
       " 'seaborn-data',\n",
       " 'Searches',\n",
       " 'SendTo',\n",
       " 'snehal.cricket.csv',\n",
       " 'snehal.NBA.csv',\n",
       " 'snehal.NBA.csv1',\n",
       " 'SQLLITE  ,map, reduce, filter, zip.ipynb',\n",
       " 'Start Menu',\n",
       " 'Stat 16th April 2022.ipynb',\n",
       " 'Stat 24th April 2022.ipynb',\n",
       " 'Sti_Trace.log',\n",
       " 'T-test-an-Correlation-using-python-master',\n",
       " 'Templates',\n",
       " 'tes.txt',\n",
       " 'TEST',\n",
       " 'test#1.txt',\n",
       " 'test#2.txt',\n",
       " 'test#3.txt',\n",
       " 'test.csv',\n",
       " 'test.log',\n",
       " 'test.py',\n",
       " 'test.txt',\n",
       " 'TEST1.LOG',\n",
       " 'test1.txt',\n",
       " 'test2 ..txt',\n",
       " 'test2..txt',\n",
       " 'test2.log',\n",
       " 'test2.py',\n",
       " 'test2.txt',\n",
       " 'test212.log',\n",
       " 'test23.py',\n",
       " 'TEST33.txt',\n",
       " 'test34.txt',\n",
       " 'test5.py',\n",
       " 'test5.py.bak',\n",
       " 'test6',\n",
       " 'test6.py',\n",
       " 'Testing class',\n",
       " 'Testingchild',\n",
       " 'text.txt',\n",
       " 'This PC - Shortcut.lnk',\n",
       " 'today',\n",
       " 'train.csv',\n",
       " 'Tuples ,set , dict.ipynb',\n",
       " 'tuples recor.ipynb',\n",
       " 'untitled.txt',\n",
       " 'Untitled1.ipynb',\n",
       " 'untitled1.txt',\n",
       " 'Untitled11.ipynb',\n",
       " 'Untitled13.ipynb',\n",
       " 'Untitled15.ipynb',\n",
       " 'Untitled16.ipynb',\n",
       " 'Untitled17.ipynb',\n",
       " 'Untitled18.ipynb',\n",
       " 'Untitled19.ipynb',\n",
       " 'untitled2.txt',\n",
       " 'Untitled23.ipynb',\n",
       " 'Untitled24.ipynb',\n",
       " 'Untitled25.ipynb',\n",
       " 'Untitled30.ipynb',\n",
       " 'Untitled31.ipynb',\n",
       " 'Untitled32.ipynb',\n",
       " 'Untitled34.ipynb',\n",
       " 'Untitled35.ipynb',\n",
       " 'Untitled36.ipynb',\n",
       " 'Untitled37.ipynb',\n",
       " 'Untitled39.ipynb',\n",
       " 'Untitled40.ipynb',\n",
       " 'Untitled41.ipynb',\n",
       " 'Untitled42.ipynb',\n",
       " 'Untitled7.ipynb',\n",
       " 'Untitled8.ipynb',\n",
       " 'Untitled9.ipynb',\n",
       " 'Videos',\n",
       " 'while loop 1.ipynb',\n",
       " 'zoo',\n",
       " '__pycache__']"
      ]
     },
     "execution_count": 8,
     "metadata": {},
     "output_type": "execute_result"
    }
   ],
   "source": [
    "import os\n",
    "os.listdir('.')"
   ]
  },
  {
   "cell_type": "code",
   "execution_count": null,
   "id": "c2bd8d33",
   "metadata": {},
   "outputs": [],
   "source": [
    "5. Create a list of all of the files in your parent directory (minimum five files should be available)."
   ]
  },
  {
   "cell_type": "code",
   "execution_count": 16,
   "id": "2308cb96",
   "metadata": {},
   "outputs": [
    {
     "data": {
      "text/plain": [
       "['  Pandas  revision.ipynb',\n",
       " ' 21 Dec 2021.ipynb',\n",
       " '.astropy',\n",
       " '.conda',\n",
       " '.condarc',\n",
       " '.continuum',\n",
       " '.cufflinks',\n",
       " '.git',\n",
       " '.idlerc',\n",
       " '.ipynb_checkpoints',\n",
       " '.ipython',\n",
       " '.jupyter',\n",
       " '.matplotlib',\n",
       " '.python_history',\n",
       " '.~sample_test.csv',\n",
       " '15th & 16th JAN 2022 Exception Handling.ipynb',\n",
       " '15th May 2022 Linear, Ridge ,Lasso Regression.ipynb',\n",
       " '21 DEC 2021.ipynb',\n",
       " '21st May 2022 Logistic regression and KNN.ipynb',\n",
       " '22nd JAN 2022 module and import.ipynb',\n",
       " '22nd May 2022 Decision Tree Cllassifier & Regressor.ipynb',\n",
       " '23 dec 2021.ipynb',\n",
       " '28th May 2022.ipynb',\n",
       " '29th JAN 2022 INHERIT FUN .ipynb',\n",
       " '30th JAN 2022 Polymorphism.ipynb',\n",
       " '3D Objects',\n",
       " '7th may 2nd part feature engg.ipynb',\n",
       " '8th JAN 2022 recording.ipynb',\n",
       " '8th JAN 2022.ipynb',\n",
       " '9th JAN 2022 Recording.ipynb',\n",
       " '9th JAN 2022.ipynb',\n",
       " 'airfoil_self_noise.dat',\n",
       " 'anaconda3',\n",
       " 'anaconda3 snehal',\n",
       " 'API 2nd April 2022.ipynb',\n",
       " 'AppData',\n",
       " 'Application Data',\n",
       " 'Assignment in class.ipynb',\n",
       " 'BANK',\n",
       " 'books.csv',\n",
       " 'books.db',\n",
       " 'Boston img.jpg',\n",
       " 'car.data',\n",
       " 'Cassandra 26th FEB 2022.ipynb',\n",
       " 'Class Assignment MYSQL.ipynb',\n",
       " 'Contacts',\n",
       " 'Cookies',\n",
       " 'cricket.csv',\n",
       " 'Data_Train.xlsx',\n",
       " 'Desktop',\n",
       " 'Documents',\n",
       " 'Downloads',\n",
       " 'EDA 1st class 1st may 2022.ipynb',\n",
       " 'Favorites',\n",
       " 'Feature Engineering 7th may 1st part.ipynb',\n",
       " 'for, while loop recording.ipynb',\n",
       " 'ghj',\n",
       " 'glass.data',\n",
       " 'google.txt',\n",
       " 'Graph 27th march 2022.ipynb',\n",
       " 'if , for loop recording.ipynb',\n",
       " 'ineuron.db',\n",
       " 'ineuron.db1',\n",
       " 'IntelGraphicsProfiles',\n",
       " 'joindb.db',\n",
       " 'json_res.csv',\n",
       " 'json_res.csv1',\n",
       " 'json_res.csv2',\n",
       " 'K-Nearest-Neighour-master',\n",
       " 'Links',\n",
       " 'Local Settings',\n",
       " 'loop.ipynb',\n",
       " 'loop1.ipynb',\n",
       " 'LUSID Excel - Manage Orders.xlsx',\n",
       " 'model.pkl',\n",
       " 'Mongodb 13th Feb 2022.ipynb',\n",
       " 'Music',\n",
       " 'My Documents',\n",
       " 'my module1.py',\n",
       " 'MYSQL part 1.ipynb',\n",
       " 'MYSQL part2.ipynb',\n",
       " 'MYSQL part3.ipynb',\n",
       " 'my_module.py',\n",
       " 'NBA.csv',\n",
       " 'NetHood',\n",
       " 'NTUSER.DAT',\n",
       " 'ntuser.dat.LOG1',\n",
       " 'ntuser.dat.LOG2',\n",
       " 'NTUSER.DAT{53b39e88-18c4-11ea-a811-000d3aa4692b}.TM.blf',\n",
       " 'NTUSER.DAT{53b39e88-18c4-11ea-a811-000d3aa4692b}.TMContainer00000000000000000001.regtrans-ms',\n",
       " 'NTUSER.DAT{53b39e88-18c4-11ea-a811-000d3aa4692b}.TMContainer00000000000000000002.regtrans-ms',\n",
       " 'ntuser.ini',\n",
       " 'Numpy 13th march 2022.ipynb',\n",
       " 'ohana-api-master.zip',\n",
       " 'OneDrive',\n",
       " 'OOPs 23rd JAN 2022 .ipynb',\n",
       " 'pandas & numpy.ipynb',\n",
       " 'Pandas 26th FEB 2022 day 1.ipynb',\n",
       " 'Pandas day 2.ipynb',\n",
       " 'Pandas day 3.ipynb',\n",
       " 'Pandas, Numpy 12th march 2022.ipynb',\n",
       " 'person.db',\n",
       " 'Pictures',\n",
       " 'Postman',\n",
       " 'PrintHood',\n",
       " 'Pycharm 1st class 9th april 2022.ipynb',\n",
       " 'PycharmProjects',\n",
       " 'Python Assignment  2.ipynb',\n",
       " 'Python Assignment 1.ipynb',\n",
       " 'Python Assignment 10.ipynb',\n",
       " 'Python Assignment 11.ipynb',\n",
       " 'Python Assignment 12.ipynb',\n",
       " 'Python Assignment 13.ipynb',\n",
       " 'Python Assignment 14.ipynb',\n",
       " 'Python Assignment 15.ipynb',\n",
       " 'Python assignment 16.ipynb',\n",
       " 'Python Assignment 17.ipynb',\n",
       " 'Python Assignment 18.ipynb',\n",
       " 'Python Assignment 19.ipynb',\n",
       " 'Python Assignment 20.ipynb',\n",
       " 'Python Assignment 21.ipynb',\n",
       " 'Python Assignment 3.ipynb',\n",
       " 'Python Assignment 4.ipynb',\n",
       " 'Python Assignment 5.ipynb',\n",
       " 'Python Assignment 6.ipynb',\n",
       " 'Python Assignment 7.ipynb',\n",
       " 'Python Assignment 8.ipynb',\n",
       " 'Python Assignment 9.ipynb',\n",
       " 'Recent',\n",
       " 'RegressionandLasso-master',\n",
       " 'Revision SQLLITE, map ,reduce ,filter,zip.ipynb',\n",
       " 'sample_test.csv',\n",
       " 'sample_test.csv.bak',\n",
       " 'Saved Games',\n",
       " 'seaborn-data',\n",
       " 'Searches',\n",
       " 'SendTo',\n",
       " 'snehal.cricket.csv',\n",
       " 'snehal.NBA.csv',\n",
       " 'snehal.NBA.csv1',\n",
       " 'SQLLITE  ,map, reduce, filter, zip.ipynb',\n",
       " 'Start Menu',\n",
       " 'Stat 16th April 2022.ipynb',\n",
       " 'Stat 24th April 2022.ipynb',\n",
       " 'Sti_Trace.log',\n",
       " 'T-test-an-Correlation-using-python-master',\n",
       " 'Templates',\n",
       " 'tes.txt',\n",
       " 'TEST',\n",
       " 'test#1.txt',\n",
       " 'test#2.txt',\n",
       " 'test#3.txt',\n",
       " 'test.csv',\n",
       " 'test.log',\n",
       " 'test.py',\n",
       " 'test.txt',\n",
       " 'TEST1.LOG',\n",
       " 'test1.txt',\n",
       " 'test2 ..txt',\n",
       " 'test2..txt',\n",
       " 'test2.log',\n",
       " 'test2.py',\n",
       " 'test2.txt',\n",
       " 'test212.log',\n",
       " 'test23.py',\n",
       " 'TEST33.txt',\n",
       " 'test34.txt',\n",
       " 'test5.py',\n",
       " 'test5.py.bak',\n",
       " 'test6',\n",
       " 'test6.py',\n",
       " 'Testing class',\n",
       " 'Testingchild',\n",
       " 'text.txt',\n",
       " 'This PC - Shortcut.lnk',\n",
       " 'today',\n",
       " 'train.csv',\n",
       " 'Tuples ,set , dict.ipynb',\n",
       " 'tuples recor.ipynb',\n",
       " 'untitled.txt',\n",
       " 'Untitled1.ipynb',\n",
       " 'untitled1.txt',\n",
       " 'Untitled11.ipynb',\n",
       " 'Untitled13.ipynb',\n",
       " 'Untitled15.ipynb',\n",
       " 'Untitled16.ipynb',\n",
       " 'Untitled17.ipynb',\n",
       " 'Untitled18.ipynb',\n",
       " 'Untitled19.ipynb',\n",
       " 'untitled2.txt',\n",
       " 'Untitled23.ipynb',\n",
       " 'Untitled24.ipynb',\n",
       " 'Untitled25.ipynb',\n",
       " 'Untitled30.ipynb',\n",
       " 'Untitled31.ipynb',\n",
       " 'Untitled32.ipynb',\n",
       " 'Untitled34.ipynb',\n",
       " 'Untitled35.ipynb',\n",
       " 'Untitled36.ipynb',\n",
       " 'Untitled37.ipynb',\n",
       " 'Untitled39.ipynb',\n",
       " 'Untitled40.ipynb',\n",
       " 'Untitled41.ipynb',\n",
       " 'Untitled42.ipynb',\n",
       " 'Untitled7.ipynb',\n",
       " 'Untitled8.ipynb',\n",
       " 'Untitled9.ipynb',\n",
       " 'Videos',\n",
       " 'while loop 1.ipynb',\n",
       " 'zoo',\n",
       " '__pycache__']"
      ]
     },
     "execution_count": 16,
     "metadata": {},
     "output_type": "execute_result"
    }
   ],
   "source": [
    "list(os.listdir('.'))"
   ]
  },
  {
   "cell_type": "code",
   "execution_count": null,
   "id": "f7d4f655",
   "metadata": {},
   "outputs": [],
   "source": [
    "6. Use multiprocessing to create three separate processes. Make each one wait a random number of seconds between one and \n",
    "five, print the current time, and then exit."
   ]
  },
  {
   "cell_type": "code",
   "execution_count": 45,
   "id": "1dbc49e0",
   "metadata": {},
   "outputs": [],
   "source": [
    "import multiprocessing\n",
    "\n",
    "def now(seconds): \n",
    "    from datetime import datetime \n",
    "    from time import sleep\n",
    "    sleep(seconds) \n",
    "    print('wait', seconds, 'seconds, time is', datetime.utcnow())\n",
    "\n",
    "if __name__ == '__main__': \n",
    "    import random \n",
    "    for n in range(3):\n",
    "        seconds = random.random() \n",
    "        proc = multiprocessing.Process(target=now, args=(seconds,)) \n",
    "        proc.start()"
   ]
  },
  {
   "cell_type": "code",
   "execution_count": 46,
   "id": "e1a06dbe",
   "metadata": {},
   "outputs": [
    {
     "name": "stdout",
     "output_type": "stream",
     "text": [
      "wait 0.15088357777134664 seconds, time is 2022-05-28 09:58:35.522064\n",
      "wait 0.15088357777134664 seconds, time is 2022-05-28 09:58:35.678360\n",
      "wait 0.15088357777134664 seconds, time is 2022-05-28 09:58:35.838381\n"
     ]
    }
   ],
   "source": [
    "now(seconds)\n",
    "now(seconds)\n",
    "now(seconds)"
   ]
  },
  {
   "cell_type": "code",
   "execution_count": null,
   "id": "9e4772a8",
   "metadata": {},
   "outputs": [],
   "source": [
    "7. Create a date object of your day of birth."
   ]
  },
  {
   "cell_type": "code",
   "execution_count": 18,
   "id": "b67b0db4",
   "metadata": {},
   "outputs": [
    {
     "data": {
      "text/plain": [
       "datetime.date(1995, 5, 17)"
      ]
     },
     "execution_count": 18,
     "metadata": {},
     "output_type": "execute_result"
    }
   ],
   "source": [
    "my_day = date(1995, 5, 17)\n",
    "my_day"
   ]
  },
  {
   "cell_type": "code",
   "execution_count": null,
   "id": "55b5aac5",
   "metadata": {},
   "outputs": [],
   "source": [
    "8. What day of the week was your day of birth?"
   ]
  },
  {
   "cell_type": "code",
   "execution_count": 19,
   "id": "10a77f28",
   "metadata": {},
   "outputs": [
    {
     "data": {
      "text/plain": [
       "2"
      ]
     },
     "execution_count": 19,
     "metadata": {},
     "output_type": "execute_result"
    }
   ],
   "source": [
    "my_day.weekday()"
   ]
  },
  {
   "cell_type": "code",
   "execution_count": 20,
   "id": "f7d7fd2e",
   "metadata": {},
   "outputs": [
    {
     "data": {
      "text/plain": [
       "3"
      ]
     },
     "execution_count": 20,
     "metadata": {},
     "output_type": "execute_result"
    }
   ],
   "source": [
    "my_day.isoweekday()"
   ]
  },
  {
   "cell_type": "code",
   "execution_count": null,
   "id": "f5ea12c4",
   "metadata": {},
   "outputs": [],
   "source": [
    "9. When will you be (or when were you) 10,000 days old?"
   ]
  },
  {
   "cell_type": "code",
   "execution_count": 21,
   "id": "c096f7f2",
   "metadata": {},
   "outputs": [
    {
     "data": {
      "text/plain": [
       "datetime.date(2022, 10, 2)"
      ]
     },
     "execution_count": 21,
     "metadata": {},
     "output_type": "execute_result"
    }
   ],
   "source": [
    "from datetime import timedelta\n",
    "party_day = my_day + timedelta(days=10000)\n",
    "party_day"
   ]
  }
 ],
 "metadata": {
  "kernelspec": {
   "display_name": "Python 3 (ipykernel)",
   "language": "python",
   "name": "python3"
  },
  "language_info": {
   "codemirror_mode": {
    "name": "ipython",
    "version": 3
   },
   "file_extension": ".py",
   "mimetype": "text/x-python",
   "name": "python",
   "nbconvert_exporter": "python",
   "pygments_lexer": "ipython3",
   "version": "3.9.7"
  }
 },
 "nbformat": 4,
 "nbformat_minor": 5
}

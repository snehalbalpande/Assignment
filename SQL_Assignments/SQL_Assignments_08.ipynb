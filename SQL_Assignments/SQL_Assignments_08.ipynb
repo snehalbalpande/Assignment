{
 "cells": [
  {
   "cell_type": "markdown",
   "id": "881de89e",
   "metadata": {},
   "source": [
    "#### Q-1. Write an SQL query to fetch intersecting records of two tables.\n",
    "\n",
    "Ans: SELECT <Column_names> FROM table_1 INTERSECT SELECT <Column_names> FROM table_2;"
   ]
  },
  {
   "cell_type": "markdown",
   "id": "10519d7b",
   "metadata": {},
   "source": [
    "#### Q-2. Write an SQL query to show records from one table that another table does not have.\n",
    "\n",
    "Ans: SELECT * FROM table_1 EXCEPT SELECT * FROM table_2;\n",
    "\n"
   ]
  },
  {
   "cell_type": "code",
   "execution_count": null,
   "id": "6a65c6f3",
   "metadata": {},
   "outputs": [],
   "source": []
  }
 ],
 "metadata": {
  "kernelspec": {
   "display_name": "Python 3 (ipykernel)",
   "language": "python",
   "name": "python3"
  },
  "language_info": {
   "codemirror_mode": {
    "name": "ipython",
    "version": 3
   },
   "file_extension": ".py",
   "mimetype": "text/x-python",
   "name": "python",
   "nbconvert_exporter": "python",
   "pygments_lexer": "ipython3",
   "version": "3.9.7"
  }
 },
 "nbformat": 4,
 "nbformat_minor": 5
}

{
 "cells": [
  {
   "cell_type": "markdown",
   "id": "0361df18",
   "metadata": {},
   "source": [
    "#### Q-1. Write an SQL query to show the top n (say 10) records of a table."
   ]
  },
  {
   "cell_type": "code",
   "execution_count": null,
   "id": "5b36a636",
   "metadata": {},
   "outputs": [],
   "source": [
    "SELECT TOP 10 * FROM Worker; #Top Keyword is not supported by Many Popular Databases  \n",
    "SELECT * FROM Worker LIMIT 10;"
   ]
  },
  {
   "cell_type": "markdown",
   "id": "43b10444",
   "metadata": {},
   "source": [
    "#### Q-18. Write an SQL query to determine the nth (say n=5) highest salary from a table.\n",
    "\n",
    "Ans: SELECT DISTINCT(Salary) FROM Worker ORDER BY DESC LIMIT 1 OFFSET 5;"
   ]
  }
 ],
 "metadata": {
  "kernelspec": {
   "display_name": "Python 3 (ipykernel)",
   "language": "python",
   "name": "python3"
  },
  "language_info": {
   "codemirror_mode": {
    "name": "ipython",
    "version": 3
   },
   "file_extension": ".py",
   "mimetype": "text/x-python",
   "name": "python",
   "nbconvert_exporter": "python",
   "pygments_lexer": "ipython3",
   "version": "3.9.7"
  }
 },
 "nbformat": 4,
 "nbformat_minor": 5
}

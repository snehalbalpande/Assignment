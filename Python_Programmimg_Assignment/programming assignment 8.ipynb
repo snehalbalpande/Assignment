{
 "cells": [
  {
   "cell_type": "markdown",
   "id": "458aaeb7",
   "metadata": {},
   "source": [
    "1. Write a Python Program to Add Two Matrices?"
   ]
  },
  {
   "cell_type": "code",
   "execution_count": 21,
   "id": "882587a0",
   "metadata": {
    "ExecuteTime": {
     "end_time": "2022-02-07T11:43:32.481848Z",
     "start_time": "2022-02-07T11:43:32.457856Z"
    }
   },
   "outputs": [
    {
     "name": "stdout",
     "output_type": "stream",
     "text": [
      "The sum of Matrix m1 and m2 =  [[17, 29, 38], [20, 22, -1], [4, 6, 28]]\n"
     ]
    }
   ],
   "source": [
    "m1 = [[10, 13, 44],[11, 2, 3],[5, 3, 1]]  \n",
    "  \n",
    "m2 = [[7, 16, -6],[9, 20, -4],[-1, 3 , 27]]  \n",
    "  \n",
    "m3  = [[0,0,0],[0,0,0],[0,0,0]]  \n",
    "        \n",
    "matrix_length = len(m1)  \n",
    "  \n",
    "#To Add mat1 and mat2 matrices  \n",
    "for i in range(len(m1)):  \n",
    "    for k in range(len(m2)):  \n",
    "        m3[i][k] = m1[i][k] + m2[i][k]  \n",
    "  \n",
    "  \n",
    "print(\"The sum of Matrix m1 and m2 = \", m3)  "
   ]
  },
  {
   "cell_type": "markdown",
   "id": "97a9fea3",
   "metadata": {},
   "source": [
    "2. Write a Python Program to Multiply Two Matrices?"
   ]
  },
  {
   "cell_type": "code",
   "execution_count": 25,
   "id": "652d8b7b",
   "metadata": {
    "ExecuteTime": {
     "end_time": "2022-02-07T11:46:18.118242Z",
     "start_time": "2022-02-07T11:46:18.087587Z"
    }
   },
   "outputs": [
    {
     "name": "stdout",
     "output_type": "stream",
     "text": [
      "multiplication of matrix :- [[70, 208, -264], [99, 40, -12], [-5, 9, 27]]\n"
     ]
    }
   ],
   "source": [
    "for i in range(len(m1)):\n",
    "    for j in range(len(m2)):\n",
    "        m3[i][j] = m1[i][j] * m2[i][j]\n",
    "print ('multiplication of matrix :-',m3)"
   ]
  },
  {
   "cell_type": "markdown",
   "id": "a1c94261",
   "metadata": {},
   "source": [
    "3. Write a Python Program to Transpose a Matrix?"
   ]
  },
  {
   "cell_type": "code",
   "execution_count": 26,
   "id": "d4c547f3",
   "metadata": {
    "ExecuteTime": {
     "end_time": "2022-02-07T11:55:07.081564Z",
     "start_time": "2022-02-07T11:55:07.065705Z"
    }
   },
   "outputs": [
    {
     "name": "stdout",
     "output_type": "stream",
     "text": [
      "[[10, 11, 5], [13, 2, 3]]\n"
     ]
    }
   ],
   "source": [
    "m1 = [[10, 13],[11, 2],[5, 3]] \n",
    "m2 = [[0,0,0],[0,0,0]]\n",
    "for i in range(len(m1)):\n",
    "    for j in range(len(m1[0])):\n",
    "        m2 [j][i] = m1[i][j]\n",
    "print(m2)"
   ]
  },
  {
   "cell_type": "markdown",
   "id": "e54b345e",
   "metadata": {},
   "source": [
    "4. Write a Python Program to Sort Words in Alphabetic Order?"
   ]
  },
  {
   "cell_type": "code",
   "execution_count": 39,
   "id": "4a75d77f",
   "metadata": {
    "ExecuteTime": {
     "end_time": "2022-02-07T12:01:27.704589Z",
     "start_time": "2022-02-07T12:01:27.680534Z"
    }
   },
   "outputs": [
    {
     "name": "stdout",
     "output_type": "stream",
     "text": [
      "gaming\n",
      "is\n",
      "laptop\n",
      "my\n",
      "new\n",
      "this\n"
     ]
    }
   ],
   "source": [
    "a = 'this is my new gaming laptop'\n",
    "a1 = a.split()\n",
    "a1.sort()\n",
    "for i in a1:\n",
    "    print(i)\n",
    "\n"
   ]
  },
  {
   "cell_type": "markdown",
   "id": "926ae568",
   "metadata": {},
   "source": [
    "5. Write a Python Program to Remove Punctuation From a String?"
   ]
  },
  {
   "cell_type": "code",
   "execution_count": 42,
   "id": "d8d1dd5c",
   "metadata": {
    "ExecuteTime": {
     "end_time": "2022-02-07T12:08:09.393015Z",
     "start_time": "2022-02-07T12:08:09.372370Z"
    }
   },
   "outputs": [
    {
     "name": "stdout",
     "output_type": "stream",
     "text": [
      "hurray i won the race"
     ]
    }
   ],
   "source": [
    "s = 'hurray!!!!!, i won the race'\n",
    "p = '''''!()-[]{};:'\"\\,<>./?@#$%^&*_~'''  \n",
    "for i in s:\n",
    "    if i not in p:\n",
    "        print(i, end = '')"
   ]
  },
  {
   "cell_type": "code",
   "execution_count": null,
   "id": "5e2e4356",
   "metadata": {},
   "outputs": [],
   "source": []
  }
 ],
 "metadata": {
  "kernelspec": {
   "display_name": "Python 3 (ipykernel)",
   "language": "python",
   "name": "python3"
  },
  "language_info": {
   "codemirror_mode": {
    "name": "ipython",
    "version": 3
   },
   "file_extension": ".py",
   "mimetype": "text/x-python",
   "name": "python",
   "nbconvert_exporter": "python",
   "pygments_lexer": "ipython3",
   "version": "3.9.7"
  }
 },
 "nbformat": 4,
 "nbformat_minor": 5
}

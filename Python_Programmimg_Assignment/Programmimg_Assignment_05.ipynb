{
 "cells": [
  {
   "cell_type": "markdown",
   "id": "cae8f6da",
   "metadata": {},
   "source": [
    "1. Write a Python Program to Find LCM?"
   ]
  },
  {
   "cell_type": "code",
   "execution_count": 3,
   "id": "2bef5c37",
   "metadata": {},
   "outputs": [
    {
     "name": "stdout",
     "output_type": "stream",
     "text": [
      "enter any number : 10\n",
      "enter any number : 15\n",
      "lcm of 2 numbers is :  30.0\n"
     ]
    }
   ],
   "source": [
    "num1 = int(input(\"enter any number : \"))\n",
    "num2 = int(input(\"enter any number : \"))\n",
    "if num1 < num2:\n",
    "    smaller = num1\n",
    "else:\n",
    "    smaller = num2\n",
    "for i in range (1,smaller+1):\n",
    "    if num1%i == 0 and num2%i == 0:\n",
    "        hcf = i\n",
    "lcm = (num1*num2)/hcf\n",
    "print ('lcm of 2 numbers is : ', lcm)"
   ]
  },
  {
   "cell_type": "markdown",
   "id": "4d2fdcea",
   "metadata": {},
   "source": [
    "2. Write a Python Program to Find HCF?"
   ]
  },
  {
   "cell_type": "code",
   "execution_count": 5,
   "id": "ee79ebb4",
   "metadata": {},
   "outputs": [
    {
     "name": "stdout",
     "output_type": "stream",
     "text": [
      "enter any number : 10\n",
      "enter any number : 15\n",
      "hcf of 2 numbers is :  5\n"
     ]
    }
   ],
   "source": [
    "num1 = int(input(\"enter any number : \"))\n",
    "num2 = int(input(\"enter any number : \"))\n",
    "if num1 < num2:\n",
    "    smaller = num1\n",
    "else:\n",
    "    smaller = num2\n",
    "for i in range (1,smaller+1):\n",
    "    if num1%i == 0 and num2%i == 0:\n",
    "        hcf = i\n",
    "lcm = (num1*num2)/hcf\n",
    "print ('hcf of 2 numbers is : ', hcf)"
   ]
  },
  {
   "cell_type": "markdown",
   "id": "556b36fe",
   "metadata": {},
   "source": [
    "3. Write a Python Program to Convert Decimal to Binary, Octal and Hexadecimal?"
   ]
  },
  {
   "cell_type": "code",
   "execution_count": 8,
   "id": "fecd59e2",
   "metadata": {},
   "outputs": [
    {
     "name": "stdout",
     "output_type": "stream",
     "text": [
      "enter any number:-245\n",
      "the decimal value of  245 is\n",
      "0b11110101 in binary\n",
      "0o365 in octal\n",
      "0xf5 in hexadecimal\n"
     ]
    }
   ],
   "source": [
    "x = int(input(\"enter any number:-\"))\n",
    "print (\"the decimal value of \", x, 'is')\n",
    "print(bin(x),\"in binary\")\n",
    "print(oct(x),'in octal')\n",
    "print(hex(x),'in hexadecimal')"
   ]
  },
  {
   "cell_type": "markdown",
   "id": "6820ce10",
   "metadata": {},
   "source": [
    "4. Write a Python Program To Find ASCII value of a character?"
   ]
  },
  {
   "cell_type": "code",
   "execution_count": 13,
   "id": "fa424cc6",
   "metadata": {},
   "outputs": [
    {
     "name": "stdout",
     "output_type": "stream",
     "text": [
      "the ASCII no of n is 110\n"
     ]
    }
   ],
   "source": [
    "x = 'n'\n",
    "print('the ASCII no of',x,'is', ord(x))"
   ]
  },
  {
   "cell_type": "markdown",
   "id": "1f1298d8",
   "metadata": {},
   "source": [
    "5. Write a Python Program to Make a Simple Calculator with 4 basic mathematical operations?"
   ]
  },
  {
   "cell_type": "code",
   "execution_count": 20,
   "id": "3fb1fccc",
   "metadata": {},
   "outputs": [
    {
     "name": "stdout",
     "output_type": "stream",
     "text": [
      "enter any int15\n",
      "enter any int2\n",
      "choose oneto four numbers :3\n",
      "your answer is 30\n"
     ]
    }
   ],
   "source": [
    "def addition (a,b):\n",
    "    return a+b\n",
    "def substration (a,b):\n",
    "    return a-b\n",
    "def multiplication (a,b):\n",
    "    return a*b\n",
    "def division (a,b):\n",
    "    return a/b\n",
    "a = int(input(\"enter any int\"))\n",
    "b = int(input(\"enter any int\"))\n",
    "x = int(input(\"choose oneto four numbers :\"))\n",
    "if x == 1:\n",
    "    print ('your answer is ',addition(a,b))\n",
    "elif x == 2:\n",
    "    print ('your answer is', substraction(a,b))\n",
    "elif x == 3:\n",
    "    print ('your answer is', multiplication(a,b))\n",
    "else:\n",
    "    print ('your answer is', division(a,b))\n"
   ]
  },
  {
   "cell_type": "code",
   "execution_count": null,
   "id": "b31a08b6",
   "metadata": {},
   "outputs": [],
   "source": []
  }
 ],
 "metadata": {
  "kernelspec": {
   "display_name": "Python 3 (ipykernel)",
   "language": "python",
   "name": "python3"
  },
  "language_info": {
   "codemirror_mode": {
    "name": "ipython",
    "version": 3
   },
   "file_extension": ".py",
   "mimetype": "text/x-python",
   "name": "python",
   "nbconvert_exporter": "python",
   "pygments_lexer": "ipython3",
   "version": "3.9.7"
  }
 },
 "nbformat": 4,
 "nbformat_minor": 5
}

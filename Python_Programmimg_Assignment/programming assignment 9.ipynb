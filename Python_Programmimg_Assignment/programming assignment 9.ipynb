{
 "cells": [
  {
   "cell_type": "markdown",
   "id": "cf2e4c59",
   "metadata": {
    "ExecuteTime": {
     "end_time": "2022-02-13T13:35:45.806023Z",
     "start_time": "2022-02-13T13:35:45.725960Z"
    }
   },
   "source": [
    "1.\tWrite a Python program to check if the given number is a Disarium Number?\n",
    "2.\tWrite a Python program to print all disarium numbers between 1 to 100?\n",
    "3.\tWrite a Python program to check if the given number is Happy Number?\n",
    "4.\tWrite a Python program to print all happy numbers between 1 and 100?\n",
    "5.\tWrite a Python program to determine whether the given number is a Harshad Number?\n",
    "6.\tWrite a Python program to print all pronic numbers between 1 and 100?\n"
   ]
  },
  {
   "cell_type": "code",
   "execution_count": 49,
   "id": "32e77d17",
   "metadata": {
    "ExecuteTime": {
     "end_time": "2022-02-15T11:14:22.708010Z",
     "start_time": "2022-02-15T11:14:19.647782Z"
    }
   },
   "outputs": [
    {
     "name": "stdout",
     "output_type": "stream",
     "text": [
      "Enter the Number to Check Disarium Number = 175\n",
      "175\n",
      "its Disarium Number\n"
     ]
    }
   ],
   "source": [
    "num =int(input(\"Enter the Number to Check Disarium Number = \"))\n",
    "temp = num\n",
    "sum = 0\n",
    "while num > 0:\n",
    "    \n",
    "    rem = num % 10\n",
    "    \n",
    "    sum = sum + rem**(len(str(num)))\n",
    "    num = num // 10\n",
    "print(sum)\n",
    "if sum == temp:\n",
    "    print('its Disarium Number')\n",
    "else:\n",
    "    print('not Disarium Number')\n"
   ]
  },
  {
   "cell_type": "code",
   "execution_count": 48,
   "id": "36b53f0d",
   "metadata": {
    "ExecuteTime": {
     "end_time": "2022-02-15T11:13:58.360441Z",
     "start_time": "2022-02-15T11:13:58.335557Z"
    }
   },
   "outputs": [
    {
     "name": "stdout",
     "output_type": "stream",
     "text": [
      "its Disarium Number 1\n",
      "its Disarium Number 2\n",
      "its Disarium Number 3\n",
      "its Disarium Number 4\n",
      "its Disarium Number 5\n",
      "its Disarium Number 6\n",
      "its Disarium Number 7\n",
      "its Disarium Number 8\n",
      "its Disarium Number 9\n",
      "its Disarium Number 89\n"
     ]
    }
   ],
   "source": [
    "for i in range (1,101):\n",
    "    \n",
    "    num =i\n",
    "    temp = num\n",
    "    sum = 0\n",
    "    while num > 0:\n",
    "        rem = num % 10\n",
    "        sum = sum + rem**(len(str(num)))\n",
    "        num = num // 10\n",
    "    \n",
    "    if sum == temp:\n",
    "        print('its Disarium Number',sum)\n",
    "    "
   ]
  },
  {
   "cell_type": "code",
   "execution_count": 59,
   "id": "add516bc",
   "metadata": {
    "ExecuteTime": {
     "end_time": "2022-02-15T11:43:45.965507Z",
     "start_time": "2022-02-15T11:43:45.954569Z"
    }
   },
   "outputs": [],
   "source": [
    "def isHappyNumber(num):    \n",
    "    rem = sum = 0;    \n",
    "  \n",
    "    while(num > 0):    \n",
    "        rem = num%10;    \n",
    "        sum = sum + (rem*rem);    \n",
    "        num = num//10;    \n",
    "    return sum; "
   ]
  },
  {
   "cell_type": "code",
   "execution_count": 4,
   "id": "5a14dd6e",
   "metadata": {
    "ExecuteTime": {
     "end_time": "2022-02-15T12:00:20.647956Z",
     "start_time": "2022-02-15T12:00:20.619972Z"
    }
   },
   "outputs": [
    {
     "name": "stdout",
     "output_type": "stream",
     "text": [
      "35 is not a happy number\n"
     ]
    }
   ],
   "source": [
    "def isHappyNumber(num):    \n",
    "    rem = sum = 0;       \n",
    "    while(num > 0):    \n",
    "        rem = num%10;    \n",
    "        sum = sum + (rem*rem);    \n",
    "        num = num//10;    \n",
    "    return sum;    \n",
    "num = 35;    \n",
    "result = num;    \n",
    "while(result != 1 and result != 4):    \n",
    "    result = isHappyNumber(result)     \n",
    "    if(result == 1):    \n",
    "        print(str(num) + \" is a happy number\");     \n",
    "    elif(result == 4):    \n",
    "        print(str(num) + \" is not a happy number\");  "
   ]
  },
  {
   "cell_type": "code",
   "execution_count": 8,
   "id": "fbbdc862",
   "metadata": {
    "ExecuteTime": {
     "end_time": "2022-02-15T12:03:11.166863Z",
     "start_time": "2022-02-15T12:03:11.134267Z"
    }
   },
   "outputs": [
    {
     "name": "stdout",
     "output_type": "stream",
     "text": [
      "7 is a happy number\n",
      "10 is a happy number\n",
      "13 is a happy number\n",
      "19 is a happy number\n",
      "23 is a happy number\n",
      "28 is a happy number\n",
      "31 is a happy number\n",
      "32 is a happy number\n",
      "44 is a happy number\n",
      "49 is a happy number\n",
      "68 is a happy number\n",
      "70 is a happy number\n",
      "79 is a happy number\n",
      "82 is a happy number\n",
      "86 is a happy number\n",
      "91 is a happy number\n",
      "94 is a happy number\n",
      "97 is a happy number\n"
     ]
    }
   ],
   "source": [
    "def isHappyNumber(num):    \n",
    "    rem = sum = 0;       \n",
    "    while(num > 0):    \n",
    "        rem = num%10;    \n",
    "        sum = sum + (rem*rem);    \n",
    "        num = num//10;    \n",
    "    return sum;    \n",
    "for i in range(1,100):\n",
    "    pass\n",
    "    num = i;    \n",
    "    result = num;    \n",
    "    while(result != 1 and result != 4):    \n",
    "        result = isHappyNumber(result)     \n",
    "        if(result == 1):    \n",
    "            print(str(num) + \" is a happy number\");     \n",
    "         "
   ]
  },
  {
   "cell_type": "code",
   "execution_count": 12,
   "id": "7fb2d996",
   "metadata": {
    "ExecuteTime": {
     "end_time": "2022-02-15T12:08:19.251991Z",
     "start_time": "2022-02-15T12:08:17.389717Z"
    }
   },
   "outputs": [
    {
     "name": "stdout",
     "output_type": "stream",
     "text": [
      "Enter number: 153\n",
      "it is Harshad Number\n"
     ]
    }
   ],
   "source": [
    "number = int(input('Enter number: '))\n",
    "temp = number\n",
    "digit_sum = 0\n",
    "while number:\n",
    "    digit_sum += number%10\n",
    "    number //= 10\n",
    "if temp%digit_sum == 0:\n",
    "    print('it is Harshad Number' )\n",
    "else:\n",
    "    print('it is Not Harshad Number' )"
   ]
  },
  {
   "cell_type": "code",
   "execution_count": 25,
   "id": "74f20cd3",
   "metadata": {
    "ExecuteTime": {
     "end_time": "2022-02-15T12:17:19.834853Z",
     "start_time": "2022-02-15T12:17:19.809364Z"
    }
   },
   "outputs": [
    {
     "name": "stdout",
     "output_type": "stream",
     "text": [
      "Pronic number 9702\n"
     ]
    }
   ],
   "source": [
    "\n",
    "f = 0\n",
    "for j in range(1,100):\n",
    "        \n",
    "    for i in range(j):\n",
    "        if i * (i + 1) == n:\n",
    "            f = 1\n",
    "            \n",
    "if f==1:\n",
    "    print(\"Pronic number\",i * (i + 1))\n",
    " \n",
    "    "
   ]
  },
  {
   "cell_type": "code",
   "execution_count": 26,
   "id": "8d226fe8",
   "metadata": {
    "ExecuteTime": {
     "end_time": "2022-02-15T12:19:00.612965Z",
     "start_time": "2022-02-15T12:19:00.590984Z"
    }
   },
   "outputs": [
    {
     "name": "stdout",
     "output_type": "stream",
     "text": [
      "2   6   12   20   30   42   56   72   90   "
     ]
    }
   ],
   "source": [
    "def checkPronic(Number):\n",
    "    i = 0\n",
    "    flag = 0\n",
    "    while i <= Number:\n",
    "        if Number == i * (i + 1):\n",
    "            flag = 1\n",
    "            break\n",
    "        i = i + 1\n",
    "    return flag\n",
    "\n",
    "for i in range(1, 100):\n",
    "    if(checkPronic(i) == 1):\n",
    "        print(i, end = '   ')"
   ]
  },
  {
   "cell_type": "code",
   "execution_count": null,
   "id": "e9cb48c4",
   "metadata": {},
   "outputs": [],
   "source": []
  }
 ],
 "metadata": {
  "kernelspec": {
   "display_name": "Python 3 (ipykernel)",
   "language": "python",
   "name": "python3"
  },
  "language_info": {
   "codemirror_mode": {
    "name": "ipython",
    "version": 3
   },
   "file_extension": ".py",
   "mimetype": "text/x-python",
   "name": "python",
   "nbconvert_exporter": "python",
   "pygments_lexer": "ipython3",
   "version": "3.9.7"
  }
 },
 "nbformat": 4,
 "nbformat_minor": 5
}

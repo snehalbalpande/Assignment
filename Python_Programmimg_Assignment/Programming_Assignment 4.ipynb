{
 "cells": [
  {
   "cell_type": "markdown",
   "id": "696d97bc",
   "metadata": {},
   "source": [
    "1.\tWrite a Python Program to Find the Factorial of a Number?"
   ]
  },
  {
   "cell_type": "code",
   "execution_count": 3,
   "id": "028c9512",
   "metadata": {},
   "outputs": [
    {
     "name": "stdout",
     "output_type": "stream",
     "text": [
      "enter any number:-6\n",
      "720\n"
     ]
    }
   ],
   "source": [
    "num = int(input(\"enter any number:-\"))\n",
    "fact = 1\n",
    "for i in range (1,num+1):\n",
    "    fact = fact * i\n",
    "    \n",
    "print (fact)"
   ]
  },
  {
   "cell_type": "markdown",
   "id": "bbd007e5",
   "metadata": {},
   "source": [
    "2.\tWrite a Python Program to Display the multiplication Table?\n"
   ]
  },
  {
   "cell_type": "code",
   "execution_count": 5,
   "id": "d7b9f610",
   "metadata": {},
   "outputs": [
    {
     "name": "stdout",
     "output_type": "stream",
     "text": [
      "enter any number:-9\n",
      "9 x 1 = 9\n",
      "9 x 2 = 18\n",
      "9 x 3 = 27\n",
      "9 x 4 = 36\n",
      "9 x 5 = 45\n",
      "9 x 6 = 54\n",
      "9 x 7 = 63\n",
      "9 x 8 = 72\n",
      "9 x 9 = 81\n"
     ]
    }
   ],
   "source": [
    "num = int(input(\"enter any number:-\"))\n",
    "for i in range (1,num+1):\n",
    "    print(num, \"x\" ,i, \"=\" ,num*i)"
   ]
  },
  {
   "cell_type": "markdown",
   "id": "64b1641a",
   "metadata": {},
   "source": [
    "3.\tWrite a Python Program to Print the Fibonacci sequence?"
   ]
  },
  {
   "cell_type": "code",
   "execution_count": 11,
   "id": "22797eca",
   "metadata": {},
   "outputs": [
    {
     "name": "stdout",
     "output_type": "stream",
     "text": [
      "1\n",
      "2\n",
      "3\n",
      "5\n",
      "8\n",
      "13\n",
      "21\n",
      "34\n",
      "55\n",
      "89\n"
     ]
    }
   ],
   "source": [
    "fib = 0\n",
    "x = 0\n",
    "y = 1\n",
    "while fib < 10:\n",
    "    fib = fib + 1\n",
    "    z = x + y\n",
    "    print(z)\n",
    "    x,y = y,z"
   ]
  },
  {
   "cell_type": "markdown",
   "id": "22e30c40",
   "metadata": {},
   "source": [
    "4.\tWrite a Python Program to Check Armstrong Number?"
   ]
  },
  {
   "cell_type": "code",
   "execution_count": 21,
   "id": "c307d3b6",
   "metadata": {},
   "outputs": [
    {
     "name": "stdout",
     "output_type": "stream",
     "text": [
      "enter any number:-153\n",
      " its amster num\n"
     ]
    }
   ],
   "source": [
    "num = int(input(\"enter any number:-\"))\n",
    "sum = 0\n",
    "temp = num\n",
    "\n",
    "while temp > 0:\n",
    "    digit = temp % 10\n",
    "    sum = sum + digit **3\n",
    "    temp = temp //10\n",
    "if num == sum:\n",
    "    print (' its amster num')\n",
    "else:\n",
    "    print('no')"
   ]
  },
  {
   "cell_type": "markdown",
   "id": "e8dea45f",
   "metadata": {},
   "source": [
    "5.\tWrite a Python Program to Find Armstrong Number in an Interval?"
   ]
  },
  {
   "cell_type": "markdown",
   "id": "8b5620f3",
   "metadata": {},
   "source": [
    "6.\tWrite a Python Program to Find the Sum of Natural Numbers?"
   ]
  },
  {
   "cell_type": "code",
   "execution_count": 27,
   "id": "62abcc03",
   "metadata": {},
   "outputs": [
    {
     "name": "stdout",
     "output_type": "stream",
     "text": [
      "enter 4\n",
      "10\n"
     ]
    }
   ],
   "source": [
    "n = int(input('enter '))\n",
    "count = 0\n",
    "while n > 0:\n",
    "    count += n\n",
    "    n -= 1\n",
    "print (count)"
   ]
  },
  {
   "cell_type": "code",
   "execution_count": null,
   "id": "b1e4e402",
   "metadata": {},
   "outputs": [],
   "source": []
  }
 ],
 "metadata": {
  "kernelspec": {
   "display_name": "Python 3 (ipykernel)",
   "language": "python",
   "name": "python3"
  },
  "language_info": {
   "codemirror_mode": {
    "name": "ipython",
    "version": 3
   },
   "file_extension": ".py",
   "mimetype": "text/x-python",
   "name": "python",
   "nbconvert_exporter": "python",
   "pygments_lexer": "ipython3",
   "version": "3.9.7"
  }
 },
 "nbformat": 4,
 "nbformat_minor": 5
}

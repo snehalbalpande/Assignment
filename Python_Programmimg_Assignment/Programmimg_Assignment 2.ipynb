{
 "cells": [
  {
   "cell_type": "markdown",
   "id": "d30f7b66",
   "metadata": {},
   "source": [
    "## 1. Write a Python program to convert kilometers to miles?\n",
    "\n",
    "\n",
    "\n",
    "\n",
    "\n",
    "\n"
   ]
  },
  {
   "cell_type": "code",
   "execution_count": 1,
   "id": "e539d0e3",
   "metadata": {},
   "outputs": [
    {
     "name": "stdout",
     "output_type": "stream",
     "text": [
      "enter no of miles :- 30\n",
      "conversion done to kmts 18.639\n"
     ]
    }
   ],
   "source": [
    "miles = int(input(\"enter no of miles :- \"))\n",
    "kmts =  0.6213 * miles\n",
    "print (\"conversion done to kmts\", kmts)"
   ]
  },
  {
   "cell_type": "markdown",
   "id": "76010a64",
   "metadata": {},
   "source": [
    "## 2.Write a Python program to convert Celsius to Fahrenheit?"
   ]
  },
  {
   "cell_type": "code",
   "execution_count": 2,
   "id": "b3af1001",
   "metadata": {},
   "outputs": [
    {
     "name": "stdout",
     "output_type": "stream",
     "text": [
      "enter celsius:-50\n",
      "122.0\n"
     ]
    }
   ],
   "source": [
    "celsius = int(input(\"enter celsius:-\"))\n",
    "Fahrenheit = (celsius * 1.8) + 32\n",
    "\n",
    "print (Fahrenheit)"
   ]
  },
  {
   "cell_type": "markdown",
   "id": "c86d8dd6",
   "metadata": {},
   "source": [
    "## 3. Write a Python program to display calendar?"
   ]
  },
  {
   "cell_type": "code",
   "execution_count": 3,
   "id": "3fde6ac7",
   "metadata": {},
   "outputs": [
    {
     "name": "stdout",
     "output_type": "stream",
     "text": [
      "      May 2022\n",
      "Mo Tu We Th Fr Sa Su\n",
      "                   1\n",
      " 2  3  4  5  6  7  8\n",
      " 9 10 11 12 13 14 15\n",
      "16 17 18 19 20 21 22\n",
      "23 24 25 26 27 28 29\n",
      "30 31\n",
      "\n"
     ]
    }
   ],
   "source": [
    "import calendar\n",
    "\n",
    "yy = 2022  \n",
    "mm = 5  \n",
    "\n",
    "\n",
    "print(calendar.month(yy, mm))"
   ]
  },
  {
   "cell_type": "markdown",
   "id": "9ab4103b",
   "metadata": {},
   "source": [
    "## 4.Write a Python program to solve quadratic equation?\n"
   ]
  },
  {
   "cell_type": "code",
   "execution_count": 4,
   "id": "7a5cea40",
   "metadata": {},
   "outputs": [],
   "source": [
    "import cmath"
   ]
  },
  {
   "cell_type": "code",
   "execution_count": 7,
   "id": "f7781a20",
   "metadata": {},
   "outputs": [],
   "source": [
    "a = 7\n",
    "b = 8\n",
    "c = 9"
   ]
  },
  {
   "cell_type": "code",
   "execution_count": 8,
   "id": "78790daf",
   "metadata": {},
   "outputs": [
    {
     "name": "stdout",
     "output_type": "stream",
     "text": [
      "(-0.5714285714285714-0.9793792286287205j) (-0.5714285714285714+0.9793792286287205j)\n"
     ]
    }
   ],
   "source": [
    "d = (b**2) - (4*a*c)\n",
    "sol1 = (-b-cmath.sqrt(d))/(2*a)  \n",
    "sol2 = (-b+cmath.sqrt(d))/(2*a)\n",
    "\n",
    "print(sol1,sol2)"
   ]
  },
  {
   "cell_type": "markdown",
   "id": "1d29e4ed",
   "metadata": {},
   "source": [
    "## 5.Write a Python program to swap two variables without temp variable?"
   ]
  },
  {
   "cell_type": "code",
   "execution_count": 9,
   "id": "c60f3fb6",
   "metadata": {},
   "outputs": [],
   "source": [
    "x = 5\n",
    "y = 10"
   ]
  },
  {
   "cell_type": "code",
   "execution_count": 10,
   "id": "0d95c8f4",
   "metadata": {},
   "outputs": [
    {
     "name": "stdout",
     "output_type": "stream",
     "text": [
      "10 5\n"
     ]
    }
   ],
   "source": [
    "x = x + y\n",
    "y = x - y\n",
    "x = x - y\n",
    "\n",
    "print(x,y)"
   ]
  },
  {
   "cell_type": "code",
   "execution_count": null,
   "id": "4ccfdc28",
   "metadata": {},
   "outputs": [],
   "source": []
  }
 ],
 "metadata": {
  "kernelspec": {
   "display_name": "Python 3 (ipykernel)",
   "language": "python",
   "name": "python3"
  },
  "language_info": {
   "codemirror_mode": {
    "name": "ipython",
    "version": 3
   },
   "file_extension": ".py",
   "mimetype": "text/x-python",
   "name": "python",
   "nbconvert_exporter": "python",
   "pygments_lexer": "ipython3",
   "version": "3.9.7"
  }
 },
 "nbformat": 4,
 "nbformat_minor": 5
}

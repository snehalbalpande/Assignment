{
 "cells": [
  {
   "cell_type": "markdown",
   "id": "d0e91f69",
   "metadata": {},
   "source": [
    "1.\tWrite a Python Program to find sum of array?\n",
    "2.\tWrite a Python Program to find largest element in an array?\n",
    "3.\tWrite a Python Program for array rotation?\n",
    "4.\tWrite a Python Program to Split the array and add the first part to the end?\n",
    "5.\tWrite a Python Program to check if given array is Monotonic?\n"
   ]
  },
  {
   "cell_type": "code",
   "execution_count": 1,
   "id": "683f7876",
   "metadata": {},
   "outputs": [
    {
     "name": "stdout",
     "output_type": "stream",
     "text": [
      "20\n"
     ]
    }
   ],
   "source": [
    "arr = [2,3,4,5,6]\n",
    "c = 0\n",
    "for i in arr:\n",
    "    c = c + i\n",
    "print(c)"
   ]
  },
  {
   "cell_type": "code",
   "execution_count": 1,
   "id": "8dab8f2f",
   "metadata": {},
   "outputs": [
    {
     "name": "stdout",
     "output_type": "stream",
     "text": [
      "55\n"
     ]
    }
   ],
   "source": [
    "arr = [1,5,6,9,10,55]\n",
    "for i in arr:\n",
    "    if i == max(arr):\n",
    "        print(i)"
   ]
  },
  {
   "cell_type": "code",
   "execution_count": 3,
   "id": "e13fa9f0",
   "metadata": {},
   "outputs": [
    {
     "name": "stdout",
     "output_type": "stream",
     "text": [
      "Rotated list is\n",
      "[3, 4, 5, 6, 1, 2]\n"
     ]
    }
   ],
   "source": [
    "def rotateArray(a,d):\n",
    "    n=len(a)\n",
    "    a[:]=a[d:n]+a[0:d]\n",
    "    return a\n",
    "\n",
    "arr = [1, 2, 3, 4, 5, 6]\n",
    "\n",
    "print(\"Rotated list is\")\n",
    "print(rotateArray(arr,2))\n",
    "        "
   ]
  },
  {
   "cell_type": "code",
   "execution_count": 13,
   "id": "db32382c",
   "metadata": {
    "ExecuteTime": {
     "end_time": "2022-01-27T13:15:34.968109Z",
     "start_time": "2022-01-27T13:15:34.949973Z"
    }
   },
   "outputs": [
    {
     "name": "stdout",
     "output_type": "stream",
     "text": [
      "5 6 52 36 12 10 "
     ]
    }
   ],
   "source": [
    "def splitArr(arr, k): \n",
    "    for i in range(0, k): \n",
    "        x = arr[0]\n",
    "        for j in range(0, n-1):\n",
    "            arr[j] = arr[j + 1]\n",
    "          \n",
    "        arr[n-1] = x\n",
    "\n",
    "arr = [12, 10, 5, 6, 52, 36]\n",
    "n = len(arr)\n",
    "position = 2\n",
    "  \n",
    "splitArr(arr, position)\n",
    "  \n",
    "for i in range(0, n): \n",
    "    print(arr[i], end = ' ')"
   ]
  },
  {
   "cell_type": "code",
   "execution_count": 17,
   "id": "fd66b56a",
   "metadata": {
    "ExecuteTime": {
     "end_time": "2022-01-27T13:32:07.418119Z",
     "start_time": "2022-01-27T13:32:07.405187Z"
    }
   },
   "outputs": [
    {
     "name": "stdout",
     "output_type": "stream",
     "text": [
      "True\n"
     ]
    }
   ],
   "source": [
    "def monotonic (l):\n",
    "    return (all(A[i] <= A[i + 1] for i in range(len(A) - 1)) or\n",
    "            all(A[i] >= A[i + 1] for i in range(len(A) - 1)))\n",
    "l = [1,2,3,4,5,6]\n",
    "print(monotonic(l))\n",
    "  "
   ]
  },
  {
   "cell_type": "code",
   "execution_count": null,
   "id": "5ef8fda6",
   "metadata": {},
   "outputs": [],
   "source": []
  }
 ],
 "metadata": {
  "gist": {
   "data": {
    "description": "programming assignments 7.ipynb",
    "public": false
   },
   "id": ""
  },
  "kernelspec": {
   "display_name": "Python 3 (ipykernel)",
   "language": "python",
   "name": "python3"
  },
  "language_info": {
   "codemirror_mode": {
    "name": "ipython",
    "version": 3
   },
   "file_extension": ".py",
   "mimetype": "text/x-python",
   "name": "python",
   "nbconvert_exporter": "python",
   "pygments_lexer": "ipython3",
   "version": "3.9.7"
  }
 },
 "nbformat": 4,
 "nbformat_minor": 5
}

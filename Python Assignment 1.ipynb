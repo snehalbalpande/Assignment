{
 "cells": [
  {
   "cell_type": "code",
   "execution_count": null,
   "id": "306908b9",
   "metadata": {},
   "outputs": [],
   "source": [
    "1. In the below elements which of them are values or an expression? \n",
    " eg:- values can be integer or string and expressions will be mathematical operators.\n",
    "* \n",
    "'hello'\n",
    "-87.8\n",
    "- \n",
    "/ \n",
    "+\t\n",
    "6 \n",
    "\n",
    "ANS :-\n",
    "    \n",
    "    Mathematical operations :- * , - , / , +\n",
    "    Values :- 'hello', -87.8, 6\n",
    "\n"
   ]
  },
  {
   "cell_type": "code",
   "execution_count": null,
   "id": "d28018a4",
   "metadata": {},
   "outputs": [],
   "source": [
    "2. What is the difference between string and variable?\n",
    "\n",
    "ANS :-\n",
    "    String is a type of information you would store in a variable. A is usually words, enclosed with \"\" .\n",
    "    Variable is any alphabet or group of alphabet which work as temporary storage location,\n",
    "    a variable is used to represent any value.\n",
    "    \n",
    "    Ex. a = \"snehal\"\n",
    "     here a is variable and type of value it store is in string\n"
   ]
  },
  {
   "cell_type": "code",
   "execution_count": null,
   "id": "eb1ee0a5",
   "metadata": {},
   "outputs": [],
   "source": [
    "3. Describe three different data types.\n",
    "ANS :-\n",
    "    1. Integer\n",
    "    2. Floating-point numbers\n",
    "    3. String\n"
   ]
  },
  {
   "cell_type": "code",
   "execution_count": null,
   "id": "7727bdb0",
   "metadata": {},
   "outputs": [],
   "source": [
    "4. What is an expression made up of? What do all expressions do?\n",
    "\n",
    "ANS :- \n",
    "    An expression is a combination of values and operators. All expression evaluate (that is ,reduce) to a single value."
   ]
  },
  {
   "cell_type": "code",
   "execution_count": null,
   "id": "58a81e4d",
   "metadata": {},
   "outputs": [],
   "source": [
    "5. This assignment statements, like spam = 10. What is the difference between an expression and a statement?\n",
    "\n",
    "ANS :- \n",
    "    An expression evaluate to a single value. A statement does not."
   ]
  },
  {
   "cell_type": "code",
   "execution_count": null,
   "id": "a6cb5134",
   "metadata": {},
   "outputs": [],
   "source": [
    "6. After running the following code, what does the variable bacon contain?\n",
    "bacon = 22\n",
    "bacon + 1\n",
    "\n",
    "ANS:- \n",
    "    The bacon variable is a set of 22. The bacon + 1 expression does not reassign the value in bacon(that would need an \n",
    "     assignment statement : bacon = bacon + 1)"
   ]
  },
  {
   "cell_type": "code",
   "execution_count": null,
   "id": "26b6e025",
   "metadata": {},
   "outputs": [],
   "source": [
    "7. What should the values of the following two terms be?\n",
    "'spam' + 'spamspam'\n",
    "'spam' * 3\n",
    "\n",
    "ANS :- \n",
    "    Both expression evaluate to the string\n",
    "    'spamspamspam'\n"
   ]
  },
  {
   "cell_type": "code",
   "execution_count": null,
   "id": "c787dff9",
   "metadata": {},
   "outputs": [],
   "source": [
    "8. Why is eggs a valid variable name while 100 is invalid?\n",
    "\n",
    "ANS :-\n",
    "    Variable names cannot begin with number."
   ]
  },
  {
   "cell_type": "code",
   "execution_count": null,
   "id": "b6d6afcf",
   "metadata": {},
   "outputs": [],
   "source": [
    "9. What three functions can be used to get the integer, floating-point number, or string version of a value?\n",
    "\n",
    "ANS :-\n",
    "    The int(), float() and str() functions will evaluate to the integer, floating-point number and string version\n",
    "    of the value passed to them."
   ]
  },
  {
   "cell_type": "code",
   "execution_count": null,
   "id": "586b48f7",
   "metadata": {},
   "outputs": [],
   "source": [
    "10. Why does this expression cause an error? How can you fix it?\n",
    "'I have eaten ' + 99 + ' burritos.'\n",
    "\n",
    "ANS :-\n",
    "    The expression cuse an error because 99 is an integer and only string can be concatenated to other strings with \n",
    "    the + operator. The correct way is 'i have eaten'+str(99) + ' burritos'.\n",
    "\n"
   ]
  }
 ],
 "metadata": {
  "kernelspec": {
   "display_name": "Python 3 (ipykernel)",
   "language": "python",
   "name": "python3"
  },
  "language_info": {
   "codemirror_mode": {
    "name": "ipython",
    "version": 3
   },
   "file_extension": ".py",
   "mimetype": "text/x-python",
   "name": "python",
   "nbconvert_exporter": "python",
   "pygments_lexer": "ipython3",
   "version": "3.9.7"
  }
 },
 "nbformat": 4,
 "nbformat_minor": 5
}

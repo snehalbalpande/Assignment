{
 "cells": [
  {
   "cell_type": "code",
   "execution_count": null,
   "id": "554aa5b8",
   "metadata": {},
   "outputs": [],
   "source": [
    "1) . What is the difference between enclosing a list comprehension in square brackets and parentheses?\n",
    "\n",
    "ANS:- List comprehension in square brackets produces a list object as output List comprehension in oval parenthesis () \n",
    "    produces a generator object List comprehension in flower parenthesis {} produces a set object"
   ]
  },
  {
   "cell_type": "code",
   "execution_count": 4,
   "id": "b0e1360b",
   "metadata": {},
   "outputs": [
    {
     "name": "stdout",
     "output_type": "stream",
     "text": [
      "<class 'list'>\n"
     ]
    }
   ],
   "source": [
    "temp = [i for i in range(10)]\n",
    "print(type(temp))"
   ]
  },
  {
   "cell_type": "code",
   "execution_count": 2,
   "id": "ea97d3f3",
   "metadata": {},
   "outputs": [
    {
     "name": "stdout",
     "output_type": "stream",
     "text": [
      "<class 'generator'>\n"
     ]
    }
   ],
   "source": [
    "temp2 = (i for i in range(10)) \n",
    "print(type(temp2))"
   ]
  },
  {
   "cell_type": "code",
   "execution_count": 3,
   "id": "3e8a3942",
   "metadata": {},
   "outputs": [
    {
     "name": "stdout",
     "output_type": "stream",
     "text": [
      "<class 'set'>\n"
     ]
    }
   ],
   "source": [
    "temp2 = {i for i in range(10)} \n",
    "print(type(temp2))"
   ]
  },
  {
   "cell_type": "code",
   "execution_count": null,
   "id": "25dfa529",
   "metadata": {},
   "outputs": [],
   "source": [
    "2) What is the relationship between generators and iterators?\n",
    "\n",
    "ANS:- An iterator is an object which contains a countable number of values and it is used to iterate over iterable objects \n",
    "    like list, tuples etc\n",
    "\n",
    "Using an iterator- iter() keyword is used to create an iterator containing an iterable object. next() keyword is used to \n",
    "call the next element in the iterable object.\n",
    "\n",
    "Generator It is another way of creating iterators in a simple way where it uses the keyword “yield” instead of returning \n",
    "it in a defined function Generators are implemented using a function containing yield return statement.\n",
    "\n",
    "Here, the yield function returns the data without affecting or exiting the function. It will return a sequence of data in \n",
    "an iterable format where we need to iterate over the sequence to use the data as they won’t store the entire sequence in \n",
    "the memory By using next() function we can iterate the output of generator function"
   ]
  },
  {
   "cell_type": "code",
   "execution_count": null,
   "id": "6878675b",
   "metadata": {},
   "outputs": [],
   "source": [
    "3) What are the signs that a function is a generator function?\n",
    "\n",
    "ANS:-If a function contains at least one yield statement (it may contain other yield or return statements), it becomes a \n",
    "generator function. Both yield and return will return some value from a function."
   ]
  },
  {
   "cell_type": "code",
   "execution_count": null,
   "id": "6614e54f",
   "metadata": {},
   "outputs": [],
   "source": [
    "4) What is the purpose of a yield statement?\n",
    "\n",
    "ANS:- A yield statement looks much like a return statement, except that instead of stopping execution of the function and \n",
    "returning, yield instead provides a value to the code looping over the generator and pauses execution of the generator \n",
    "function"
   ]
  },
  {
   "cell_type": "code",
   "execution_count": null,
   "id": "60a9e829",
   "metadata": {},
   "outputs": [],
   "source": [
    "5) What is the relationship between map calls and list comprehensions? Make a comparison and contrast between the two.\n",
    "\n",
    "ANS:-Map function: Suppose we have a function and we want to compute this function for different values in a single line \n",
    "    of code . This is where map() function plays its role. map() function returns a map object(which is an iterator) of \n",
    "    the results after applying the given function to each item of a given iterable (list, tuple etc.)\n",
    "\n",
    "If we already have a function defined, it is often good to use map For example, map(sum, myLists) is more neat than \n",
    "[sum(x) for x in myLists]. You gain the elegance of not having to make up a dummy variable (e.g. sum(x) for x... or sum() \n",
    "for ... or sum(readableName) for readableName...) which you have to type twice, just to iterate.\n",
    "\n",
    "List Comprehension: List Comprehension is a substitute for the lambda function, map(), filter() and reduce()\n",
    "\n",
    "Comparision :\n",
    "\n",
    "1. List comprehension is more concise and easier to read as compared to map\n",
    "2. List comprehension allows filtering. In map, we have no such facility For example, to print all even numbers in range of \n",
    "   100, we can write [n for n in range(100) if n%2 == 0]. There is no alternate for it in map\n",
    "3. List comprehension are used when a list of results is required, where as map only returns a map object and does not \n",
    "   return any list.\n",
    "4. List comprehension is faster than map when we need to evaluate expressions that are too long or complicated to express\n",
    "5. Map is faster in case of calling an already defined function (as no lambda is required)"
   ]
  }
 ],
 "metadata": {
  "kernelspec": {
   "display_name": "Python 3 (ipykernel)",
   "language": "python",
   "name": "python3"
  },
  "language_info": {
   "codemirror_mode": {
    "name": "ipython",
    "version": 3
   },
   "file_extension": ".py",
   "mimetype": "text/x-python",
   "name": "python",
   "nbconvert_exporter": "python",
   "pygments_lexer": "ipython3",
   "version": "3.9.7"
  }
 },
 "nbformat": 4,
 "nbformat_minor": 5
}

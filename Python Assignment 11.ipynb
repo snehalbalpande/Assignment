{
 "cells": [
  {
   "cell_type": "code",
   "execution_count": null,
   "id": "6804c2fe",
   "metadata": {},
   "outputs": [],
   "source": [
    "1. Create an assert statement that throws an AssertionError if the variable spam is a negative integer.\n",
    "\n",
    "ANS:- assert spam = -2, 'The spam variable is negative.'"
   ]
  },
  {
   "cell_type": "code",
   "execution_count": null,
   "id": "d6de66a2",
   "metadata": {},
   "outputs": [],
   "source": [
    "2. Write an assert statement that triggers an AssertionError if the variables eggs and bacon contain\n",
    "strings that are the same as each other, even if their cases are different (that is, &#39;hello&#39; and &#39;hello&#39; \n",
    "are considered the same, and &#39;goodbye&#39; and &#39;GOODbye&#39; are also considered the same).\n",
    "                                                                            \n",
    "ANS:-Either assert eggs.lower() !=bacon.lower() 'The eggs and bacon variable are the same!' or\n",
    "     assert eggs.upper() !=bacon.upper(), 'The eggs and bacon variable are the same!'\n",
    "                                                                            "
   ]
  },
  {
   "cell_type": "code",
   "execution_count": null,
   "id": "90ab9199",
   "metadata": {},
   "outputs": [],
   "source": [
    "3. Create an assert statement that throws an AssertionError every time.\n",
    "\n",
    "ANS:-assert, 'This assertion always triggers.'"
   ]
  },
  {
   "cell_type": "code",
   "execution_count": null,
   "id": "b1499dff",
   "metadata": {},
   "outputs": [],
   "source": [
    "4. What are the two lines that must be present in your software in order to call logging.debug()?\n",
    "\n",
    "ANS:- To be able to call logging.debug(), you must have these two lines at the start of your program:\n",
    "       \n",
    "    import logging\n",
    "    logging.basicConfig(level=logging.DEBUG, format= '%(asctime)s - %(levelname)s - %(message)s')"
   ]
  },
  {
   "cell_type": "code",
   "execution_count": null,
   "id": "2b8e7ffe",
   "metadata": {},
   "outputs": [],
   "source": [
    "5. What are the two lines that your program must have in order to have logging.debug() send a\n",
    "logging message to a file named programLog.txt?\n",
    "\n",
    "ANS:-To be able to send logging message to a file named programLog.txt with logging.debug(), you must have these \n",
    "    two lines at the start of your program:\n",
    "        \n",
    "    import logging\n",
    "    logging.basicConfig(filename='programLog.txt', level=logging.DEBUG, format='%(asctime)s - %(levelname)s - %(message)s')"
   ]
  },
  {
   "cell_type": "code",
   "execution_count": null,
   "id": "5f999f8d",
   "metadata": {},
   "outputs": [],
   "source": [
    "6. What are the five levels of logging?\n",
    "\n",
    "ANS:- DEBUG, INFO, WARNING, ERROR, AND CRITICAL "
   ]
  },
  {
   "cell_type": "code",
   "execution_count": null,
   "id": "af197e1e",
   "metadata": {},
   "outputs": [],
   "source": [
    "7. What line of code would you add to your software to disable all logging messages?\n",
    "\n",
    "ANS:- logging.disable(logging.CRITICAL)"
   ]
  },
  {
   "cell_type": "code",
   "execution_count": null,
   "id": "0b215e64",
   "metadata": {},
   "outputs": [],
   "source": [
    "8.Why is using logging messages better than using print() to display the same message?\n",
    "\n",
    "ANS:- You can disable logging messages without removing the logging function calls. You can selectively disable lower-level\n",
    "    logging messages. You can create loggingmessages. Logging messages provides a timestamp.\n",
    "    "
   ]
  },
  {
   "cell_type": "code",
   "execution_count": null,
   "id": "c79c4802",
   "metadata": {},
   "outputs": [],
   "source": [
    "9. What are the differences between the Step Over, Step In, and Step Out buttons in the debugger?\n",
    "\n",
    "ANS:- The Step over button will quickly execute the function call without stepping into it.\n",
    "    The Step In button will move the debugger into a function call.\n",
    "    the Step Out button will quickly execute the rest of the code until it steps out of the function it currently is in.\n",
    "    "
   ]
  },
  {
   "cell_type": "code",
   "execution_count": null,
   "id": "8417f010",
   "metadata": {},
   "outputs": [],
   "source": [
    "10.After you click Continue, when will the debugger stop ?\n",
    "\n",
    "ANS:- After you click Countinue, the debugger will stop when it has reached the end of the program or a line with \n",
    "    a breakpoint."
   ]
  },
  {
   "cell_type": "code",
   "execution_count": null,
   "id": "b4c155ae",
   "metadata": {},
   "outputs": [],
   "source": [
    "11. What is the concept of a breakpoint?\n",
    "\n",
    "ANS:- A breakpoint is a setting on a line of code that curse the debugger to pause when the program execution reache\n",
    "    the line."
   ]
  }
 ],
 "metadata": {
  "kernelspec": {
   "display_name": "Python 3 (ipykernel)",
   "language": "python",
   "name": "python3"
  },
  "language_info": {
   "codemirror_mode": {
    "name": "ipython",
    "version": 3
   },
   "file_extension": ".py",
   "mimetype": "text/x-python",
   "name": "python",
   "nbconvert_exporter": "python",
   "pygments_lexer": "ipython3",
   "version": "3.9.7"
  }
 },
 "nbformat": 4,
 "nbformat_minor": 5
}

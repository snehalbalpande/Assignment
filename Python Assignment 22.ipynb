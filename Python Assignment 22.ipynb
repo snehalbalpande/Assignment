{
 "cells": [
  {
   "cell_type": "code",
   "execution_count": null,
   "id": "d8e7659f",
   "metadata": {},
   "outputs": [],
   "source": [
    "1. What is the result of the code, and explain?\n",
    "\n",
    "X = 'iNeuron'\n",
    "def func():\n",
    "print(X)\n",
    "\n",
    "func()\n",
    "\n",
    "ANS :-The above program will print iNeuron to the console as there is no local variable X in the function and the \n",
    "    global variable X will be called\n"
   ]
  },
  {
   "cell_type": "code",
   "execution_count": 2,
   "id": "f36caf21",
   "metadata": {},
   "outputs": [
    {
     "name": "stdout",
     "output_type": "stream",
     "text": [
      "iNeuron\n"
     ]
    }
   ],
   "source": [
    "X = 'iNeuron'\n",
    "def func():\n",
    "    print(X)"
   ]
  },
  {
   "cell_type": "code",
   "execution_count": 3,
   "id": "1c3fbeb2",
   "metadata": {},
   "outputs": [
    {
     "name": "stdout",
     "output_type": "stream",
     "text": [
      "iNeuron\n"
     ]
    }
   ],
   "source": [
    "func()"
   ]
  },
  {
   "cell_type": "code",
   "execution_count": null,
   "id": "3eec95c6",
   "metadata": {},
   "outputs": [],
   "source": [
    "2. What is the result of the code, and explain?\n",
    "\n",
    "X = 'iNeuron'\n",
    "def func():\n",
    "X = 'NI!'\n",
    "\n",
    "\n",
    "func()\n",
    "print(X)\n",
    "\n",
    "ANS:- The above program will print iNeuron to the console\n",
    "\n",
    "As the statement X='NI!' will be updating the local value X, but the global variable X will be unchanged"
   ]
  },
  {
   "cell_type": "code",
   "execution_count": 5,
   "id": "685ed9f9",
   "metadata": {},
   "outputs": [],
   "source": [
    "X = 'iNeuron'\n",
    "def func():\n",
    "    X = 'NI!'"
   ]
  },
  {
   "cell_type": "code",
   "execution_count": 6,
   "id": "e40406b7",
   "metadata": {},
   "outputs": [],
   "source": [
    "func()"
   ]
  },
  {
   "cell_type": "code",
   "execution_count": 7,
   "id": "bc90a2ee",
   "metadata": {},
   "outputs": [
    {
     "name": "stdout",
     "output_type": "stream",
     "text": [
      "iNeuron\n"
     ]
    }
   ],
   "source": [
    "print(X)"
   ]
  },
  {
   "cell_type": "code",
   "execution_count": null,
   "id": "370f21ec",
   "metadata": {},
   "outputs": [],
   "source": [
    "3. What does this code print, and why?\n",
    "\n",
    "X = 'iNeuron'\n",
    "def func():\n",
    "X = 'NI'\n",
    "print(X)\n",
    "\n",
    "\n",
    "func()\n",
    "print(X)\n",
    "\n",
    "ANS:- The above program will print NI followed by iNeuron to the console as the statement X='NI' will be updating the local\n",
    "    value X and then printing it to the console, but the global variable X will be unchanged, therefore the next print \n",
    "    statement will print the global variable X value which is iNeuron"
   ]
  },
  {
   "cell_type": "code",
   "execution_count": 8,
   "id": "6aee52e1",
   "metadata": {},
   "outputs": [],
   "source": [
    "X = 'iNeuron'\n",
    "def func():\n",
    "    X = 'NI'\n",
    "    print(X)"
   ]
  },
  {
   "cell_type": "code",
   "execution_count": 9,
   "id": "9f211147",
   "metadata": {},
   "outputs": [
    {
     "name": "stdout",
     "output_type": "stream",
     "text": [
      "NI\n"
     ]
    }
   ],
   "source": [
    "func()"
   ]
  },
  {
   "cell_type": "code",
   "execution_count": 10,
   "id": "9448e85c",
   "metadata": {},
   "outputs": [
    {
     "name": "stdout",
     "output_type": "stream",
     "text": [
      "iNeuron\n"
     ]
    }
   ],
   "source": [
    "print(X)"
   ]
  },
  {
   "cell_type": "code",
   "execution_count": null,
   "id": "de03c0b7",
   "metadata": {},
   "outputs": [],
   "source": [
    "4. What output does this code produce? Why?\n",
    "\n",
    "X = 'iNeuron'\n",
    "def func():\n",
    "global X\n",
    "X = 'NI'\n",
    "\n",
    "\n",
    "func()\n",
    "print(X)\n",
    "\n",
    "ANS:- The above program will print NI to the console. The statement global X will ensure the func function uses the global \n",
    "    variable instead of a local variable with name X. Hence the assignment statement updates the global varaible X value\n",
    "    to NI"
   ]
  },
  {
   "cell_type": "code",
   "execution_count": 11,
   "id": "0e7e7f6c",
   "metadata": {},
   "outputs": [],
   "source": [
    "X = 'iNeuron'\n",
    "def func():\n",
    "    global X\n",
    "    X = 'NI'"
   ]
  },
  {
   "cell_type": "code",
   "execution_count": 12,
   "id": "54fd3bf1",
   "metadata": {},
   "outputs": [],
   "source": [
    "func()"
   ]
  },
  {
   "cell_type": "code",
   "execution_count": 13,
   "id": "f5711fbd",
   "metadata": {},
   "outputs": [
    {
     "name": "stdout",
     "output_type": "stream",
     "text": [
      "NI\n"
     ]
    }
   ],
   "source": [
    "print(X)"
   ]
  },
  {
   "cell_type": "code",
   "execution_count": null,
   "id": "aa8196e9",
   "metadata": {},
   "outputs": [],
   "source": [
    "5. What about this code—what’s the output, and why?\n",
    "\n",
    "X = 'iNeuron'\n",
    "def func():\n",
    "X = 'NI'\n",
    "def nested():\n",
    "print(X)\n",
    "nested()\n",
    "\n",
    "func()\n",
    "X\n",
    "\n",
    "ANS:- The above code will print NI followed by iNeuron, this is because the global varaible X is unchanged and the method \n",
    "    nested has access to the X declared in its enclosing function func"
   ]
  },
  {
   "cell_type": "code",
   "execution_count": 14,
   "id": "4ec99c71",
   "metadata": {},
   "outputs": [],
   "source": [
    "X = 'iNeuron'\n",
    "def func():\n",
    "    X = 'NI'\n",
    "    def nested():\n",
    "        print(X)\n",
    "        nested()"
   ]
  },
  {
   "cell_type": "code",
   "execution_count": 15,
   "id": "9a1bd7cd",
   "metadata": {},
   "outputs": [],
   "source": [
    "func()"
   ]
  },
  {
   "cell_type": "code",
   "execution_count": 16,
   "id": "0b3a7a6f",
   "metadata": {},
   "outputs": [
    {
     "data": {
      "text/plain": [
       "'iNeuron'"
      ]
     },
     "execution_count": 16,
     "metadata": {},
     "output_type": "execute_result"
    }
   ],
   "source": [
    "X"
   ]
  },
  {
   "cell_type": "code",
   "execution_count": null,
   "id": "96a5476f",
   "metadata": {},
   "outputs": [],
   "source": [
    "6. How about this code: what is its output in Python 3, and explain?\n",
    "\n",
    "def func():\n",
    "X = 'NI'\n",
    "def nested():\n",
    "nonlocal X\n",
    "X = 'Spam'\n",
    "nested()\n",
    "print(X)\n",
    " func()\n",
    "    \n",
    "ANS :- The above code will print Spam to the console, as they keyword nonlocal helps the function nested() to access the \n",
    "    variable X from the function func"
   ]
  },
  {
   "cell_type": "code",
   "execution_count": 20,
   "id": "6bb90629",
   "metadata": {},
   "outputs": [],
   "source": [
    "def func():\n",
    "    X = 'NI'\n",
    "    def nested():\n",
    "        nonlocal X\n",
    "        X = 'Spam'\n",
    "        nested()"
   ]
  },
  {
   "cell_type": "code",
   "execution_count": 21,
   "id": "23d30ab6",
   "metadata": {},
   "outputs": [
    {
     "name": "stdout",
     "output_type": "stream",
     "text": [
      "iNeuron\n"
     ]
    }
   ],
   "source": [
    "print(X)"
   ]
  },
  {
   "cell_type": "code",
   "execution_count": 22,
   "id": "0174de95",
   "metadata": {},
   "outputs": [],
   "source": [
    "func()"
   ]
  }
 ],
 "metadata": {
  "kernelspec": {
   "display_name": "Python 3 (ipykernel)",
   "language": "python",
   "name": "python3"
  },
  "language_info": {
   "codemirror_mode": {
    "name": "ipython",
    "version": 3
   },
   "file_extension": ".py",
   "mimetype": "text/x-python",
   "name": "python",
   "nbconvert_exporter": "python",
   "pygments_lexer": "ipython3",
   "version": "3.9.7"
  }
 },
 "nbformat": 4,
 "nbformat_minor": 5
}

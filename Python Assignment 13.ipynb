{
 "cells": [
  {
   "cell_type": "code",
   "execution_count": null,
   "id": "852d810e",
   "metadata": {},
   "outputs": [],
   "source": [
    "1. What advantages do Excel spreadsheets have over CSV spreadsheets?\n",
    "\n",
    "ANS:- In Excel, spreadsheets can have values of data types other than strings; cells can have different fonts, sizes, or\n",
    "    color setting; cells can have varying widths and heights; adjecent cells can be merged; and you can embed images and charts."
   ]
  },
  {
   "cell_type": "code",
   "execution_count": null,
   "id": "5c5236b1",
   "metadata": {},
   "outputs": [],
   "source": [
    "2.What do you pass to csv.reader() and csv.writer() to create reader and writer objects?\n",
    "\n",
    "ANS:- You pass a file object, obtained from a call to open()."
   ]
  },
  {
   "cell_type": "code",
   "execution_count": null,
   "id": "814a4f08",
   "metadata": {},
   "outputs": [],
   "source": [
    "3. What modes do File objects for reader and writer objects need to be opened in?\n",
    "\n",
    "ANS:- File objects need to be opened in read('r') for reader objects and write('w') for writer objects."
   ]
  },
  {
   "cell_type": "code",
   "execution_count": null,
   "id": "babab271",
   "metadata": {},
   "outputs": [],
   "source": [
    "4. What method takes a list argument and writes it to a CSV file?\n",
    "\n",
    "ANS:- The writerow() method."
   ]
  },
  {
   "cell_type": "code",
   "execution_count": null,
   "id": "b66136db",
   "metadata": {},
   "outputs": [],
   "source": [
    "5. What do the keyword arguments delimiter and line terminator do?\n",
    "\n",
    "ANS:- The delimiter argument changes the string used to separate cells in a row. The line terminator argument changes\n",
    "    the string used to separate rows."
   ]
  },
  {
   "cell_type": "code",
   "execution_count": null,
   "id": "70744f95",
   "metadata": {},
   "outputs": [],
   "source": [
    "6. What function takes a string of JSON data and returns a Python data structure?\n",
    "\n",
    "ANS:- json.load()"
   ]
  },
  {
   "cell_type": "code",
   "execution_count": null,
   "id": "bf745ee6",
   "metadata": {},
   "outputs": [],
   "source": [
    "7. What function takes a Python data structure and returns a string of JSON data?\n",
    "\n",
    "ANS :- json.dump()"
   ]
  }
 ],
 "metadata": {
  "kernelspec": {
   "display_name": "Python 3 (ipykernel)",
   "language": "python",
   "name": "python3"
  },
  "language_info": {
   "codemirror_mode": {
    "name": "ipython",
    "version": 3
   },
   "file_extension": ".py",
   "mimetype": "text/x-python",
   "name": "python",
   "nbconvert_exporter": "python",
   "pygments_lexer": "ipython3",
   "version": "3.9.7"
  }
 },
 "nbformat": 4,
 "nbformat_minor": 5
}

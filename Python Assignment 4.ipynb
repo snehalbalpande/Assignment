{
 "cells": [
  {
   "cell_type": "code",
   "execution_count": null,
   "id": "6bb0a6ed",
   "metadata": {},
   "outputs": [],
   "source": [
    "1. What exactly is []?\n",
    "\n",
    "ANS:-The empty list value, which is a list value that contains no items. This is similar to how '' is empty string value."
   ]
  },
  {
   "cell_type": "code",
   "execution_count": null,
   "id": "773c0366",
   "metadata": {},
   "outputs": [],
   "source": [
    "2. In a list of values stored in a variable called spam, how would you assign the value 'hello' as the third value? (Assume [2, 4, 6, 8, 10] are in spam.)\n",
    "Let's pretend the spam includes the list ['a', 'b', 'c', 'd'] for the next three queries.\n",
    "\n",
    "ANS:- spam conatins the list['a','b','c','d']\n",
    "      spam = ['a','b','c','d']\n",
    "        \n",
    "      spam[2] = 'hello'\n",
    "      Notice that the third value in a list at index 2 because the first index is 0 ."
   ]
  },
  {
   "cell_type": "code",
   "execution_count": null,
   "id": "5bdd3831",
   "metadata": {},
   "outputs": [],
   "source": [
    "3. What is the value of spam[int(int('3' * 2) / 11)]?\n",
    "\n",
    "ANS:- the value is 3 ."
   ]
  },
  {
   "cell_type": "code",
   "execution_count": 4,
   "id": "6c1c6dcc",
   "metadata": {},
   "outputs": [],
   "source": [
    "spam = [int(int('3' * 2) / 11)]"
   ]
  },
  {
   "cell_type": "code",
   "execution_count": 5,
   "id": "e89925ee",
   "metadata": {},
   "outputs": [
    {
     "data": {
      "text/plain": [
       "[3]"
      ]
     },
     "execution_count": 5,
     "metadata": {},
     "output_type": "execute_result"
    }
   ],
   "source": [
    "spam"
   ]
  },
  {
   "cell_type": "code",
   "execution_count": null,
   "id": "e357a0ee",
   "metadata": {},
   "outputs": [],
   "source": [
    "4. What is the value of spam[-1]?\n",
    "\n",
    "ANS:- Negative index count from the end. \n",
    "    ex.  spam = ['a','b','c','d']\n",
    "    \n",
    "    The value of spam[-1] = 'd'"
   ]
  },
  {
   "cell_type": "code",
   "execution_count": 11,
   "id": "7dbb2980",
   "metadata": {},
   "outputs": [
    {
     "data": {
      "text/plain": [
       "'d'"
      ]
     },
     "execution_count": 11,
     "metadata": {},
     "output_type": "execute_result"
    }
   ],
   "source": [
    "spam = ['a','b','c','d']\n",
    "spam[-1] "
   ]
  },
  {
   "cell_type": "code",
   "execution_count": null,
   "id": "03d06c27",
   "metadata": {
    "scrolled": true
   },
   "outputs": [],
   "source": [
    "5. What is the value of spam[:2]?What is the value of spam[:2]?\n",
    "Let's pretend bacon has the list [3.14, 'cat,' 11, 'cat,' True] for the next three questions.\n",
    "\n",
    "ANS:- spam = [3.14, 'cat', 11, 'cat', True]\n",
    "\n",
    "    [3.14, 'cat'] in indexing wise [0,1]"
   ]
  },
  {
   "cell_type": "code",
   "execution_count": 17,
   "id": "4dcf729c",
   "metadata": {},
   "outputs": [
    {
     "data": {
      "text/plain": [
       "[3.14, 'cat']"
      ]
     },
     "execution_count": 17,
     "metadata": {},
     "output_type": "execute_result"
    }
   ],
   "source": [
    "spam = [3.14, 'cat', 11 , 'cat', True]\n",
    "spam[:2]"
   ]
  },
  {
   "cell_type": "code",
   "execution_count": null,
   "id": "4bccc297",
   "metadata": {},
   "outputs": [],
   "source": [
    "What is the value of bacon.index('cat')?\n",
    "\n",
    "ANS:- 1"
   ]
  },
  {
   "cell_type": "code",
   "execution_count": 19,
   "id": "4397bf58",
   "metadata": {},
   "outputs": [
    {
     "data": {
      "text/plain": [
       "1"
      ]
     },
     "execution_count": 19,
     "metadata": {},
     "output_type": "execute_result"
    }
   ],
   "source": [
    "spam.index('cat')"
   ]
  },
  {
   "cell_type": "code",
   "execution_count": null,
   "id": "80c54c47",
   "metadata": {},
   "outputs": [],
   "source": [
    "7. How does bacon.append(99) change the look of the list value in bacon?\n",
    "\n",
    "ANS:- [3.14, 'cat', 11, 'cat', True, 99]"
   ]
  },
  {
   "cell_type": "code",
   "execution_count": 20,
   "id": "08b70bee",
   "metadata": {},
   "outputs": [
    {
     "data": {
      "text/plain": [
       "[3.14, 'cat', 11, 'cat', True, 99]"
      ]
     },
     "execution_count": 20,
     "metadata": {},
     "output_type": "execute_result"
    }
   ],
   "source": [
    "spam.append(99)\n",
    "spam"
   ]
  },
  {
   "cell_type": "code",
   "execution_count": null,
   "id": "44f6270c",
   "metadata": {},
   "outputs": [],
   "source": [
    "8. How does bacon.remove('cat') change the look of the list in bacon?\n",
    "\n",
    "ANS:- [3.14, 11, 'cat', True, 99]"
   ]
  },
  {
   "cell_type": "code",
   "execution_count": 21,
   "id": "19bcbde7",
   "metadata": {},
   "outputs": [
    {
     "data": {
      "text/plain": [
       "[3.14, 11, 'cat', True, 99]"
      ]
     },
     "execution_count": 21,
     "metadata": {},
     "output_type": "execute_result"
    }
   ],
   "source": [
    "spam.remove('cat')\n",
    "spam"
   ]
  },
  {
   "cell_type": "code",
   "execution_count": null,
   "id": "dd894510",
   "metadata": {},
   "outputs": [],
   "source": [
    "9. What are the list concatenation and list replication operators?\n",
    "\n",
    "ANS:- The operator list concatenation is + , while the operator for replication is * .(This is same for string.)"
   ]
  },
  {
   "cell_type": "code",
   "execution_count": null,
   "id": "3e63a495",
   "metadata": {},
   "outputs": [],
   "source": [
    "10. What is difference between the list methods append() and insert()?\n",
    "\n",
    "ANS:- While append() will add value only to the end of a list, insrt() can add them anywhere in the list."
   ]
  },
  {
   "cell_type": "code",
   "execution_count": null,
   "id": "904fada8",
   "metadata": {},
   "outputs": [],
   "source": [
    "11. What are the two methods for removing items from a list?\n",
    "\n",
    "ANS:- The del statement and the remove() list method are two method to remove items from a list."
   ]
  },
  {
   "cell_type": "code",
   "execution_count": null,
   "id": "81a89a4b",
   "metadata": {},
   "outputs": [],
   "source": [
    "12. Describe how list values and string values are identical.\n",
    "\n",
    "ANS:- Both list and string can be passed to len(), have indexes and slice, be used in for loop, be concatenated \n",
    "      or replicated, and be used with the in and not in operators. "
   ]
  },
  {
   "cell_type": "code",
   "execution_count": null,
   "id": "f159a282",
   "metadata": {},
   "outputs": [],
   "source": [
    "13. What's the difference between tuples and lists?\n",
    "\n",
    "ANS:- Lists are mutable; they can have values added, removed, or changed. \n",
    "      Tuples are immutable; they cannot be changed at all. Also, tuples are written using parentheses () , while\n",
    "      lists use the square brackets []."
   ]
  },
  {
   "cell_type": "code",
   "execution_count": null,
   "id": "736c4bea",
   "metadata": {},
   "outputs": [],
   "source": [
    "14. How do you type a tuple value that only contains the integer 42?\n",
    "\n",
    "ANS:- (42,) (the trailing comma is mandatory.)"
   ]
  },
  {
   "cell_type": "code",
   "execution_count": null,
   "id": "92204ce0",
   "metadata": {},
   "outputs": [],
   "source": [
    "15. How do you get a list value's tuple form? How do you get a tuple value's list form?\n",
    "\n",
    "ANS:- The tuple() and list() functions, respectively."
   ]
  },
  {
   "cell_type": "code",
   "execution_count": null,
   "id": "4b3b21b5",
   "metadata": {},
   "outputs": [],
   "source": [
    "16. Variables that \"contain\" list values are not necessarily lists themselves. Instead, what do they contain?\n",
    "\n",
    "ANS:- They contain references to list values."
   ]
  },
  {
   "cell_type": "code",
   "execution_count": null,
   "id": "d2038057",
   "metadata": {},
   "outputs": [],
   "source": [
    "17. How do you distinguish between copy.copy() and copy.deepcopy()?\n",
    "\n",
    "ANS:-The copy.copy() function will do a shallow copy of a list, while the copy.deepcopy() function will do a \n",
    "     deep copy of a list. That is only copy.deepcopy() will duplicate any list inside the list."
   ]
  }
 ],
 "metadata": {
  "kernelspec": {
   "display_name": "Python 3 (ipykernel)",
   "language": "python",
   "name": "python3"
  },
  "language_info": {
   "codemirror_mode": {
    "name": "ipython",
    "version": 3
   },
   "file_extension": ".py",
   "mimetype": "text/x-python",
   "name": "python",
   "nbconvert_exporter": "python",
   "pygments_lexer": "ipython3",
   "version": "3.9.7"
  }
 },
 "nbformat": 4,
 "nbformat_minor": 5
}

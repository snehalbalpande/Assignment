{
 "cells": [
  {
   "cell_type": "code",
   "execution_count": null,
   "id": "f048196d",
   "metadata": {},
   "outputs": [],
   "source": [
    "1. How do you distinguish between shutil.copy() and shutil.copytree()?\n",
    "\n",
    "ANS:- The shutil.copy() function will copy a single file, while shutil.copytree() will copy an entire folder, along \n",
    "    with all its contents."
   ]
  },
  {
   "cell_type": "code",
   "execution_count": null,
   "id": "c0ccd5cc",
   "metadata": {},
   "outputs": [],
   "source": [
    "2. What function is used to rename files??\n",
    "\n",
    "ANS:- The shutil.move() function is used for renaming files as well as moving them. "
   ]
  },
  {
   "cell_type": "code",
   "execution_count": null,
   "id": "1b89fa2a",
   "metadata": {},
   "outputs": [],
   "source": [
    "3. What is the difference between the delete functions in the send2trash and shutil modules?\n",
    "\n",
    "ANS:- The send2trash function will move a file or folder to the recycle bin, while shutil function will permanently delete\n",
    "     files and folders."
   ]
  },
  {
   "cell_type": "code",
   "execution_count": null,
   "id": "bbef020d",
   "metadata": {},
   "outputs": [],
   "source": [
    "4.ZipFile objects have a close() method just like File objects’ close() method. \n",
    "   What ZipFile method is equivalent to File objects’ open() method?\n",
    "\n",
    "ANS:- The zipfile.ZipFile() function is equivalent to the open() function; the first argument is the filename, and second \n",
    "    argument is the mode to open the ZIP file in (read, write, or append)."
   ]
  },
  {
   "cell_type": "code",
   "execution_count": null,
   "id": "d67d1456",
   "metadata": {},
   "outputs": [],
   "source": [
    "5. Create a programme that searches a folder tree for files with a certain file extension (such as .pdf or .jpg). Copy these files from whatever location they are in to a new folder.\n"
   ]
  },
  {
   "cell_type": "code",
   "execution_count": 6,
   "id": "2d4c1387",
   "metadata": {},
   "outputs": [
    {
     "name": "stdout",
     "output_type": "stream",
     "text": [
      "[WinError 123] The filename, directory name, or volume label syntax is incorrect: '\\u202aC:\\\\Users\\\\Desktop'\n"
     ]
    }
   ],
   "source": [
    "def copyFile(src,dst,ext):\n",
    "    try:\n",
    "        import os,shutil\n",
    "        for file in os.listdir(src):\n",
    "            if file.endswith(ext):\n",
    "                shutil.copy(os.path.join(src,file),dst)\n",
    "        print(f'Files have been successfully copied from {src} to {dst}')\n",
    "    except Exception as e:\n",
    "        print(e)\n",
    "\n",
    "copyFile(r'‪C:\\Users\\Desktop', r'‪‪C:\\Users\\Desktop\\New folder', '.pdf')\n",
    " "
   ]
  },
  {
   "cell_type": "code",
   "execution_count": 2,
   "id": "2f082856",
   "metadata": {},
   "outputs": [
    {
     "name": "stdout",
     "output_type": "stream",
     "text": [
      "Looking in C:\\Users\\Admin\\randomFolder for file with extensions of .php, .py\n"
     ]
    }
   ],
   "source": [
    "import os, shutil\n",
    "\n",
    "def selectiveCopy(folder, extensions, destFolder):\n",
    "    folder = os.path.abspath(folder)\n",
    "    destFolder = os.path.abspath(destFolder)\n",
    "    print('Looking in', folder, 'for file with extensions of', ', '.join(extensions))\n",
    "    for foldername, subfolder, filenames in os.walk(folder):\n",
    "        for filename in filenames:\n",
    "            name, extension = os.path.splitext(filename)\n",
    "            if extension in extesions:\n",
    "                fileAbsPath = foldername + os.path.sep + filename\n",
    "                print('Coping', fileAbsPath, 'to',destFolder)\n",
    "                shutil.copy(fileAbsPath, destFolder)\n",
    "                \n",
    "extensions = ['.php', '.py']\n",
    "folder = 'randomFolder'\n",
    "destFolder = 'selectiveFolder'\n",
    "selectiveCopy(folder, extensions, destFolder)"
   ]
  },
  {
   "cell_type": "code",
   "execution_count": null,
   "id": "312020c2",
   "metadata": {},
   "outputs": [],
   "source": []
  }
 ],
 "metadata": {
  "kernelspec": {
   "display_name": "Python 3 (ipykernel)",
   "language": "python",
   "name": "python3"
  },
  "language_info": {
   "codemirror_mode": {
    "name": "ipython",
    "version": 3
   },
   "file_extension": ".py",
   "mimetype": "text/x-python",
   "name": "python",
   "nbconvert_exporter": "python",
   "pygments_lexer": "ipython3",
   "version": "3.9.7"
  }
 },
 "nbformat": 4,
 "nbformat_minor": 5
}

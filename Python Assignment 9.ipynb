{
 "cells": [
  {
   "cell_type": "code",
   "execution_count": null,
   "id": "eb9d1d71",
   "metadata": {},
   "outputs": [],
   "source": [
    "1. To what does a relative path refer?\n",
    "\n",
    "ANS:- Relative paths are refer to the current working directory."
   ]
  },
  {
   "cell_type": "code",
   "execution_count": null,
   "id": "fbde42be",
   "metadata": {},
   "outputs": [],
   "source": [
    "2. What does an absolute path start with your operating system?\n",
    "\n",
    "ANS:- Absolute paths start with the root folder, such as / or C:\\."
   ]
  },
  {
   "cell_type": "code",
   "execution_count": null,
   "id": "9ca9b276",
   "metadata": {},
   "outputs": [],
   "source": [
    "3. What do the functions os.getcwd() and os.chdir() do?\n",
    "\n",
    "ANS:- The os.getcwd() function return a current working directory.\n",
    "      The os.chdir() function changes the current working directory. "
   ]
  },
  {
   "cell_type": "code",
   "execution_count": null,
   "id": "5c1423dd",
   "metadata": {},
   "outputs": [],
   "source": [
    "4. What are the . and .. folders?\n",
    "\n",
    "ANS:- The . folder is the current folder, and .. is the parent folder. "
   ]
  },
  {
   "cell_type": "code",
   "execution_count": null,
   "id": "a7b4278c",
   "metadata": {},
   "outputs": [],
   "source": [
    "5. In C:\\bacon\\eggs\\spam.txt, which part is the dir name, and which part is the base name?\n",
    "    \n",
    "ANS:- C:\\bacon\\eggs is the dir name, while spam.txt is the base name. "
   ]
  },
  {
   "cell_type": "code",
   "execution_count": null,
   "id": "43d145f4",
   "metadata": {},
   "outputs": [],
   "source": [
    "6. What are the three “mode” arguments that can be passed to the open() function?\n",
    "\n",
    "ANS:- The string 'r' for read mode, 'w' for write mode, and 'a' for append mode."
   ]
  },
  {
   "cell_type": "code",
   "execution_count": null,
   "id": "2dd1f5e3",
   "metadata": {},
   "outputs": [],
   "source": [
    "7. What happens if an existing file is opened in write mode?\n",
    "\n",
    "ANS:- An existing file opened in write mode is erased and completely overwritten."
   ]
  },
  {
   "cell_type": "code",
   "execution_count": null,
   "id": "8ab54dac",
   "metadata": {},
   "outputs": [],
   "source": [
    "8. How do you tell the difference between read() and readlines()?\n",
    "\n",
    "ANS:- The read() method returns the file's entire contents as a single string value. The readlines() method returns a\n",
    "     list of strings, where each string is a new line from the file's contents."
   ]
  },
  {
   "cell_type": "code",
   "execution_count": null,
   "id": "abd49ca5",
   "metadata": {},
   "outputs": [],
   "source": [
    "9. What data structure does a shelf value resemble?\n",
    "\n",
    "ANS:- A shelf value resembles a dictionary value; it has keys and values, along with keys() and values() method that\n",
    "    work similarly to the dictionary method of the same names."
   ]
  }
 ],
 "metadata": {
  "kernelspec": {
   "display_name": "Python 3 (ipykernel)",
   "language": "python",
   "name": "python3"
  },
  "language_info": {
   "codemirror_mode": {
    "name": "ipython",
    "version": 3
   },
   "file_extension": ".py",
   "mimetype": "text/x-python",
   "name": "python",
   "nbconvert_exporter": "python",
   "pygments_lexer": "ipython3",
   "version": "3.9.7"
  }
 },
 "nbformat": 4,
 "nbformat_minor": 5
}
